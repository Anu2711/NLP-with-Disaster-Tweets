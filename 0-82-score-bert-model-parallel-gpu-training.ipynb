{
 "cells": [
  {
   "cell_type": "markdown",
   "id": "89a4b5a7",
   "metadata": {
    "papermill": {
     "duration": 0.006687,
     "end_time": "2025-09-15T10:23:43.760253",
     "exception": false,
     "start_time": "2025-09-15T10:23:43.753566",
     "status": "completed"
    },
    "tags": []
   },
   "source": [
    "# Notebook Introduction\n",
    "This notebook covers my implementation for classifying twitter tweets as disaster/non-disaster. I've developed a simple distilBERT classification model which achieved a public score of 0.82 on the Kaggle Leaderboard.\n",
    "\n",
    "Other things covered in this notebook is training on GPUs, and parallelizing training on GPUs.\n",
    "\n",
    "Please do leave comments if some part of the code is unclear - would like to improve these notebooks and hopefully have someone else learn through my work :)"
   ]
  },
  {
   "cell_type": "markdown",
   "id": "e613cecf",
   "metadata": {
    "papermill": {
     "duration": 0.005315,
     "end_time": "2025-09-15T10:23:43.771456",
     "exception": false,
     "start_time": "2025-09-15T10:23:43.766141",
     "status": "completed"
    },
    "tags": []
   },
   "source": [
    "# Imports"
   ]
  },
  {
   "cell_type": "code",
   "execution_count": 1,
   "id": "8be0ded8",
   "metadata": {
    "_cell_guid": "b1076dfc-b9ad-4769-8c92-a6c4dae69d19",
    "_uuid": "8f2839f25d086af736a60e9eeb907d3b93b6e0e5",
    "execution": {
     "iopub.execute_input": "2025-09-15T10:23:43.783586Z",
     "iopub.status.busy": "2025-09-15T10:23:43.783024Z",
     "iopub.status.idle": "2025-09-15T10:23:52.481071Z",
     "shell.execute_reply": "2025-09-15T10:23:52.480261Z"
    },
    "papermill": {
     "duration": 8.705599,
     "end_time": "2025-09-15T10:23:52.482524",
     "exception": false,
     "start_time": "2025-09-15T10:23:43.776925",
     "status": "completed"
    },
    "tags": []
   },
   "outputs": [],
   "source": [
    "import numpy as np\n",
    "import pandas as pd\n",
    "from sklearn.model_selection import train_test_split\n",
    "from sklearn.linear_model import LogisticRegression\n",
    "from sklearn.model_selection import GridSearchCV\n",
    "from sklearn.model_selection import cross_val_score\n",
    "import torch\n",
    "import transformers as ppb\n",
    "import warnings\n",
    "import re"
   ]
  },
  {
   "cell_type": "markdown",
   "id": "cb3ed645",
   "metadata": {
    "papermill": {
     "duration": 0.005509,
     "end_time": "2025-09-15T10:23:52.494681",
     "exception": false,
     "start_time": "2025-09-15T10:23:52.489172",
     "status": "completed"
    },
    "tags": []
   },
   "source": [
    "# Loading the Data"
   ]
  },
  {
   "cell_type": "code",
   "execution_count": 2,
   "id": "e909661f",
   "metadata": {
    "execution": {
     "iopub.execute_input": "2025-09-15T10:23:52.506795Z",
     "iopub.status.busy": "2025-09-15T10:23:52.506164Z",
     "iopub.status.idle": "2025-09-15T10:23:52.555365Z",
     "shell.execute_reply": "2025-09-15T10:23:52.554868Z"
    },
    "papermill": {
     "duration": 0.056295,
     "end_time": "2025-09-15T10:23:52.556387",
     "exception": false,
     "start_time": "2025-09-15T10:23:52.500092",
     "status": "completed"
    },
    "tags": []
   },
   "outputs": [],
   "source": [
    "df_train = pd.read_csv(\"/kaggle/input/nlp-getting-started/train.csv\")"
   ]
  },
  {
   "cell_type": "markdown",
   "id": "efd6ebb4",
   "metadata": {
    "papermill": {
     "duration": 0.005257,
     "end_time": "2025-09-15T10:23:52.567142",
     "exception": false,
     "start_time": "2025-09-15T10:23:52.561885",
     "status": "completed"
    },
    "tags": []
   },
   "source": [
    "# Load BERT\n",
    "\n",
    "Loading the BERT model. I've used the DistilBert model in this case to reduce computation time."
   ]
  },
  {
   "cell_type": "code",
   "execution_count": 3,
   "id": "4fb4adf7",
   "metadata": {
    "execution": {
     "iopub.execute_input": "2025-09-15T10:23:52.579265Z",
     "iopub.status.busy": "2025-09-15T10:23:52.579057Z",
     "iopub.status.idle": "2025-09-15T10:24:14.765992Z",
     "shell.execute_reply": "2025-09-15T10:24:14.765135Z"
    },
    "papermill": {
     "duration": 22.194489,
     "end_time": "2025-09-15T10:24:14.767227",
     "exception": false,
     "start_time": "2025-09-15T10:23:52.572738",
     "status": "completed"
    },
    "tags": []
   },
   "outputs": [
    {
     "name": "stderr",
     "output_type": "stream",
     "text": [
      "2025-09-15 10:24:00.621980: E external/local_xla/xla/stream_executor/cuda/cuda_fft.cc:477] Unable to register cuFFT factory: Attempting to register factory for plugin cuFFT when one has already been registered\n",
      "WARNING: All log messages before absl::InitializeLog() is called are written to STDERR\n",
      "E0000 00:00:1757931840.806737      19 cuda_dnn.cc:8310] Unable to register cuDNN factory: Attempting to register factory for plugin cuDNN when one has already been registered\n",
      "E0000 00:00:1757931840.869295      19 cuda_blas.cc:1418] Unable to register cuBLAS factory: Attempting to register factory for plugin cuBLAS when one has already been registered\n"
     ]
    },
    {
     "data": {
      "application/vnd.jupyter.widget-view+json": {
       "model_id": "ac82666f9d8b4c129f4724e18073ffc3",
       "version_major": 2,
       "version_minor": 0
      },
      "text/plain": [
       "tokenizer_config.json:   0%|          | 0.00/48.0 [00:00<?, ?B/s]"
      ]
     },
     "metadata": {},
     "output_type": "display_data"
    },
    {
     "data": {
      "application/vnd.jupyter.widget-view+json": {
       "model_id": "96ad56ada1e743e69f7ac1d815d4e2b9",
       "version_major": 2,
       "version_minor": 0
      },
      "text/plain": [
       "vocab.txt:   0%|          | 0.00/232k [00:00<?, ?B/s]"
      ]
     },
     "metadata": {},
     "output_type": "display_data"
    },
    {
     "data": {
      "application/vnd.jupyter.widget-view+json": {
       "model_id": "cbcc29a05a3b4f188e4077fcff5f6be6",
       "version_major": 2,
       "version_minor": 0
      },
      "text/plain": [
       "tokenizer.json:   0%|          | 0.00/466k [00:00<?, ?B/s]"
      ]
     },
     "metadata": {},
     "output_type": "display_data"
    },
    {
     "data": {
      "application/vnd.jupyter.widget-view+json": {
       "model_id": "cd033959a9854b7bbc07d6c012f9eb4d",
       "version_major": 2,
       "version_minor": 0
      },
      "text/plain": [
       "config.json:   0%|          | 0.00/483 [00:00<?, ?B/s]"
      ]
     },
     "metadata": {},
     "output_type": "display_data"
    },
    {
     "data": {
      "application/vnd.jupyter.widget-view+json": {
       "model_id": "1c4c91ddcc604adf8870b6464e084975",
       "version_major": 2,
       "version_minor": 0
      },
      "text/plain": [
       "model.safetensors:   0%|          | 0.00/268M [00:00<?, ?B/s]"
      ]
     },
     "metadata": {},
     "output_type": "display_data"
    },
    {
     "name": "stderr",
     "output_type": "stream",
     "text": [
      "Some weights of DistilBertForSequenceClassification were not initialized from the model checkpoint at distilbert-base-uncased and are newly initialized: ['classifier.bias', 'classifier.weight', 'pre_classifier.bias', 'pre_classifier.weight']\n",
      "You should probably TRAIN this model on a down-stream task to be able to use it for predictions and inference.\n"
     ]
    }
   ],
   "source": [
    "from transformers import DistilBertForSequenceClassification, DistilBertTokenizer\n",
    "\n",
    "# Load pretrained tokenizer\n",
    "tokenizer = DistilBertTokenizer.from_pretrained('distilbert-base-uncased')\n",
    "\n",
    "# Load pretrained model with classification head\n",
    "model = DistilBertForSequenceClassification.from_pretrained(\n",
    "    'distilbert-base-uncased',\n",
    "    num_labels=2  # binary classification: disaster / non-disaster\n",
    ")\n",
    "\n"
   ]
  },
  {
   "cell_type": "markdown",
   "id": "060c19f2",
   "metadata": {
    "papermill": {
     "duration": 0.006114,
     "end_time": "2025-09-15T10:24:14.780544",
     "exception": false,
     "start_time": "2025-09-15T10:24:14.774430",
     "status": "completed"
    },
    "tags": []
   },
   "source": [
    "# Pre-processing Text\n",
    "\n",
    "I've highlighted some of exploratory analysis for this dataset. I noticed a lot of tweets contained mentions, URLs and hashtags. Since BERT would interpret @BBCNews or other accounts as separate words, and likely would not have a lot of these available in its vocabulary, I generalised mentions and URLs to tags \\<URL\\>, \\<MENTION\\>. While the URL/Mention itself may not provide a lot of useful information to the model, the presence/absence of it could help the model to classify between disaster/non-disaster.\n",
    "Lastly, I removed punctuations from the tweets as I did not think it provided any useful information to the model.\n",
    "\n",
    "For the future, I believe we could do some study on the length of the tweets, number of punctuations (maybe exclamation marks could indicate adversity) and create features to feed into the model for the same."
   ]
  },
  {
   "cell_type": "markdown",
   "id": "4a5f6b6a",
   "metadata": {
    "papermill": {
     "duration": 0.005796,
     "end_time": "2025-09-15T10:24:14.792375",
     "exception": false,
     "start_time": "2025-09-15T10:24:14.786579",
     "status": "completed"
    },
    "tags": []
   },
   "source": [
    "## Check tokenized text created by BERT"
   ]
  },
  {
   "cell_type": "code",
   "execution_count": 4,
   "id": "aadcc610",
   "metadata": {
    "execution": {
     "iopub.execute_input": "2025-09-15T10:24:14.805746Z",
     "iopub.status.busy": "2025-09-15T10:24:14.805026Z",
     "iopub.status.idle": "2025-09-15T10:24:16.853473Z",
     "shell.execute_reply": "2025-09-15T10:24:16.852906Z"
    },
    "papermill": {
     "duration": 2.05645,
     "end_time": "2025-09-15T10:24:16.854741",
     "exception": false,
     "start_time": "2025-09-15T10:24:14.798291",
     "status": "completed"
    },
    "tags": []
   },
   "outputs": [],
   "source": [
    "df_train['tokenized'] = df_train['text'].apply((lambda x: tokenizer.tokenize(x)))"
   ]
  },
  {
   "cell_type": "code",
   "execution_count": 5,
   "id": "2983fd0a",
   "metadata": {
    "execution": {
     "iopub.execute_input": "2025-09-15T10:24:16.868743Z",
     "iopub.status.busy": "2025-09-15T10:24:16.868501Z",
     "iopub.status.idle": "2025-09-15T10:24:16.887551Z",
     "shell.execute_reply": "2025-09-15T10:24:16.887004Z"
    },
    "papermill": {
     "duration": 0.027147,
     "end_time": "2025-09-15T10:24:16.888650",
     "exception": false,
     "start_time": "2025-09-15T10:24:16.861503",
     "status": "completed"
    },
    "tags": []
   },
   "outputs": [
    {
     "data": {
      "text/html": [
       "<div>\n",
       "<style scoped>\n",
       "    .dataframe tbody tr th:only-of-type {\n",
       "        vertical-align: middle;\n",
       "    }\n",
       "\n",
       "    .dataframe tbody tr th {\n",
       "        vertical-align: top;\n",
       "    }\n",
       "\n",
       "    .dataframe thead th {\n",
       "        text-align: right;\n",
       "    }\n",
       "</style>\n",
       "<table border=\"1\" class=\"dataframe\">\n",
       "  <thead>\n",
       "    <tr style=\"text-align: right;\">\n",
       "      <th></th>\n",
       "      <th>id</th>\n",
       "      <th>keyword</th>\n",
       "      <th>location</th>\n",
       "      <th>text</th>\n",
       "      <th>target</th>\n",
       "      <th>tokenized</th>\n",
       "    </tr>\n",
       "  </thead>\n",
       "  <tbody>\n",
       "    <tr>\n",
       "      <th>0</th>\n",
       "      <td>1</td>\n",
       "      <td>NaN</td>\n",
       "      <td>NaN</td>\n",
       "      <td>Our Deeds are the Reason of this #earthquake M...</td>\n",
       "      <td>1</td>\n",
       "      <td>[our, deeds, are, the, reason, of, this, #, ea...</td>\n",
       "    </tr>\n",
       "    <tr>\n",
       "      <th>1</th>\n",
       "      <td>4</td>\n",
       "      <td>NaN</td>\n",
       "      <td>NaN</td>\n",
       "      <td>Forest fire near La Ronge Sask. Canada</td>\n",
       "      <td>1</td>\n",
       "      <td>[forest, fire, near, la, ron, ##ge, sas, ##k, ...</td>\n",
       "    </tr>\n",
       "    <tr>\n",
       "      <th>2</th>\n",
       "      <td>5</td>\n",
       "      <td>NaN</td>\n",
       "      <td>NaN</td>\n",
       "      <td>All residents asked to 'shelter in place' are ...</td>\n",
       "      <td>1</td>\n",
       "      <td>[all, residents, asked, to, ', shelter, in, pl...</td>\n",
       "    </tr>\n",
       "    <tr>\n",
       "      <th>3</th>\n",
       "      <td>6</td>\n",
       "      <td>NaN</td>\n",
       "      <td>NaN</td>\n",
       "      <td>13,000 people receive #wildfires evacuation or...</td>\n",
       "      <td>1</td>\n",
       "      <td>[13, ,, 000, people, receive, #, wild, ##fires...</td>\n",
       "    </tr>\n",
       "    <tr>\n",
       "      <th>4</th>\n",
       "      <td>7</td>\n",
       "      <td>NaN</td>\n",
       "      <td>NaN</td>\n",
       "      <td>Just got sent this photo from Ruby #Alaska as ...</td>\n",
       "      <td>1</td>\n",
       "      <td>[just, got, sent, this, photo, from, ruby, #, ...</td>\n",
       "    </tr>\n",
       "  </tbody>\n",
       "</table>\n",
       "</div>"
      ],
      "text/plain": [
       "   id keyword location                                               text  \\\n",
       "0   1     NaN      NaN  Our Deeds are the Reason of this #earthquake M...   \n",
       "1   4     NaN      NaN             Forest fire near La Ronge Sask. Canada   \n",
       "2   5     NaN      NaN  All residents asked to 'shelter in place' are ...   \n",
       "3   6     NaN      NaN  13,000 people receive #wildfires evacuation or...   \n",
       "4   7     NaN      NaN  Just got sent this photo from Ruby #Alaska as ...   \n",
       "\n",
       "   target                                          tokenized  \n",
       "0       1  [our, deeds, are, the, reason, of, this, #, ea...  \n",
       "1       1  [forest, fire, near, la, ron, ##ge, sas, ##k, ...  \n",
       "2       1  [all, residents, asked, to, ', shelter, in, pl...  \n",
       "3       1  [13, ,, 000, people, receive, #, wild, ##fires...  \n",
       "4       1  [just, got, sent, this, photo, from, ruby, #, ...  "
      ]
     },
     "execution_count": 5,
     "metadata": {},
     "output_type": "execute_result"
    }
   ],
   "source": [
    "df_train.head()"
   ]
  },
  {
   "cell_type": "code",
   "execution_count": 6,
   "id": "dc02349a",
   "metadata": {
    "execution": {
     "iopub.execute_input": "2025-09-15T10:24:16.902222Z",
     "iopub.status.busy": "2025-09-15T10:24:16.902015Z",
     "iopub.status.idle": "2025-09-15T10:24:16.968203Z",
     "shell.execute_reply": "2025-09-15T10:24:16.967612Z"
    },
    "papermill": {
     "duration": 0.073912,
     "end_time": "2025-09-15T10:24:16.969212",
     "exception": false,
     "start_time": "2025-09-15T10:24:16.895300",
     "status": "completed"
    },
    "tags": []
   },
   "outputs": [
    {
     "data": {
      "text/html": [
       "<style type=\"text/css\">\n",
       "#T_470c5_row0_col3, #T_470c5_row1_col3, #T_470c5_row2_col3, #T_470c5_row3_col3, #T_470c5_row4_col3, #T_470c5_row5_col3, #T_470c5_row6_col3, #T_470c5_row7_col3, #T_470c5_row8_col3, #T_470c5_row9_col3 {\n",
       "  white-space: pre-wrap;\n",
       "  word-wrap: break-word;\n",
       "}\n",
       "</style>\n",
       "<table id=\"T_470c5\">\n",
       "  <thead>\n",
       "    <tr>\n",
       "      <th class=\"blank level0\" >&nbsp;</th>\n",
       "      <th id=\"T_470c5_level0_col0\" class=\"col_heading level0 col0\" >id</th>\n",
       "      <th id=\"T_470c5_level0_col1\" class=\"col_heading level0 col1\" >keyword</th>\n",
       "      <th id=\"T_470c5_level0_col2\" class=\"col_heading level0 col2\" >location</th>\n",
       "      <th id=\"T_470c5_level0_col3\" class=\"col_heading level0 col3\" >text</th>\n",
       "      <th id=\"T_470c5_level0_col4\" class=\"col_heading level0 col4\" >target</th>\n",
       "      <th id=\"T_470c5_level0_col5\" class=\"col_heading level0 col5\" >tokenized</th>\n",
       "    </tr>\n",
       "  </thead>\n",
       "  <tbody>\n",
       "    <tr>\n",
       "      <th id=\"T_470c5_level0_row0\" class=\"row_heading level0 row0\" >0</th>\n",
       "      <td id=\"T_470c5_row0_col0\" class=\"data row0 col0\" >1</td>\n",
       "      <td id=\"T_470c5_row0_col1\" class=\"data row0 col1\" >nan</td>\n",
       "      <td id=\"T_470c5_row0_col2\" class=\"data row0 col2\" >nan</td>\n",
       "      <td id=\"T_470c5_row0_col3\" class=\"data row0 col3\" >Our Deeds are the Reason of this #earthquake May ALLAH Forgive us all</td>\n",
       "      <td id=\"T_470c5_row0_col4\" class=\"data row0 col4\" >1</td>\n",
       "      <td id=\"T_470c5_row0_col5\" class=\"data row0 col5\" >['our', 'deeds', 'are', 'the', 'reason', 'of', 'this', '#', 'earthquake', 'may', 'allah', 'forgive', 'us', 'all']</td>\n",
       "    </tr>\n",
       "    <tr>\n",
       "      <th id=\"T_470c5_level0_row1\" class=\"row_heading level0 row1\" >1</th>\n",
       "      <td id=\"T_470c5_row1_col0\" class=\"data row1 col0\" >4</td>\n",
       "      <td id=\"T_470c5_row1_col1\" class=\"data row1 col1\" >nan</td>\n",
       "      <td id=\"T_470c5_row1_col2\" class=\"data row1 col2\" >nan</td>\n",
       "      <td id=\"T_470c5_row1_col3\" class=\"data row1 col3\" >Forest fire near La Ronge Sask. Canada</td>\n",
       "      <td id=\"T_470c5_row1_col4\" class=\"data row1 col4\" >1</td>\n",
       "      <td id=\"T_470c5_row1_col5\" class=\"data row1 col5\" >['forest', 'fire', 'near', 'la', 'ron', '##ge', 'sas', '##k', '.', 'canada']</td>\n",
       "    </tr>\n",
       "    <tr>\n",
       "      <th id=\"T_470c5_level0_row2\" class=\"row_heading level0 row2\" >2</th>\n",
       "      <td id=\"T_470c5_row2_col0\" class=\"data row2 col0\" >5</td>\n",
       "      <td id=\"T_470c5_row2_col1\" class=\"data row2 col1\" >nan</td>\n",
       "      <td id=\"T_470c5_row2_col2\" class=\"data row2 col2\" >nan</td>\n",
       "      <td id=\"T_470c5_row2_col3\" class=\"data row2 col3\" >All residents asked to 'shelter in place' are being notified by officers. No other evacuation or shelter in place orders are expected</td>\n",
       "      <td id=\"T_470c5_row2_col4\" class=\"data row2 col4\" >1</td>\n",
       "      <td id=\"T_470c5_row2_col5\" class=\"data row2 col5\" >['all', 'residents', 'asked', 'to', \"'\", 'shelter', 'in', 'place', \"'\", 'are', 'being', 'notified', 'by', 'officers', '.', 'no', 'other', 'evacuation', 'or', 'shelter', 'in', 'place', 'orders', 'are', 'expected']</td>\n",
       "    </tr>\n",
       "    <tr>\n",
       "      <th id=\"T_470c5_level0_row3\" class=\"row_heading level0 row3\" >3</th>\n",
       "      <td id=\"T_470c5_row3_col0\" class=\"data row3 col0\" >6</td>\n",
       "      <td id=\"T_470c5_row3_col1\" class=\"data row3 col1\" >nan</td>\n",
       "      <td id=\"T_470c5_row3_col2\" class=\"data row3 col2\" >nan</td>\n",
       "      <td id=\"T_470c5_row3_col3\" class=\"data row3 col3\" >13,000 people receive #wildfires evacuation orders in California </td>\n",
       "      <td id=\"T_470c5_row3_col4\" class=\"data row3 col4\" >1</td>\n",
       "      <td id=\"T_470c5_row3_col5\" class=\"data row3 col5\" >['13', ',', '000', 'people', 'receive', '#', 'wild', '##fires', 'evacuation', 'orders', 'in', 'california']</td>\n",
       "    </tr>\n",
       "    <tr>\n",
       "      <th id=\"T_470c5_level0_row4\" class=\"row_heading level0 row4\" >4</th>\n",
       "      <td id=\"T_470c5_row4_col0\" class=\"data row4 col0\" >7</td>\n",
       "      <td id=\"T_470c5_row4_col1\" class=\"data row4 col1\" >nan</td>\n",
       "      <td id=\"T_470c5_row4_col2\" class=\"data row4 col2\" >nan</td>\n",
       "      <td id=\"T_470c5_row4_col3\" class=\"data row4 col3\" >Just got sent this photo from Ruby #Alaska as smoke from #wildfires pours into a school </td>\n",
       "      <td id=\"T_470c5_row4_col4\" class=\"data row4 col4\" >1</td>\n",
       "      <td id=\"T_470c5_row4_col5\" class=\"data row4 col5\" >['just', 'got', 'sent', 'this', 'photo', 'from', 'ruby', '#', 'alaska', 'as', 'smoke', 'from', '#', 'wild', '##fires', 'pour', '##s', 'into', 'a', 'school']</td>\n",
       "    </tr>\n",
       "    <tr>\n",
       "      <th id=\"T_470c5_level0_row5\" class=\"row_heading level0 row5\" >5</th>\n",
       "      <td id=\"T_470c5_row5_col0\" class=\"data row5 col0\" >8</td>\n",
       "      <td id=\"T_470c5_row5_col1\" class=\"data row5 col1\" >nan</td>\n",
       "      <td id=\"T_470c5_row5_col2\" class=\"data row5 col2\" >nan</td>\n",
       "      <td id=\"T_470c5_row5_col3\" class=\"data row5 col3\" >#RockyFire Update => California Hwy. 20 closed in both directions due to Lake County fire - #CAfire #wildfires</td>\n",
       "      <td id=\"T_470c5_row5_col4\" class=\"data row5 col4\" >1</td>\n",
       "      <td id=\"T_470c5_row5_col5\" class=\"data row5 col5\" >['#', 'rocky', '##fire', 'update', '=', '>', 'california', 'h', '##wy', '.', '20', 'closed', 'in', 'both', 'directions', 'due', 'to', 'lake', 'county', 'fire', '-', '#', 'caf', '##ire', '#', 'wild', '##fires']</td>\n",
       "    </tr>\n",
       "    <tr>\n",
       "      <th id=\"T_470c5_level0_row6\" class=\"row_heading level0 row6\" >6</th>\n",
       "      <td id=\"T_470c5_row6_col0\" class=\"data row6 col0\" >10</td>\n",
       "      <td id=\"T_470c5_row6_col1\" class=\"data row6 col1\" >nan</td>\n",
       "      <td id=\"T_470c5_row6_col2\" class=\"data row6 col2\" >nan</td>\n",
       "      <td id=\"T_470c5_row6_col3\" class=\"data row6 col3\" >#flood #disaster Heavy rain causes flash flooding of streets in Manitou, Colorado Springs areas</td>\n",
       "      <td id=\"T_470c5_row6_col4\" class=\"data row6 col4\" >1</td>\n",
       "      <td id=\"T_470c5_row6_col5\" class=\"data row6 col5\" >['#', 'flood', '#', 'disaster', 'heavy', 'rain', 'causes', 'flash', 'flooding', 'of', 'streets', 'in', 'mani', '##tou', ',', 'colorado', 'springs', 'areas']</td>\n",
       "    </tr>\n",
       "    <tr>\n",
       "      <th id=\"T_470c5_level0_row7\" class=\"row_heading level0 row7\" >7</th>\n",
       "      <td id=\"T_470c5_row7_col0\" class=\"data row7 col0\" >13</td>\n",
       "      <td id=\"T_470c5_row7_col1\" class=\"data row7 col1\" >nan</td>\n",
       "      <td id=\"T_470c5_row7_col2\" class=\"data row7 col2\" >nan</td>\n",
       "      <td id=\"T_470c5_row7_col3\" class=\"data row7 col3\" >I'm on top of the hill and I can see a fire in the woods...</td>\n",
       "      <td id=\"T_470c5_row7_col4\" class=\"data row7 col4\" >1</td>\n",
       "      <td id=\"T_470c5_row7_col5\" class=\"data row7 col5\" >['i', \"'\", 'm', 'on', 'top', 'of', 'the', 'hill', 'and', 'i', 'can', 'see', 'a', 'fire', 'in', 'the', 'woods', '.', '.', '.']</td>\n",
       "    </tr>\n",
       "    <tr>\n",
       "      <th id=\"T_470c5_level0_row8\" class=\"row_heading level0 row8\" >8</th>\n",
       "      <td id=\"T_470c5_row8_col0\" class=\"data row8 col0\" >14</td>\n",
       "      <td id=\"T_470c5_row8_col1\" class=\"data row8 col1\" >nan</td>\n",
       "      <td id=\"T_470c5_row8_col2\" class=\"data row8 col2\" >nan</td>\n",
       "      <td id=\"T_470c5_row8_col3\" class=\"data row8 col3\" >There's an emergency evacuation happening now in the building across the street</td>\n",
       "      <td id=\"T_470c5_row8_col4\" class=\"data row8 col4\" >1</td>\n",
       "      <td id=\"T_470c5_row8_col5\" class=\"data row8 col5\" >['there', \"'\", 's', 'an', 'emergency', 'evacuation', 'happening', 'now', 'in', 'the', 'building', 'across', 'the', 'street']</td>\n",
       "    </tr>\n",
       "    <tr>\n",
       "      <th id=\"T_470c5_level0_row9\" class=\"row_heading level0 row9\" >9</th>\n",
       "      <td id=\"T_470c5_row9_col0\" class=\"data row9 col0\" >15</td>\n",
       "      <td id=\"T_470c5_row9_col1\" class=\"data row9 col1\" >nan</td>\n",
       "      <td id=\"T_470c5_row9_col2\" class=\"data row9 col2\" >nan</td>\n",
       "      <td id=\"T_470c5_row9_col3\" class=\"data row9 col3\" >I'm afraid that the tornado is coming to our area...</td>\n",
       "      <td id=\"T_470c5_row9_col4\" class=\"data row9 col4\" >1</td>\n",
       "      <td id=\"T_470c5_row9_col5\" class=\"data row9 col5\" >['i', \"'\", 'm', 'afraid', 'that', 'the', 'tornado', 'is', 'coming', 'to', 'our', 'area', '.', '.', '.']</td>\n",
       "    </tr>\n",
       "  </tbody>\n",
       "</table>\n"
      ],
      "text/plain": [
       "<pandas.io.formats.style.Styler at 0x786fb4e903d0>"
      ]
     },
     "execution_count": 6,
     "metadata": {},
     "output_type": "execute_result"
    }
   ],
   "source": [
    "(df_train.head(10)  # adjust number of rows\n",
    "   .style.set_properties(subset=['text'],  # replace 'text' with your tweet column name\n",
    "                         **{'white-space': 'pre-wrap', 'word-wrap': 'break-word'}))"
   ]
  },
  {
   "cell_type": "markdown",
   "id": "68ef2633",
   "metadata": {
    "papermill": {
     "duration": 0.006759,
     "end_time": "2025-09-15T10:24:16.982515",
     "exception": false,
     "start_time": "2025-09-15T10:24:16.975756",
     "status": "completed"
    },
    "tags": []
   },
   "source": [
    "## Check URLs in text"
   ]
  },
  {
   "cell_type": "code",
   "execution_count": 7,
   "id": "5ad1c006",
   "metadata": {
    "execution": {
     "iopub.execute_input": "2025-09-15T10:24:16.996836Z",
     "iopub.status.busy": "2025-09-15T10:24:16.996591Z",
     "iopub.status.idle": "2025-09-15T10:24:16.999847Z",
     "shell.execute_reply": "2025-09-15T10:24:16.999297Z"
    },
    "papermill": {
     "duration": 0.011374,
     "end_time": "2025-09-15T10:24:17.000870",
     "exception": false,
     "start_time": "2025-09-15T10:24:16.989496",
     "status": "completed"
    },
    "tags": []
   },
   "outputs": [],
   "source": [
    "def check_url(text):\n",
    "    url_pattern = re.compile(r'http[s]?://\\S+|www\\.\\S+')\n",
    "    return bool(url_pattern.search(text))"
   ]
  },
  {
   "cell_type": "code",
   "execution_count": 8,
   "id": "5446b5f2",
   "metadata": {
    "execution": {
     "iopub.execute_input": "2025-09-15T10:24:17.014481Z",
     "iopub.status.busy": "2025-09-15T10:24:17.014275Z",
     "iopub.status.idle": "2025-09-15T10:24:17.029747Z",
     "shell.execute_reply": "2025-09-15T10:24:17.029257Z"
    },
    "papermill": {
     "duration": 0.023413,
     "end_time": "2025-09-15T10:24:17.030719",
     "exception": false,
     "start_time": "2025-09-15T10:24:17.007306",
     "status": "completed"
    },
    "tags": []
   },
   "outputs": [],
   "source": [
    "df_train['contain_url'] = df_train['text'].apply(lambda x: check_url(x))"
   ]
  },
  {
   "cell_type": "code",
   "execution_count": 9,
   "id": "21f313f3",
   "metadata": {
    "execution": {
     "iopub.execute_input": "2025-09-15T10:24:17.088072Z",
     "iopub.status.busy": "2025-09-15T10:24:17.087829Z",
     "iopub.status.idle": "2025-09-15T10:24:17.103847Z",
     "shell.execute_reply": "2025-09-15T10:24:17.102882Z"
    },
    "papermill": {
     "duration": 0.067878,
     "end_time": "2025-09-15T10:24:17.105155",
     "exception": false,
     "start_time": "2025-09-15T10:24:17.037277",
     "status": "completed"
    },
    "tags": []
   },
   "outputs": [
    {
     "data": {
      "text/html": [
       "<style type=\"text/css\">\n",
       "#T_23672_row0_col3, #T_23672_row1_col3, #T_23672_row2_col3, #T_23672_row3_col3, #T_23672_row4_col3, #T_23672_row5_col3, #T_23672_row6_col3, #T_23672_row7_col3, #T_23672_row8_col3, #T_23672_row9_col3 {\n",
       "  white-space: pre-wrap;\n",
       "  word-wrap: break-word;\n",
       "}\n",
       "</style>\n",
       "<table id=\"T_23672\">\n",
       "  <thead>\n",
       "    <tr>\n",
       "      <th class=\"blank level0\" >&nbsp;</th>\n",
       "      <th id=\"T_23672_level0_col0\" class=\"col_heading level0 col0\" >id</th>\n",
       "      <th id=\"T_23672_level0_col1\" class=\"col_heading level0 col1\" >keyword</th>\n",
       "      <th id=\"T_23672_level0_col2\" class=\"col_heading level0 col2\" >location</th>\n",
       "      <th id=\"T_23672_level0_col3\" class=\"col_heading level0 col3\" >text</th>\n",
       "      <th id=\"T_23672_level0_col4\" class=\"col_heading level0 col4\" >target</th>\n",
       "      <th id=\"T_23672_level0_col5\" class=\"col_heading level0 col5\" >tokenized</th>\n",
       "      <th id=\"T_23672_level0_col6\" class=\"col_heading level0 col6\" >contain_url</th>\n",
       "    </tr>\n",
       "  </thead>\n",
       "  <tbody>\n",
       "    <tr>\n",
       "      <th id=\"T_23672_level0_row0\" class=\"row_heading level0 row0\" >31</th>\n",
       "      <td id=\"T_23672_row0_col0\" class=\"data row0 col0\" >48</td>\n",
       "      <td id=\"T_23672_row0_col1\" class=\"data row0 col1\" >ablaze</td>\n",
       "      <td id=\"T_23672_row0_col2\" class=\"data row0 col2\" >Birmingham</td>\n",
       "      <td id=\"T_23672_row0_col3\" class=\"data row0 col3\" >@bbcmtd Wholesale Markets ablaze http://t.co/lHYXEOHY6C</td>\n",
       "      <td id=\"T_23672_row0_col4\" class=\"data row0 col4\" >1</td>\n",
       "      <td id=\"T_23672_row0_col5\" class=\"data row0 col5\" >['@', 'bbc', '##mt', '##d', 'wholesale', 'markets', 'ab', '##laze', 'http', ':', '/', '/', 't', '.', 'co', '/', 'l', '##hy', '##x', '##eo', '##hy', '##6', '##c']</td>\n",
       "      <td id=\"T_23672_row0_col6\" class=\"data row0 col6\" >True</td>\n",
       "    </tr>\n",
       "    <tr>\n",
       "      <th id=\"T_23672_level0_row1\" class=\"row_heading level0 row1\" >32</th>\n",
       "      <td id=\"T_23672_row1_col0\" class=\"data row1 col0\" >49</td>\n",
       "      <td id=\"T_23672_row1_col1\" class=\"data row1 col1\" >ablaze</td>\n",
       "      <td id=\"T_23672_row1_col2\" class=\"data row1 col2\" >Est. September 2012 - Bristol</td>\n",
       "      <td id=\"T_23672_row1_col3\" class=\"data row1 col3\" >We always try to bring the heavy. #metal #RT http://t.co/YAo1e0xngw</td>\n",
       "      <td id=\"T_23672_row1_col4\" class=\"data row1 col4\" >0</td>\n",
       "      <td id=\"T_23672_row1_col5\" class=\"data row1 col5\" >['we', 'always', 'try', 'to', 'bring', 'the', 'heavy', '.', '#', 'metal', '#', 'rt', 'http', ':', '/', '/', 't', '.', 'co', '/', 'yao', '##1', '##e', '##0', '##x', '##ng', '##w']</td>\n",
       "      <td id=\"T_23672_row1_col6\" class=\"data row1 col6\" >True</td>\n",
       "    </tr>\n",
       "    <tr>\n",
       "      <th id=\"T_23672_level0_row2\" class=\"row_heading level0 row2\" >33</th>\n",
       "      <td id=\"T_23672_row2_col0\" class=\"data row2 col0\" >50</td>\n",
       "      <td id=\"T_23672_row2_col1\" class=\"data row2 col1\" >ablaze</td>\n",
       "      <td id=\"T_23672_row2_col2\" class=\"data row2 col2\" >AFRICA</td>\n",
       "      <td id=\"T_23672_row2_col3\" class=\"data row2 col3\" >#AFRICANBAZE: Breaking news:Nigeria flag set ablaze in Aba. http://t.co/2nndBGwyEi</td>\n",
       "      <td id=\"T_23672_row2_col4\" class=\"data row2 col4\" >1</td>\n",
       "      <td id=\"T_23672_row2_col5\" class=\"data row2 col5\" >['#', 'african', '##ba', '##ze', ':', 'breaking', 'news', ':', 'nigeria', 'flag', 'set', 'ab', '##laze', 'in', 'aba', '.', 'http', ':', '/', '/', 't', '.', 'co', '/', '2', '##nn', '##db', '##g', '##wy', '##ei']</td>\n",
       "      <td id=\"T_23672_row2_col6\" class=\"data row2 col6\" >True</td>\n",
       "    </tr>\n",
       "    <tr>\n",
       "      <th id=\"T_23672_level0_row3\" class=\"row_heading level0 row3\" >35</th>\n",
       "      <td id=\"T_23672_row3_col0\" class=\"data row3 col0\" >53</td>\n",
       "      <td id=\"T_23672_row3_col1\" class=\"data row3 col1\" >ablaze</td>\n",
       "      <td id=\"T_23672_row3_col2\" class=\"data row3 col2\" >London, UK</td>\n",
       "      <td id=\"T_23672_row3_col3\" class=\"data row3 col3\" >On plus side LOOK AT THE SKY LAST NIGHT IT WAS ABLAZE http://t.co/qqsmshaJ3N</td>\n",
       "      <td id=\"T_23672_row3_col4\" class=\"data row3 col4\" >0</td>\n",
       "      <td id=\"T_23672_row3_col5\" class=\"data row3 col5\" >['on', 'plus', 'side', 'look', 'at', 'the', 'sky', 'last', 'night', 'it', 'was', 'ab', '##laze', 'http', ':', '/', '/', 't', '.', 'co', '/', 'q', '##q', '##sms', '##ha', '##j', '##3', '##n']</td>\n",
       "      <td id=\"T_23672_row3_col6\" class=\"data row3 col6\" >True</td>\n",
       "    </tr>\n",
       "    <tr>\n",
       "      <th id=\"T_23672_level0_row4\" class=\"row_heading level0 row4\" >37</th>\n",
       "      <td id=\"T_23672_row4_col0\" class=\"data row4 col0\" >55</td>\n",
       "      <td id=\"T_23672_row4_col1\" class=\"data row4 col1\" >ablaze</td>\n",
       "      <td id=\"T_23672_row4_col2\" class=\"data row4 col2\" >World Wide!!</td>\n",
       "      <td id=\"T_23672_row4_col3\" class=\"data row4 col3\" >INEC Office in Abia Set Ablaze - http://t.co/3ImaomknnA</td>\n",
       "      <td id=\"T_23672_row4_col4\" class=\"data row4 col4\" >1</td>\n",
       "      <td id=\"T_23672_row4_col5\" class=\"data row4 col5\" >['in', '##ec', 'office', 'in', 'ab', '##ia', 'set', 'ab', '##laze', '-', 'http', ':', '/', '/', 't', '.', 'co', '/', '3', '##ima', '##om', '##k', '##nna']</td>\n",
       "      <td id=\"T_23672_row4_col6\" class=\"data row4 col6\" >True</td>\n",
       "    </tr>\n",
       "    <tr>\n",
       "      <th id=\"T_23672_level0_row5\" class=\"row_heading level0 row5\" >38</th>\n",
       "      <td id=\"T_23672_row5_col0\" class=\"data row5 col0\" >56</td>\n",
       "      <td id=\"T_23672_row5_col1\" class=\"data row5 col1\" >ablaze</td>\n",
       "      <td id=\"T_23672_row5_col2\" class=\"data row5 col2\" >nan</td>\n",
       "      <td id=\"T_23672_row5_col3\" class=\"data row5 col3\" >Barbados #Bridgetown JAMAICA ÛÒ Two cars set ablaze: SANTA CRUZ ÛÓ Head of the St Elizabeth Police Superintende...  http://t.co/wDUEaj8Q4J</td>\n",
       "      <td id=\"T_23672_row5_col4\" class=\"data row5 col4\" >1</td>\n",
       "      <td id=\"T_23672_row5_col5\" class=\"data row5 col5\" >['barbados', '#', 'bridget', '##own', 'jamaica', 'u', '##o', 'two', 'cars', 'set', 'ab', '##laze', ':', 'santa', 'cruz', 'u', '##o', 'head', 'of', 'the', 'st', 'elizabeth', 'police', 'super', '##int', '##end', '##e', '.', '.', '.', 'http', ':', '/', '/', 't', '.', 'co', '/', 'w', '##due', '##aj', '##8', '##q', '##4', '##j']</td>\n",
       "      <td id=\"T_23672_row5_col6\" class=\"data row5 col6\" >True</td>\n",
       "    </tr>\n",
       "    <tr>\n",
       "      <th id=\"T_23672_level0_row6\" class=\"row_heading level0 row6\" >40</th>\n",
       "      <td id=\"T_23672_row6_col0\" class=\"data row6 col0\" >59</td>\n",
       "      <td id=\"T_23672_row6_col1\" class=\"data row6 col1\" >ablaze</td>\n",
       "      <td id=\"T_23672_row6_col2\" class=\"data row6 col2\" >Live On Webcam</td>\n",
       "      <td id=\"T_23672_row6_col3\" class=\"data row6 col3\" >Check these out: http://t.co/rOI2NSmEJJ http://t.co/3Tj8ZjiN21 http://t.co/YDUiXEfIpE http://t.co/LxTjc87KLS #nsfw</td>\n",
       "      <td id=\"T_23672_row6_col4\" class=\"data row6 col4\" >0</td>\n",
       "      <td id=\"T_23672_row6_col5\" class=\"data row6 col5\" >['check', 'these', 'out', ':', 'http', ':', '/', '/', 't', '.', 'co', '/', 'roi', '##2', '##ns', '##me', '##j', '##j', 'http', ':', '/', '/', 't', '.', 'co', '/', '3', '##t', '##j', '##8', '##z', '##jin', '##21', 'http', ':', '/', '/', 't', '.', 'co', '/', 'yd', '##ui', '##x', '##ef', '##ipe', 'http', ':', '/', '/', 't', '.', 'co', '/', 'l', '##xt', '##j', '##c', '##8', '##7', '##k', '##ls', '#', 'ns', '##f', '##w']</td>\n",
       "      <td id=\"T_23672_row6_col6\" class=\"data row6 col6\" >True</td>\n",
       "    </tr>\n",
       "    <tr>\n",
       "      <th id=\"T_23672_level0_row7\" class=\"row_heading level0 row7\" >44</th>\n",
       "      <td id=\"T_23672_row7_col0\" class=\"data row7 col0\" >64</td>\n",
       "      <td id=\"T_23672_row7_col1\" class=\"data row7 col1\" >ablaze</td>\n",
       "      <td id=\"T_23672_row7_col2\" class=\"data row7 col2\" >nan</td>\n",
       "      <td id=\"T_23672_row7_col3\" class=\"data row7 col3\" >I wanted to set Chicago ablaze with my preaching... But not my hotel! http://t.co/o9qknbfOFX</td>\n",
       "      <td id=\"T_23672_row7_col4\" class=\"data row7 col4\" >0</td>\n",
       "      <td id=\"T_23672_row7_col5\" class=\"data row7 col5\" >['i', 'wanted', 'to', 'set', 'chicago', 'ab', '##laze', 'with', 'my', 'preaching', '.', '.', '.', 'but', 'not', 'my', 'hotel', '!', 'http', ':', '/', '/', 't', '.', 'co', '/', 'o', '##9', '##q', '##k', '##nb', '##fo', '##f', '##x']</td>\n",
       "      <td id=\"T_23672_row7_col6\" class=\"data row7 col6\" >True</td>\n",
       "    </tr>\n",
       "    <tr>\n",
       "      <th id=\"T_23672_level0_row8\" class=\"row_heading level0 row8\" >45</th>\n",
       "      <td id=\"T_23672_row8_col0\" class=\"data row8 col0\" >65</td>\n",
       "      <td id=\"T_23672_row8_col1\" class=\"data row8 col1\" >ablaze</td>\n",
       "      <td id=\"T_23672_row8_col2\" class=\"data row8 col2\" >nan</td>\n",
       "      <td id=\"T_23672_row8_col3\" class=\"data row8 col3\" >I gained 3 followers in the last week. You? Know your stats and grow with http://t.co/TIyUliF5c6</td>\n",
       "      <td id=\"T_23672_row8_col4\" class=\"data row8 col4\" >0</td>\n",
       "      <td id=\"T_23672_row8_col5\" class=\"data row8 col5\" >['i', 'gained', '3', 'followers', 'in', 'the', 'last', 'week', '.', 'you', '?', 'know', 'your', 'stats', 'and', 'grow', 'with', 'http', ':', '/', '/', 't', '.', 'co', '/', 'ti', '##yu', '##li', '##f', '##5', '##c', '##6']</td>\n",
       "      <td id=\"T_23672_row8_col6\" class=\"data row8 col6\" >True</td>\n",
       "    </tr>\n",
       "    <tr>\n",
       "      <th id=\"T_23672_level0_row9\" class=\"row_heading level0 row9\" >46</th>\n",
       "      <td id=\"T_23672_row9_col0\" class=\"data row9 col0\" >66</td>\n",
       "      <td id=\"T_23672_row9_col1\" class=\"data row9 col1\" >ablaze</td>\n",
       "      <td id=\"T_23672_row9_col2\" class=\"data row9 col2\" >GREENSBORO,NORTH CAROLINA</td>\n",
       "      <td id=\"T_23672_row9_col3\" class=\"data row9 col3\" >How the West was burned: Thousands of wildfires ablaze in California alone http://t.co/vl5TBR3wbr</td>\n",
       "      <td id=\"T_23672_row9_col4\" class=\"data row9 col4\" >1</td>\n",
       "      <td id=\"T_23672_row9_col5\" class=\"data row9 col5\" >['how', 'the', 'west', 'was', 'burned', ':', 'thousands', 'of', 'wild', '##fires', 'ab', '##laze', 'in', 'california', 'alone', 'http', ':', '/', '/', 't', '.', 'co', '/', 'v', '##l', '##5', '##t', '##br', '##3', '##w', '##br']</td>\n",
       "      <td id=\"T_23672_row9_col6\" class=\"data row9 col6\" >True</td>\n",
       "    </tr>\n",
       "  </tbody>\n",
       "</table>\n"
      ],
      "text/plain": [
       "<pandas.io.formats.style.Styler at 0x786fb4f639d0>"
      ]
     },
     "execution_count": 9,
     "metadata": {},
     "output_type": "execute_result"
    }
   ],
   "source": [
    "# df_train[df_train['contain_url'] == 1]\n",
    "\n",
    "(df_train[df_train['contain_url'] == 1].head(10)  # adjust number of rows\n",
    "   .style.set_properties(subset=['text'],  # replace 'text' with your tweet column name\n",
    "                         **{'white-space': 'pre-wrap', 'word-wrap': 'break-word'}))"
   ]
  },
  {
   "cell_type": "code",
   "execution_count": 10,
   "id": "813b0589",
   "metadata": {
    "execution": {
     "iopub.execute_input": "2025-09-15T10:24:17.127177Z",
     "iopub.status.busy": "2025-09-15T10:24:17.126605Z",
     "iopub.status.idle": "2025-09-15T10:24:17.134335Z",
     "shell.execute_reply": "2025-09-15T10:24:17.133845Z"
    },
    "papermill": {
     "duration": 0.018512,
     "end_time": "2025-09-15T10:24:17.135379",
     "exception": false,
     "start_time": "2025-09-15T10:24:17.116867",
     "status": "completed"
    },
    "tags": []
   },
   "outputs": [
    {
     "data": {
      "text/plain": [
       "target\n",
       "1    2172\n",
       "0    1799\n",
       "Name: count, dtype: int64"
      ]
     },
     "execution_count": 10,
     "metadata": {},
     "output_type": "execute_result"
    }
   ],
   "source": [
    "df_train[df_train['contain_url'] == 1]['target'].value_counts()"
   ]
  },
  {
   "cell_type": "code",
   "execution_count": 11,
   "id": "61434161",
   "metadata": {
    "execution": {
     "iopub.execute_input": "2025-09-15T10:24:17.150034Z",
     "iopub.status.busy": "2025-09-15T10:24:17.149841Z",
     "iopub.status.idle": "2025-09-15T10:24:17.153295Z",
     "shell.execute_reply": "2025-09-15T10:24:17.152815Z"
    },
    "papermill": {
     "duration": 0.011906,
     "end_time": "2025-09-15T10:24:17.154302",
     "exception": false,
     "start_time": "2025-09-15T10:24:17.142396",
     "status": "completed"
    },
    "tags": []
   },
   "outputs": [],
   "source": [
    "# Here We also Use Regular Expressions to Remove URLs from Text or Whole Corpus.\n",
    "def remove_url(text):\n",
    "    pattern = re.compile(r'https?://\\S+|www\\.\\S+')\n",
    "    return pattern.sub(r'[URL]', text)"
   ]
  },
  {
   "cell_type": "code",
   "execution_count": 12,
   "id": "c1ad5f75",
   "metadata": {
    "execution": {
     "iopub.execute_input": "2025-09-15T10:24:17.168958Z",
     "iopub.status.busy": "2025-09-15T10:24:17.168779Z",
     "iopub.status.idle": "2025-09-15T10:24:17.186187Z",
     "shell.execute_reply": "2025-09-15T10:24:17.185677Z"
    },
    "papermill": {
     "duration": 0.025851,
     "end_time": "2025-09-15T10:24:17.187183",
     "exception": false,
     "start_time": "2025-09-15T10:24:17.161332",
     "status": "completed"
    },
    "tags": []
   },
   "outputs": [],
   "source": [
    "df_train['cleaned_text'] = df_train['text'].apply(lambda x: remove_url(x))"
   ]
  },
  {
   "cell_type": "code",
   "execution_count": 13,
   "id": "1dff4fc0",
   "metadata": {
    "execution": {
     "iopub.execute_input": "2025-09-15T10:24:17.201457Z",
     "iopub.status.busy": "2025-09-15T10:24:17.201287Z",
     "iopub.status.idle": "2025-09-15T10:24:17.211291Z",
     "shell.execute_reply": "2025-09-15T10:24:17.210544Z"
    },
    "papermill": {
     "duration": 0.018458,
     "end_time": "2025-09-15T10:24:17.212460",
     "exception": false,
     "start_time": "2025-09-15T10:24:17.194002",
     "status": "completed"
    },
    "tags": []
   },
   "outputs": [
    {
     "data": {
      "text/html": [
       "<style type=\"text/css\">\n",
       "#T_5a924_row0_col3, #T_5a924_row1_col3, #T_5a924_row2_col3, #T_5a924_row3_col3, #T_5a924_row4_col3, #T_5a924_row5_col3, #T_5a924_row6_col3, #T_5a924_row7_col3, #T_5a924_row8_col3, #T_5a924_row9_col3 {\n",
       "  white-space: pre-wrap;\n",
       "  word-wrap: break-word;\n",
       "}\n",
       "</style>\n",
       "<table id=\"T_5a924\">\n",
       "  <thead>\n",
       "    <tr>\n",
       "      <th class=\"blank level0\" >&nbsp;</th>\n",
       "      <th id=\"T_5a924_level0_col0\" class=\"col_heading level0 col0\" >id</th>\n",
       "      <th id=\"T_5a924_level0_col1\" class=\"col_heading level0 col1\" >keyword</th>\n",
       "      <th id=\"T_5a924_level0_col2\" class=\"col_heading level0 col2\" >location</th>\n",
       "      <th id=\"T_5a924_level0_col3\" class=\"col_heading level0 col3\" >text</th>\n",
       "      <th id=\"T_5a924_level0_col4\" class=\"col_heading level0 col4\" >target</th>\n",
       "      <th id=\"T_5a924_level0_col5\" class=\"col_heading level0 col5\" >tokenized</th>\n",
       "      <th id=\"T_5a924_level0_col6\" class=\"col_heading level0 col6\" >contain_url</th>\n",
       "      <th id=\"T_5a924_level0_col7\" class=\"col_heading level0 col7\" >cleaned_text</th>\n",
       "    </tr>\n",
       "  </thead>\n",
       "  <tbody>\n",
       "    <tr>\n",
       "      <th id=\"T_5a924_level0_row0\" class=\"row_heading level0 row0\" >31</th>\n",
       "      <td id=\"T_5a924_row0_col0\" class=\"data row0 col0\" >48</td>\n",
       "      <td id=\"T_5a924_row0_col1\" class=\"data row0 col1\" >ablaze</td>\n",
       "      <td id=\"T_5a924_row0_col2\" class=\"data row0 col2\" >Birmingham</td>\n",
       "      <td id=\"T_5a924_row0_col3\" class=\"data row0 col3\" >@bbcmtd Wholesale Markets ablaze http://t.co/lHYXEOHY6C</td>\n",
       "      <td id=\"T_5a924_row0_col4\" class=\"data row0 col4\" >1</td>\n",
       "      <td id=\"T_5a924_row0_col5\" class=\"data row0 col5\" >['@', 'bbc', '##mt', '##d', 'wholesale', 'markets', 'ab', '##laze', 'http', ':', '/', '/', 't', '.', 'co', '/', 'l', '##hy', '##x', '##eo', '##hy', '##6', '##c']</td>\n",
       "      <td id=\"T_5a924_row0_col6\" class=\"data row0 col6\" >True</td>\n",
       "      <td id=\"T_5a924_row0_col7\" class=\"data row0 col7\" >@bbcmtd Wholesale Markets ablaze [URL]</td>\n",
       "    </tr>\n",
       "    <tr>\n",
       "      <th id=\"T_5a924_level0_row1\" class=\"row_heading level0 row1\" >32</th>\n",
       "      <td id=\"T_5a924_row1_col0\" class=\"data row1 col0\" >49</td>\n",
       "      <td id=\"T_5a924_row1_col1\" class=\"data row1 col1\" >ablaze</td>\n",
       "      <td id=\"T_5a924_row1_col2\" class=\"data row1 col2\" >Est. September 2012 - Bristol</td>\n",
       "      <td id=\"T_5a924_row1_col3\" class=\"data row1 col3\" >We always try to bring the heavy. #metal #RT http://t.co/YAo1e0xngw</td>\n",
       "      <td id=\"T_5a924_row1_col4\" class=\"data row1 col4\" >0</td>\n",
       "      <td id=\"T_5a924_row1_col5\" class=\"data row1 col5\" >['we', 'always', 'try', 'to', 'bring', 'the', 'heavy', '.', '#', 'metal', '#', 'rt', 'http', ':', '/', '/', 't', '.', 'co', '/', 'yao', '##1', '##e', '##0', '##x', '##ng', '##w']</td>\n",
       "      <td id=\"T_5a924_row1_col6\" class=\"data row1 col6\" >True</td>\n",
       "      <td id=\"T_5a924_row1_col7\" class=\"data row1 col7\" >We always try to bring the heavy. #metal #RT [URL]</td>\n",
       "    </tr>\n",
       "    <tr>\n",
       "      <th id=\"T_5a924_level0_row2\" class=\"row_heading level0 row2\" >33</th>\n",
       "      <td id=\"T_5a924_row2_col0\" class=\"data row2 col0\" >50</td>\n",
       "      <td id=\"T_5a924_row2_col1\" class=\"data row2 col1\" >ablaze</td>\n",
       "      <td id=\"T_5a924_row2_col2\" class=\"data row2 col2\" >AFRICA</td>\n",
       "      <td id=\"T_5a924_row2_col3\" class=\"data row2 col3\" >#AFRICANBAZE: Breaking news:Nigeria flag set ablaze in Aba. http://t.co/2nndBGwyEi</td>\n",
       "      <td id=\"T_5a924_row2_col4\" class=\"data row2 col4\" >1</td>\n",
       "      <td id=\"T_5a924_row2_col5\" class=\"data row2 col5\" >['#', 'african', '##ba', '##ze', ':', 'breaking', 'news', ':', 'nigeria', 'flag', 'set', 'ab', '##laze', 'in', 'aba', '.', 'http', ':', '/', '/', 't', '.', 'co', '/', '2', '##nn', '##db', '##g', '##wy', '##ei']</td>\n",
       "      <td id=\"T_5a924_row2_col6\" class=\"data row2 col6\" >True</td>\n",
       "      <td id=\"T_5a924_row2_col7\" class=\"data row2 col7\" >#AFRICANBAZE: Breaking news:Nigeria flag set ablaze in Aba. [URL]</td>\n",
       "    </tr>\n",
       "    <tr>\n",
       "      <th id=\"T_5a924_level0_row3\" class=\"row_heading level0 row3\" >35</th>\n",
       "      <td id=\"T_5a924_row3_col0\" class=\"data row3 col0\" >53</td>\n",
       "      <td id=\"T_5a924_row3_col1\" class=\"data row3 col1\" >ablaze</td>\n",
       "      <td id=\"T_5a924_row3_col2\" class=\"data row3 col2\" >London, UK</td>\n",
       "      <td id=\"T_5a924_row3_col3\" class=\"data row3 col3\" >On plus side LOOK AT THE SKY LAST NIGHT IT WAS ABLAZE http://t.co/qqsmshaJ3N</td>\n",
       "      <td id=\"T_5a924_row3_col4\" class=\"data row3 col4\" >0</td>\n",
       "      <td id=\"T_5a924_row3_col5\" class=\"data row3 col5\" >['on', 'plus', 'side', 'look', 'at', 'the', 'sky', 'last', 'night', 'it', 'was', 'ab', '##laze', 'http', ':', '/', '/', 't', '.', 'co', '/', 'q', '##q', '##sms', '##ha', '##j', '##3', '##n']</td>\n",
       "      <td id=\"T_5a924_row3_col6\" class=\"data row3 col6\" >True</td>\n",
       "      <td id=\"T_5a924_row3_col7\" class=\"data row3 col7\" >On plus side LOOK AT THE SKY LAST NIGHT IT WAS ABLAZE [URL]</td>\n",
       "    </tr>\n",
       "    <tr>\n",
       "      <th id=\"T_5a924_level0_row4\" class=\"row_heading level0 row4\" >37</th>\n",
       "      <td id=\"T_5a924_row4_col0\" class=\"data row4 col0\" >55</td>\n",
       "      <td id=\"T_5a924_row4_col1\" class=\"data row4 col1\" >ablaze</td>\n",
       "      <td id=\"T_5a924_row4_col2\" class=\"data row4 col2\" >World Wide!!</td>\n",
       "      <td id=\"T_5a924_row4_col3\" class=\"data row4 col3\" >INEC Office in Abia Set Ablaze - http://t.co/3ImaomknnA</td>\n",
       "      <td id=\"T_5a924_row4_col4\" class=\"data row4 col4\" >1</td>\n",
       "      <td id=\"T_5a924_row4_col5\" class=\"data row4 col5\" >['in', '##ec', 'office', 'in', 'ab', '##ia', 'set', 'ab', '##laze', '-', 'http', ':', '/', '/', 't', '.', 'co', '/', '3', '##ima', '##om', '##k', '##nna']</td>\n",
       "      <td id=\"T_5a924_row4_col6\" class=\"data row4 col6\" >True</td>\n",
       "      <td id=\"T_5a924_row4_col7\" class=\"data row4 col7\" >INEC Office in Abia Set Ablaze - [URL]</td>\n",
       "    </tr>\n",
       "    <tr>\n",
       "      <th id=\"T_5a924_level0_row5\" class=\"row_heading level0 row5\" >38</th>\n",
       "      <td id=\"T_5a924_row5_col0\" class=\"data row5 col0\" >56</td>\n",
       "      <td id=\"T_5a924_row5_col1\" class=\"data row5 col1\" >ablaze</td>\n",
       "      <td id=\"T_5a924_row5_col2\" class=\"data row5 col2\" >nan</td>\n",
       "      <td id=\"T_5a924_row5_col3\" class=\"data row5 col3\" >Barbados #Bridgetown JAMAICA ÛÒ Two cars set ablaze: SANTA CRUZ ÛÓ Head of the St Elizabeth Police Superintende...  http://t.co/wDUEaj8Q4J</td>\n",
       "      <td id=\"T_5a924_row5_col4\" class=\"data row5 col4\" >1</td>\n",
       "      <td id=\"T_5a924_row5_col5\" class=\"data row5 col5\" >['barbados', '#', 'bridget', '##own', 'jamaica', 'u', '##o', 'two', 'cars', 'set', 'ab', '##laze', ':', 'santa', 'cruz', 'u', '##o', 'head', 'of', 'the', 'st', 'elizabeth', 'police', 'super', '##int', '##end', '##e', '.', '.', '.', 'http', ':', '/', '/', 't', '.', 'co', '/', 'w', '##due', '##aj', '##8', '##q', '##4', '##j']</td>\n",
       "      <td id=\"T_5a924_row5_col6\" class=\"data row5 col6\" >True</td>\n",
       "      <td id=\"T_5a924_row5_col7\" class=\"data row5 col7\" >Barbados #Bridgetown JAMAICA ÛÒ Two cars set ablaze: SANTA CRUZ ÛÓ Head of the St Elizabeth Police Superintende...  [URL]</td>\n",
       "    </tr>\n",
       "    <tr>\n",
       "      <th id=\"T_5a924_level0_row6\" class=\"row_heading level0 row6\" >40</th>\n",
       "      <td id=\"T_5a924_row6_col0\" class=\"data row6 col0\" >59</td>\n",
       "      <td id=\"T_5a924_row6_col1\" class=\"data row6 col1\" >ablaze</td>\n",
       "      <td id=\"T_5a924_row6_col2\" class=\"data row6 col2\" >Live On Webcam</td>\n",
       "      <td id=\"T_5a924_row6_col3\" class=\"data row6 col3\" >Check these out: http://t.co/rOI2NSmEJJ http://t.co/3Tj8ZjiN21 http://t.co/YDUiXEfIpE http://t.co/LxTjc87KLS #nsfw</td>\n",
       "      <td id=\"T_5a924_row6_col4\" class=\"data row6 col4\" >0</td>\n",
       "      <td id=\"T_5a924_row6_col5\" class=\"data row6 col5\" >['check', 'these', 'out', ':', 'http', ':', '/', '/', 't', '.', 'co', '/', 'roi', '##2', '##ns', '##me', '##j', '##j', 'http', ':', '/', '/', 't', '.', 'co', '/', '3', '##t', '##j', '##8', '##z', '##jin', '##21', 'http', ':', '/', '/', 't', '.', 'co', '/', 'yd', '##ui', '##x', '##ef', '##ipe', 'http', ':', '/', '/', 't', '.', 'co', '/', 'l', '##xt', '##j', '##c', '##8', '##7', '##k', '##ls', '#', 'ns', '##f', '##w']</td>\n",
       "      <td id=\"T_5a924_row6_col6\" class=\"data row6 col6\" >True</td>\n",
       "      <td id=\"T_5a924_row6_col7\" class=\"data row6 col7\" >Check these out: [URL] [URL] [URL] [URL] #nsfw</td>\n",
       "    </tr>\n",
       "    <tr>\n",
       "      <th id=\"T_5a924_level0_row7\" class=\"row_heading level0 row7\" >44</th>\n",
       "      <td id=\"T_5a924_row7_col0\" class=\"data row7 col0\" >64</td>\n",
       "      <td id=\"T_5a924_row7_col1\" class=\"data row7 col1\" >ablaze</td>\n",
       "      <td id=\"T_5a924_row7_col2\" class=\"data row7 col2\" >nan</td>\n",
       "      <td id=\"T_5a924_row7_col3\" class=\"data row7 col3\" >I wanted to set Chicago ablaze with my preaching... But not my hotel! http://t.co/o9qknbfOFX</td>\n",
       "      <td id=\"T_5a924_row7_col4\" class=\"data row7 col4\" >0</td>\n",
       "      <td id=\"T_5a924_row7_col5\" class=\"data row7 col5\" >['i', 'wanted', 'to', 'set', 'chicago', 'ab', '##laze', 'with', 'my', 'preaching', '.', '.', '.', 'but', 'not', 'my', 'hotel', '!', 'http', ':', '/', '/', 't', '.', 'co', '/', 'o', '##9', '##q', '##k', '##nb', '##fo', '##f', '##x']</td>\n",
       "      <td id=\"T_5a924_row7_col6\" class=\"data row7 col6\" >True</td>\n",
       "      <td id=\"T_5a924_row7_col7\" class=\"data row7 col7\" >I wanted to set Chicago ablaze with my preaching... But not my hotel! [URL]</td>\n",
       "    </tr>\n",
       "    <tr>\n",
       "      <th id=\"T_5a924_level0_row8\" class=\"row_heading level0 row8\" >45</th>\n",
       "      <td id=\"T_5a924_row8_col0\" class=\"data row8 col0\" >65</td>\n",
       "      <td id=\"T_5a924_row8_col1\" class=\"data row8 col1\" >ablaze</td>\n",
       "      <td id=\"T_5a924_row8_col2\" class=\"data row8 col2\" >nan</td>\n",
       "      <td id=\"T_5a924_row8_col3\" class=\"data row8 col3\" >I gained 3 followers in the last week. You? Know your stats and grow with http://t.co/TIyUliF5c6</td>\n",
       "      <td id=\"T_5a924_row8_col4\" class=\"data row8 col4\" >0</td>\n",
       "      <td id=\"T_5a924_row8_col5\" class=\"data row8 col5\" >['i', 'gained', '3', 'followers', 'in', 'the', 'last', 'week', '.', 'you', '?', 'know', 'your', 'stats', 'and', 'grow', 'with', 'http', ':', '/', '/', 't', '.', 'co', '/', 'ti', '##yu', '##li', '##f', '##5', '##c', '##6']</td>\n",
       "      <td id=\"T_5a924_row8_col6\" class=\"data row8 col6\" >True</td>\n",
       "      <td id=\"T_5a924_row8_col7\" class=\"data row8 col7\" >I gained 3 followers in the last week. You? Know your stats and grow with [URL]</td>\n",
       "    </tr>\n",
       "    <tr>\n",
       "      <th id=\"T_5a924_level0_row9\" class=\"row_heading level0 row9\" >46</th>\n",
       "      <td id=\"T_5a924_row9_col0\" class=\"data row9 col0\" >66</td>\n",
       "      <td id=\"T_5a924_row9_col1\" class=\"data row9 col1\" >ablaze</td>\n",
       "      <td id=\"T_5a924_row9_col2\" class=\"data row9 col2\" >GREENSBORO,NORTH CAROLINA</td>\n",
       "      <td id=\"T_5a924_row9_col3\" class=\"data row9 col3\" >How the West was burned: Thousands of wildfires ablaze in California alone http://t.co/vl5TBR3wbr</td>\n",
       "      <td id=\"T_5a924_row9_col4\" class=\"data row9 col4\" >1</td>\n",
       "      <td id=\"T_5a924_row9_col5\" class=\"data row9 col5\" >['how', 'the', 'west', 'was', 'burned', ':', 'thousands', 'of', 'wild', '##fires', 'ab', '##laze', 'in', 'california', 'alone', 'http', ':', '/', '/', 't', '.', 'co', '/', 'v', '##l', '##5', '##t', '##br', '##3', '##w', '##br']</td>\n",
       "      <td id=\"T_5a924_row9_col6\" class=\"data row9 col6\" >True</td>\n",
       "      <td id=\"T_5a924_row9_col7\" class=\"data row9 col7\" >How the West was burned: Thousands of wildfires ablaze in California alone [URL]</td>\n",
       "    </tr>\n",
       "  </tbody>\n",
       "</table>\n"
      ],
      "text/plain": [
       "<pandas.io.formats.style.Styler at 0x786f6c1d5f10>"
      ]
     },
     "execution_count": 13,
     "metadata": {},
     "output_type": "execute_result"
    }
   ],
   "source": [
    "# df_train[df_train['contain_url'] == 1]\n",
    "\n",
    "(df_train[df_train['contain_url'] == 1].head(10)  # adjust number of rows\n",
    "   .style.set_properties(subset=['text'],  # replace 'text' with your tweet column name\n",
    "                         **{'white-space': 'pre-wrap', 'word-wrap': 'break-word'}))"
   ]
  },
  {
   "cell_type": "markdown",
   "id": "ff340346",
   "metadata": {
    "papermill": {
     "duration": 0.007126,
     "end_time": "2025-09-15T10:24:17.227215",
     "exception": false,
     "start_time": "2025-09-15T10:24:17.220089",
     "status": "completed"
    },
    "tags": []
   },
   "source": [
    "## Check mentions"
   ]
  },
  {
   "cell_type": "code",
   "execution_count": 14,
   "id": "92b3e40a",
   "metadata": {
    "execution": {
     "iopub.execute_input": "2025-09-15T10:24:17.242850Z",
     "iopub.status.busy": "2025-09-15T10:24:17.242625Z",
     "iopub.status.idle": "2025-09-15T10:24:17.245633Z",
     "shell.execute_reply": "2025-09-15T10:24:17.245168Z"
    },
    "papermill": {
     "duration": 0.011855,
     "end_time": "2025-09-15T10:24:17.246620",
     "exception": false,
     "start_time": "2025-09-15T10:24:17.234765",
     "status": "completed"
    },
    "tags": []
   },
   "outputs": [],
   "source": [
    "def contains_mention(text):\n",
    "    mention_pattern = re.compile(r'@[A-Za-z_]\\w*')\n",
    "    return bool(mention_pattern.search(text))"
   ]
  },
  {
   "cell_type": "code",
   "execution_count": 15,
   "id": "d2dd1fb9",
   "metadata": {
    "execution": {
     "iopub.execute_input": "2025-09-15T10:24:17.262096Z",
     "iopub.status.busy": "2025-09-15T10:24:17.261887Z",
     "iopub.status.idle": "2025-09-15T10:24:17.271551Z",
     "shell.execute_reply": "2025-09-15T10:24:17.270897Z"
    },
    "papermill": {
     "duration": 0.018353,
     "end_time": "2025-09-15T10:24:17.272516",
     "exception": false,
     "start_time": "2025-09-15T10:24:17.254163",
     "status": "completed"
    },
    "tags": []
   },
   "outputs": [],
   "source": [
    "df_train['contain_mentions'] = df_train['text'].apply(lambda x: contains_mention(x))"
   ]
  },
  {
   "cell_type": "code",
   "execution_count": 16,
   "id": "6d0f11df",
   "metadata": {
    "execution": {
     "iopub.execute_input": "2025-09-15T10:24:17.288172Z",
     "iopub.status.busy": "2025-09-15T10:24:17.287604Z",
     "iopub.status.idle": "2025-09-15T10:24:17.293617Z",
     "shell.execute_reply": "2025-09-15T10:24:17.293120Z"
    },
    "papermill": {
     "duration": 0.014869,
     "end_time": "2025-09-15T10:24:17.294725",
     "exception": false,
     "start_time": "2025-09-15T10:24:17.279856",
     "status": "completed"
    },
    "tags": []
   },
   "outputs": [
    {
     "data": {
      "text/plain": [
       "target\n",
       "0    1334\n",
       "1     658\n",
       "Name: count, dtype: int64"
      ]
     },
     "execution_count": 16,
     "metadata": {},
     "output_type": "execute_result"
    }
   ],
   "source": [
    "df_train[df_train['contain_mentions'] == 1]['target'].value_counts()"
   ]
  },
  {
   "cell_type": "code",
   "execution_count": 17,
   "id": "5a6c6554",
   "metadata": {
    "execution": {
     "iopub.execute_input": "2025-09-15T10:24:17.310335Z",
     "iopub.status.busy": "2025-09-15T10:24:17.310138Z",
     "iopub.status.idle": "2025-09-15T10:24:17.313119Z",
     "shell.execute_reply": "2025-09-15T10:24:17.312618Z"
    },
    "papermill": {
     "duration": 0.011871,
     "end_time": "2025-09-15T10:24:17.314105",
     "exception": false,
     "start_time": "2025-09-15T10:24:17.302234",
     "status": "completed"
    },
    "tags": []
   },
   "outputs": [],
   "source": [
    "# Here We also Use Regular Expressions to Remove URLs from Text or Whole Corpus.\n",
    "def remove_mentions(text):\n",
    "    pattern = re.compile(r'@[A-Za-z_]\\w*')\n",
    "    return pattern.sub(r'[MENTION]', text)"
   ]
  },
  {
   "cell_type": "code",
   "execution_count": 18,
   "id": "e977f979",
   "metadata": {
    "execution": {
     "iopub.execute_input": "2025-09-15T10:24:17.329739Z",
     "iopub.status.busy": "2025-09-15T10:24:17.329527Z",
     "iopub.status.idle": "2025-09-15T10:24:17.339658Z",
     "shell.execute_reply": "2025-09-15T10:24:17.339187Z"
    },
    "papermill": {
     "duration": 0.019222,
     "end_time": "2025-09-15T10:24:17.340715",
     "exception": false,
     "start_time": "2025-09-15T10:24:17.321493",
     "status": "completed"
    },
    "tags": []
   },
   "outputs": [],
   "source": [
    "df_train['cleaned_text'] = df_train['cleaned_text'].apply(lambda x: remove_mentions(x))"
   ]
  },
  {
   "cell_type": "code",
   "execution_count": 19,
   "id": "21cc8f3a",
   "metadata": {
    "execution": {
     "iopub.execute_input": "2025-09-15T10:24:17.356013Z",
     "iopub.status.busy": "2025-09-15T10:24:17.355821Z",
     "iopub.status.idle": "2025-09-15T10:24:17.365186Z",
     "shell.execute_reply": "2025-09-15T10:24:17.364597Z"
    },
    "papermill": {
     "duration": 0.018149,
     "end_time": "2025-09-15T10:24:17.366226",
     "exception": false,
     "start_time": "2025-09-15T10:24:17.348077",
     "status": "completed"
    },
    "tags": []
   },
   "outputs": [
    {
     "data": {
      "text/html": [
       "<style type=\"text/css\">\n",
       "#T_8a8ff_row0_col3, #T_8a8ff_row1_col3, #T_8a8ff_row2_col3, #T_8a8ff_row3_col3, #T_8a8ff_row4_col3, #T_8a8ff_row5_col3, #T_8a8ff_row6_col3, #T_8a8ff_row7_col3, #T_8a8ff_row8_col3, #T_8a8ff_row9_col3 {\n",
       "  white-space: pre-wrap;\n",
       "  word-wrap: break-word;\n",
       "}\n",
       "</style>\n",
       "<table id=\"T_8a8ff\">\n",
       "  <thead>\n",
       "    <tr>\n",
       "      <th class=\"blank level0\" >&nbsp;</th>\n",
       "      <th id=\"T_8a8ff_level0_col0\" class=\"col_heading level0 col0\" >id</th>\n",
       "      <th id=\"T_8a8ff_level0_col1\" class=\"col_heading level0 col1\" >keyword</th>\n",
       "      <th id=\"T_8a8ff_level0_col2\" class=\"col_heading level0 col2\" >location</th>\n",
       "      <th id=\"T_8a8ff_level0_col3\" class=\"col_heading level0 col3\" >text</th>\n",
       "      <th id=\"T_8a8ff_level0_col4\" class=\"col_heading level0 col4\" >target</th>\n",
       "      <th id=\"T_8a8ff_level0_col5\" class=\"col_heading level0 col5\" >tokenized</th>\n",
       "      <th id=\"T_8a8ff_level0_col6\" class=\"col_heading level0 col6\" >contain_url</th>\n",
       "      <th id=\"T_8a8ff_level0_col7\" class=\"col_heading level0 col7\" >cleaned_text</th>\n",
       "      <th id=\"T_8a8ff_level0_col8\" class=\"col_heading level0 col8\" >contain_mentions</th>\n",
       "    </tr>\n",
       "  </thead>\n",
       "  <tbody>\n",
       "    <tr>\n",
       "      <th id=\"T_8a8ff_level0_row0\" class=\"row_heading level0 row0\" >31</th>\n",
       "      <td id=\"T_8a8ff_row0_col0\" class=\"data row0 col0\" >48</td>\n",
       "      <td id=\"T_8a8ff_row0_col1\" class=\"data row0 col1\" >ablaze</td>\n",
       "      <td id=\"T_8a8ff_row0_col2\" class=\"data row0 col2\" >Birmingham</td>\n",
       "      <td id=\"T_8a8ff_row0_col3\" class=\"data row0 col3\" >@bbcmtd Wholesale Markets ablaze http://t.co/lHYXEOHY6C</td>\n",
       "      <td id=\"T_8a8ff_row0_col4\" class=\"data row0 col4\" >1</td>\n",
       "      <td id=\"T_8a8ff_row0_col5\" class=\"data row0 col5\" >['@', 'bbc', '##mt', '##d', 'wholesale', 'markets', 'ab', '##laze', 'http', ':', '/', '/', 't', '.', 'co', '/', 'l', '##hy', '##x', '##eo', '##hy', '##6', '##c']</td>\n",
       "      <td id=\"T_8a8ff_row0_col6\" class=\"data row0 col6\" >True</td>\n",
       "      <td id=\"T_8a8ff_row0_col7\" class=\"data row0 col7\" >[MENTION] Wholesale Markets ablaze [URL]</td>\n",
       "      <td id=\"T_8a8ff_row0_col8\" class=\"data row0 col8\" >True</td>\n",
       "    </tr>\n",
       "    <tr>\n",
       "      <th id=\"T_8a8ff_level0_row1\" class=\"row_heading level0 row1\" >36</th>\n",
       "      <td id=\"T_8a8ff_row1_col0\" class=\"data row1 col0\" >54</td>\n",
       "      <td id=\"T_8a8ff_row1_col1\" class=\"data row1 col1\" >ablaze</td>\n",
       "      <td id=\"T_8a8ff_row1_col2\" class=\"data row1 col2\" >Pretoria</td>\n",
       "      <td id=\"T_8a8ff_row1_col3\" class=\"data row1 col3\" >@PhDSquares #mufc they've built so much hype around new acquisitions but I doubt they will set the EPL ablaze this season.</td>\n",
       "      <td id=\"T_8a8ff_row1_col4\" class=\"data row1 col4\" >0</td>\n",
       "      <td id=\"T_8a8ff_row1_col5\" class=\"data row1 col5\" >['@', 'phd', '##s', '##qua', '##res', '#', 'mu', '##fc', 'they', \"'\", 've', 'built', 'so', 'much', 'h', '##ype', 'around', 'new', 'acquisitions', 'but', 'i', 'doubt', 'they', 'will', 'set', 'the', 'ep', '##l', 'ab', '##laze', 'this', 'season', '.']</td>\n",
       "      <td id=\"T_8a8ff_row1_col6\" class=\"data row1 col6\" >False</td>\n",
       "      <td id=\"T_8a8ff_row1_col7\" class=\"data row1 col7\" >[MENTION] #mufc they've built so much hype around new acquisitions but I doubt they will set the EPL ablaze this season.</td>\n",
       "      <td id=\"T_8a8ff_row1_col8\" class=\"data row1 col8\" >True</td>\n",
       "    </tr>\n",
       "    <tr>\n",
       "      <th id=\"T_8a8ff_level0_row2\" class=\"row_heading level0 row2\" >43</th>\n",
       "      <td id=\"T_8a8ff_row2_col0\" class=\"data row2 col0\" >63</td>\n",
       "      <td id=\"T_8a8ff_row2_col1\" class=\"data row2 col1\" >ablaze</td>\n",
       "      <td id=\"T_8a8ff_row2_col2\" class=\"data row2 col2\" >nan</td>\n",
       "      <td id=\"T_8a8ff_row2_col3\" class=\"data row2 col3\" >SOOOO PUMPED FOR ABLAZE ???? @southridgelife</td>\n",
       "      <td id=\"T_8a8ff_row2_col4\" class=\"data row2 col4\" >0</td>\n",
       "      <td id=\"T_8a8ff_row2_col5\" class=\"data row2 col5\" >['soo', '##oo', 'pumped', 'for', 'ab', '##laze', '?', '?', '?', '?', '@', 'south', '##ridge', '##life']</td>\n",
       "      <td id=\"T_8a8ff_row2_col6\" class=\"data row2 col6\" >False</td>\n",
       "      <td id=\"T_8a8ff_row2_col7\" class=\"data row2 col7\" >SOOOO PUMPED FOR ABLAZE ???? [MENTION]</td>\n",
       "      <td id=\"T_8a8ff_row2_col8\" class=\"data row2 col8\" >True</td>\n",
       "    </tr>\n",
       "    <tr>\n",
       "      <th id=\"T_8a8ff_level0_row3\" class=\"row_heading level0 row3\" >54</th>\n",
       "      <td id=\"T_8a8ff_row3_col0\" class=\"data row3 col0\" >78</td>\n",
       "      <td id=\"T_8a8ff_row3_col1\" class=\"data row3 col1\" >ablaze</td>\n",
       "      <td id=\"T_8a8ff_row3_col2\" class=\"data row3 col2\" >Abuja</td>\n",
       "      <td id=\"T_8a8ff_row3_col3\" class=\"data row3 col3\" >Noches El-Bestia '@Alexis_Sanchez: happy to see my teammates and training hard ?? goodnight gunners.?????? http://t.co/uc4j4jHvGR'</td>\n",
       "      <td id=\"T_8a8ff_row3_col4\" class=\"data row3 col4\" >0</td>\n",
       "      <td id=\"T_8a8ff_row3_col5\" class=\"data row3 col5\" >['no', '##ches', 'el', '-', 'best', '##ia', \"'\", '@', 'alexis', '_', 'sanchez', ':', 'happy', 'to', 'see', 'my', 'teammates', 'and', 'training', 'hard', '?', '?', 'goodnight', 'gunners', '.', '?', '?', '?', '?', '?', '?', 'http', ':', '/', '/', 't', '.', 'co', '/', 'uc', '##4', '##j', '##4', '##j', '##h', '##v', '##gr', \"'\"]</td>\n",
       "      <td id=\"T_8a8ff_row3_col6\" class=\"data row3 col6\" >True</td>\n",
       "      <td id=\"T_8a8ff_row3_col7\" class=\"data row3 col7\" >Noches El-Bestia '[MENTION]: happy to see my teammates and training hard ?? goodnight gunners.?????? [URL]</td>\n",
       "      <td id=\"T_8a8ff_row3_col8\" class=\"data row3 col8\" >True</td>\n",
       "    </tr>\n",
       "    <tr>\n",
       "      <th id=\"T_8a8ff_level0_row4\" class=\"row_heading level0 row4\" >63</th>\n",
       "      <td id=\"T_8a8ff_row4_col0\" class=\"data row4 col0\" >91</td>\n",
       "      <td id=\"T_8a8ff_row4_col1\" class=\"data row4 col1\" >ablaze</td>\n",
       "      <td id=\"T_8a8ff_row4_col2\" class=\"data row4 col2\" >Concord, CA</td>\n",
       "      <td id=\"T_8a8ff_row4_col3\" class=\"data row4 col3\" >@Navista7 Steve these fires out here are something else! California is a tinderbox - and this clown was setting my 'hood ablaze @News24680</td>\n",
       "      <td id=\"T_8a8ff_row4_col4\" class=\"data row4 col4\" >1</td>\n",
       "      <td id=\"T_8a8ff_row4_col5\" class=\"data row4 col5\" >['@', 'na', '##vis', '##ta', '##7', 'steve', 'these', 'fires', 'out', 'here', 'are', 'something', 'else', '!', 'california', 'is', 'a', 'tin', '##der', '##box', '-', 'and', 'this', 'clown', 'was', 'setting', 'my', \"'\", 'hood', 'ab', '##laze', '@', 'news', '##24', '##6', '##80']</td>\n",
       "      <td id=\"T_8a8ff_row4_col6\" class=\"data row4 col6\" >False</td>\n",
       "      <td id=\"T_8a8ff_row4_col7\" class=\"data row4 col7\" >[MENTION] Steve these fires out here are something else! California is a tinderbox - and this clown was setting my 'hood ablaze [MENTION]</td>\n",
       "      <td id=\"T_8a8ff_row4_col8\" class=\"data row4 col8\" >True</td>\n",
       "    </tr>\n",
       "    <tr>\n",
       "      <th id=\"T_8a8ff_level0_row5\" class=\"row_heading level0 row5\" >65</th>\n",
       "      <td id=\"T_8a8ff_row5_col0\" class=\"data row5 col0\" >93</td>\n",
       "      <td id=\"T_8a8ff_row5_col1\" class=\"data row5 col1\" >ablaze</td>\n",
       "      <td id=\"T_8a8ff_row5_col2\" class=\"data row5 col2\" >Birmingham</td>\n",
       "      <td id=\"T_8a8ff_row5_col3\" class=\"data row5 col3\" >@nxwestmidlands huge fire at Wholesale markets ablaze http://t.co/rwzbFVNXER</td>\n",
       "      <td id=\"T_8a8ff_row5_col4\" class=\"data row5 col4\" >1</td>\n",
       "      <td id=\"T_8a8ff_row5_col5\" class=\"data row5 col5\" >['@', 'n', '##x', '##west', '##mi', '##dl', '##ands', 'huge', 'fire', 'at', 'wholesale', 'markets', 'ab', '##laze', 'http', ':', '/', '/', 't', '.', 'co', '/', 'r', '##w', '##z', '##bf', '##vn', '##x', '##er']</td>\n",
       "      <td id=\"T_8a8ff_row5_col6\" class=\"data row5 col6\" >True</td>\n",
       "      <td id=\"T_8a8ff_row5_col7\" class=\"data row5 col7\" >[MENTION] huge fire at Wholesale markets ablaze [URL]</td>\n",
       "      <td id=\"T_8a8ff_row5_col8\" class=\"data row5 col8\" >True</td>\n",
       "    </tr>\n",
       "    <tr>\n",
       "      <th id=\"T_8a8ff_level0_row6\" class=\"row_heading level0 row6\" >66</th>\n",
       "      <td id=\"T_8a8ff_row6_col0\" class=\"data row6 col0\" >95</td>\n",
       "      <td id=\"T_8a8ff_row6_col1\" class=\"data row6 col1\" >ablaze</td>\n",
       "      <td id=\"T_8a8ff_row6_col2\" class=\"data row6 col2\" >San Francisco</td>\n",
       "      <td id=\"T_8a8ff_row6_col3\" class=\"data row6 col3\" >@ablaze what time does your talk go until? I don't know if I can make it due to work.</td>\n",
       "      <td id=\"T_8a8ff_row6_col4\" class=\"data row6 col4\" >0</td>\n",
       "      <td id=\"T_8a8ff_row6_col5\" class=\"data row6 col5\" >['@', 'ab', '##laze', 'what', 'time', 'does', 'your', 'talk', 'go', 'until', '?', 'i', 'don', \"'\", 't', 'know', 'if', 'i', 'can', 'make', 'it', 'due', 'to', 'work', '.']</td>\n",
       "      <td id=\"T_8a8ff_row6_col6\" class=\"data row6 col6\" >False</td>\n",
       "      <td id=\"T_8a8ff_row6_col7\" class=\"data row6 col7\" >[MENTION] what time does your talk go until? I don't know if I can make it due to work.</td>\n",
       "      <td id=\"T_8a8ff_row6_col8\" class=\"data row6 col8\" >True</td>\n",
       "    </tr>\n",
       "    <tr>\n",
       "      <th id=\"T_8a8ff_level0_row7\" class=\"row_heading level0 row7\" >75</th>\n",
       "      <td id=\"T_8a8ff_row7_col0\" class=\"data row7 col0\" >109</td>\n",
       "      <td id=\"T_8a8ff_row7_col1\" class=\"data row7 col1\" >accident</td>\n",
       "      <td id=\"T_8a8ff_row7_col2\" class=\"data row7 col2\" >nan</td>\n",
       "      <td id=\"T_8a8ff_row7_col3\" class=\"data row7 col3\" >RT @SleepJunkies: Sleeping pills double your risk of a car accident http://t.co/7s9Nm1fiCT</td>\n",
       "      <td id=\"T_8a8ff_row7_col4\" class=\"data row7 col4\" >0</td>\n",
       "      <td id=\"T_8a8ff_row7_col5\" class=\"data row7 col5\" >['rt', '@', 'sleep', '##jun', '##kie', '##s', ':', 'sleeping', 'pills', 'double', 'your', 'risk', 'of', 'a', 'car', 'accident', 'http', ':', '/', '/', 't', '.', 'co', '/', '7', '##s', '##9', '##n', '##m', '##1', '##fi', '##ct']</td>\n",
       "      <td id=\"T_8a8ff_row7_col6\" class=\"data row7 col6\" >True</td>\n",
       "      <td id=\"T_8a8ff_row7_col7\" class=\"data row7 col7\" >RT [MENTION]: Sleeping pills double your risk of a car accident [URL]</td>\n",
       "      <td id=\"T_8a8ff_row7_col8\" class=\"data row7 col8\" >True</td>\n",
       "    </tr>\n",
       "    <tr>\n",
       "      <th id=\"T_8a8ff_level0_row8\" class=\"row_heading level0 row8\" >97</th>\n",
       "      <td id=\"T_8a8ff_row8_col0\" class=\"data row8 col0\" >139</td>\n",
       "      <td id=\"T_8a8ff_row8_col1\" class=\"data row8 col1\" >accident</td>\n",
       "      <td id=\"T_8a8ff_row8_col2\" class=\"data row8 col2\" >Hagerstown, MD</td>\n",
       "      <td id=\"T_8a8ff_row8_col3\" class=\"data row8 col3\" >#BREAKING: there was a deadly motorcycle car accident that happened to #Hagerstown today. I'll have more details at 5 @Your4State. #WHAG</td>\n",
       "      <td id=\"T_8a8ff_row8_col4\" class=\"data row8 col4\" >1</td>\n",
       "      <td id=\"T_8a8ff_row8_col5\" class=\"data row8 col5\" >['#', 'breaking', ':', 'there', 'was', 'a', 'deadly', 'motorcycle', 'car', 'accident', 'that', 'happened', 'to', '#', 'ha', '##gers', '##town', 'today', '.', 'i', \"'\", 'll', 'have', 'more', 'details', 'at', '5', '@', 'your', '##4', '##sta', '##te', '.', '#', 'w', '##ha', '##g']</td>\n",
       "      <td id=\"T_8a8ff_row8_col6\" class=\"data row8 col6\" >False</td>\n",
       "      <td id=\"T_8a8ff_row8_col7\" class=\"data row8 col7\" >#BREAKING: there was a deadly motorcycle car accident that happened to #Hagerstown today. I'll have more details at 5 [MENTION]. #WHAG</td>\n",
       "      <td id=\"T_8a8ff_row8_col8\" class=\"data row8 col8\" >True</td>\n",
       "    </tr>\n",
       "    <tr>\n",
       "      <th id=\"T_8a8ff_level0_row9\" class=\"row_heading level0 row9\" >98</th>\n",
       "      <td id=\"T_8a8ff_row9_col0\" class=\"data row9 col0\" >141</td>\n",
       "      <td id=\"T_8a8ff_row9_col1\" class=\"data row9 col1\" >accident</td>\n",
       "      <td id=\"T_8a8ff_row9_col2\" class=\"data row9 col2\" >Gloucestershire , UK</td>\n",
       "      <td id=\"T_8a8ff_row9_col3\" class=\"data row9 col3\" >@flowri were you marinading it or was it an accident?</td>\n",
       "      <td id=\"T_8a8ff_row9_col4\" class=\"data row9 col4\" >0</td>\n",
       "      <td id=\"T_8a8ff_row9_col5\" class=\"data row9 col5\" >['@', 'flow', '##ri', 'were', 'you', 'marina', '##ding', 'it', 'or', 'was', 'it', 'an', 'accident', '?']</td>\n",
       "      <td id=\"T_8a8ff_row9_col6\" class=\"data row9 col6\" >False</td>\n",
       "      <td id=\"T_8a8ff_row9_col7\" class=\"data row9 col7\" >[MENTION] were you marinading it or was it an accident?</td>\n",
       "      <td id=\"T_8a8ff_row9_col8\" class=\"data row9 col8\" >True</td>\n",
       "    </tr>\n",
       "  </tbody>\n",
       "</table>\n"
      ],
      "text/plain": [
       "<pandas.io.formats.style.Styler at 0x786f6c16ca50>"
      ]
     },
     "execution_count": 19,
     "metadata": {},
     "output_type": "execute_result"
    }
   ],
   "source": [
    "(df_train[df_train['contain_mentions'] == 1].head(10)  # adjust number of rows\n",
    "   .style.set_properties(subset=['text'],  # replace 'text' with your tweet column name\n",
    "                         **{'white-space': 'pre-wrap', 'word-wrap': 'break-word'}))"
   ]
  },
  {
   "cell_type": "markdown",
   "id": "b136be34",
   "metadata": {
    "papermill": {
     "duration": 0.007491,
     "end_time": "2025-09-15T10:24:17.381481",
     "exception": false,
     "start_time": "2025-09-15T10:24:17.373990",
     "status": "completed"
    },
    "tags": []
   },
   "source": [
    "## Clean text to remove non-alphanumeric characters"
   ]
  },
  {
   "cell_type": "code",
   "execution_count": 20,
   "id": "3f7937b2",
   "metadata": {
    "execution": {
     "iopub.execute_input": "2025-09-15T10:24:17.397342Z",
     "iopub.status.busy": "2025-09-15T10:24:17.397147Z",
     "iopub.status.idle": "2025-09-15T10:24:17.400100Z",
     "shell.execute_reply": "2025-09-15T10:24:17.399572Z"
    },
    "papermill": {
     "duration": 0.011992,
     "end_time": "2025-09-15T10:24:17.401078",
     "exception": false,
     "start_time": "2025-09-15T10:24:17.389086",
     "status": "completed"
    },
    "tags": []
   },
   "outputs": [],
   "source": [
    "import re\n",
    "\n",
    "def clean_text(text):\n",
    "    return re.sub(r'[^A-Za-z0-9 ]+', '', text)"
   ]
  },
  {
   "cell_type": "code",
   "execution_count": 21,
   "id": "8df15bfc",
   "metadata": {
    "execution": {
     "iopub.execute_input": "2025-09-15T10:24:17.417261Z",
     "iopub.status.busy": "2025-09-15T10:24:17.417060Z",
     "iopub.status.idle": "2025-09-15T10:24:17.445041Z",
     "shell.execute_reply": "2025-09-15T10:24:17.444523Z"
    },
    "papermill": {
     "duration": 0.037177,
     "end_time": "2025-09-15T10:24:17.446029",
     "exception": false,
     "start_time": "2025-09-15T10:24:17.408852",
     "status": "completed"
    },
    "tags": []
   },
   "outputs": [],
   "source": [
    "df_train['cleaned_text'] = df_train['cleaned_text'].apply(clean_text)"
   ]
  },
  {
   "cell_type": "code",
   "execution_count": 22,
   "id": "5d4e92b5",
   "metadata": {
    "execution": {
     "iopub.execute_input": "2025-09-15T10:24:17.461986Z",
     "iopub.status.busy": "2025-09-15T10:24:17.461774Z",
     "iopub.status.idle": "2025-09-15T10:24:19.027615Z",
     "shell.execute_reply": "2025-09-15T10:24:19.027069Z"
    },
    "papermill": {
     "duration": 1.575226,
     "end_time": "2025-09-15T10:24:19.028920",
     "exception": false,
     "start_time": "2025-09-15T10:24:17.453694",
     "status": "completed"
    },
    "tags": []
   },
   "outputs": [],
   "source": [
    "df_train['cleaned_tokenized'] = df_train['cleaned_text'].apply((lambda x: tokenizer.tokenize(x)))"
   ]
  },
  {
   "cell_type": "code",
   "execution_count": 23,
   "id": "07c26e8d",
   "metadata": {
    "execution": {
     "iopub.execute_input": "2025-09-15T10:24:19.048891Z",
     "iopub.status.busy": "2025-09-15T10:24:19.048634Z",
     "iopub.status.idle": "2025-09-15T10:24:19.061674Z",
     "shell.execute_reply": "2025-09-15T10:24:19.061111Z"
    },
    "papermill": {
     "duration": 0.023721,
     "end_time": "2025-09-15T10:24:19.062680",
     "exception": false,
     "start_time": "2025-09-15T10:24:19.038959",
     "status": "completed"
    },
    "tags": []
   },
   "outputs": [
    {
     "data": {
      "text/html": [
       "<style type=\"text/css\">\n",
       "#T_4d853_row0_col3, #T_4d853_row1_col3, #T_4d853_row2_col3, #T_4d853_row3_col3, #T_4d853_row4_col3, #T_4d853_row5_col3, #T_4d853_row6_col3, #T_4d853_row7_col3, #T_4d853_row8_col3, #T_4d853_row9_col3 {\n",
       "  white-space: pre-wrap;\n",
       "  word-wrap: break-word;\n",
       "}\n",
       "</style>\n",
       "<table id=\"T_4d853\">\n",
       "  <thead>\n",
       "    <tr>\n",
       "      <th class=\"blank level0\" >&nbsp;</th>\n",
       "      <th id=\"T_4d853_level0_col0\" class=\"col_heading level0 col0\" >id</th>\n",
       "      <th id=\"T_4d853_level0_col1\" class=\"col_heading level0 col1\" >keyword</th>\n",
       "      <th id=\"T_4d853_level0_col2\" class=\"col_heading level0 col2\" >location</th>\n",
       "      <th id=\"T_4d853_level0_col3\" class=\"col_heading level0 col3\" >text</th>\n",
       "      <th id=\"T_4d853_level0_col4\" class=\"col_heading level0 col4\" >target</th>\n",
       "      <th id=\"T_4d853_level0_col5\" class=\"col_heading level0 col5\" >tokenized</th>\n",
       "      <th id=\"T_4d853_level0_col6\" class=\"col_heading level0 col6\" >contain_url</th>\n",
       "      <th id=\"T_4d853_level0_col7\" class=\"col_heading level0 col7\" >cleaned_text</th>\n",
       "      <th id=\"T_4d853_level0_col8\" class=\"col_heading level0 col8\" >contain_mentions</th>\n",
       "      <th id=\"T_4d853_level0_col9\" class=\"col_heading level0 col9\" >cleaned_tokenized</th>\n",
       "    </tr>\n",
       "  </thead>\n",
       "  <tbody>\n",
       "    <tr>\n",
       "      <th id=\"T_4d853_level0_row0\" class=\"row_heading level0 row0\" >31</th>\n",
       "      <td id=\"T_4d853_row0_col0\" class=\"data row0 col0\" >48</td>\n",
       "      <td id=\"T_4d853_row0_col1\" class=\"data row0 col1\" >ablaze</td>\n",
       "      <td id=\"T_4d853_row0_col2\" class=\"data row0 col2\" >Birmingham</td>\n",
       "      <td id=\"T_4d853_row0_col3\" class=\"data row0 col3\" >@bbcmtd Wholesale Markets ablaze http://t.co/lHYXEOHY6C</td>\n",
       "      <td id=\"T_4d853_row0_col4\" class=\"data row0 col4\" >1</td>\n",
       "      <td id=\"T_4d853_row0_col5\" class=\"data row0 col5\" >['@', 'bbc', '##mt', '##d', 'wholesale', 'markets', 'ab', '##laze', 'http', ':', '/', '/', 't', '.', 'co', '/', 'l', '##hy', '##x', '##eo', '##hy', '##6', '##c']</td>\n",
       "      <td id=\"T_4d853_row0_col6\" class=\"data row0 col6\" >True</td>\n",
       "      <td id=\"T_4d853_row0_col7\" class=\"data row0 col7\" >MENTION Wholesale Markets ablaze URL</td>\n",
       "      <td id=\"T_4d853_row0_col8\" class=\"data row0 col8\" >True</td>\n",
       "      <td id=\"T_4d853_row0_col9\" class=\"data row0 col9\" >['mention', 'wholesale', 'markets', 'ab', '##laze', 'ur', '##l']</td>\n",
       "    </tr>\n",
       "    <tr>\n",
       "      <th id=\"T_4d853_level0_row1\" class=\"row_heading level0 row1\" >32</th>\n",
       "      <td id=\"T_4d853_row1_col0\" class=\"data row1 col0\" >49</td>\n",
       "      <td id=\"T_4d853_row1_col1\" class=\"data row1 col1\" >ablaze</td>\n",
       "      <td id=\"T_4d853_row1_col2\" class=\"data row1 col2\" >Est. September 2012 - Bristol</td>\n",
       "      <td id=\"T_4d853_row1_col3\" class=\"data row1 col3\" >We always try to bring the heavy. #metal #RT http://t.co/YAo1e0xngw</td>\n",
       "      <td id=\"T_4d853_row1_col4\" class=\"data row1 col4\" >0</td>\n",
       "      <td id=\"T_4d853_row1_col5\" class=\"data row1 col5\" >['we', 'always', 'try', 'to', 'bring', 'the', 'heavy', '.', '#', 'metal', '#', 'rt', 'http', ':', '/', '/', 't', '.', 'co', '/', 'yao', '##1', '##e', '##0', '##x', '##ng', '##w']</td>\n",
       "      <td id=\"T_4d853_row1_col6\" class=\"data row1 col6\" >True</td>\n",
       "      <td id=\"T_4d853_row1_col7\" class=\"data row1 col7\" >We always try to bring the heavy metal RT URL</td>\n",
       "      <td id=\"T_4d853_row1_col8\" class=\"data row1 col8\" >False</td>\n",
       "      <td id=\"T_4d853_row1_col9\" class=\"data row1 col9\" >['we', 'always', 'try', 'to', 'bring', 'the', 'heavy', 'metal', 'rt', 'ur', '##l']</td>\n",
       "    </tr>\n",
       "    <tr>\n",
       "      <th id=\"T_4d853_level0_row2\" class=\"row_heading level0 row2\" >33</th>\n",
       "      <td id=\"T_4d853_row2_col0\" class=\"data row2 col0\" >50</td>\n",
       "      <td id=\"T_4d853_row2_col1\" class=\"data row2 col1\" >ablaze</td>\n",
       "      <td id=\"T_4d853_row2_col2\" class=\"data row2 col2\" >AFRICA</td>\n",
       "      <td id=\"T_4d853_row2_col3\" class=\"data row2 col3\" >#AFRICANBAZE: Breaking news:Nigeria flag set ablaze in Aba. http://t.co/2nndBGwyEi</td>\n",
       "      <td id=\"T_4d853_row2_col4\" class=\"data row2 col4\" >1</td>\n",
       "      <td id=\"T_4d853_row2_col5\" class=\"data row2 col5\" >['#', 'african', '##ba', '##ze', ':', 'breaking', 'news', ':', 'nigeria', 'flag', 'set', 'ab', '##laze', 'in', 'aba', '.', 'http', ':', '/', '/', 't', '.', 'co', '/', '2', '##nn', '##db', '##g', '##wy', '##ei']</td>\n",
       "      <td id=\"T_4d853_row2_col6\" class=\"data row2 col6\" >True</td>\n",
       "      <td id=\"T_4d853_row2_col7\" class=\"data row2 col7\" >AFRICANBAZE Breaking newsNigeria flag set ablaze in Aba URL</td>\n",
       "      <td id=\"T_4d853_row2_col8\" class=\"data row2 col8\" >False</td>\n",
       "      <td id=\"T_4d853_row2_col9\" class=\"data row2 col9\" >['african', '##ba', '##ze', 'breaking', 'news', '##nig', '##eria', 'flag', 'set', 'ab', '##laze', 'in', 'aba', 'ur', '##l']</td>\n",
       "    </tr>\n",
       "    <tr>\n",
       "      <th id=\"T_4d853_level0_row3\" class=\"row_heading level0 row3\" >35</th>\n",
       "      <td id=\"T_4d853_row3_col0\" class=\"data row3 col0\" >53</td>\n",
       "      <td id=\"T_4d853_row3_col1\" class=\"data row3 col1\" >ablaze</td>\n",
       "      <td id=\"T_4d853_row3_col2\" class=\"data row3 col2\" >London, UK</td>\n",
       "      <td id=\"T_4d853_row3_col3\" class=\"data row3 col3\" >On plus side LOOK AT THE SKY LAST NIGHT IT WAS ABLAZE http://t.co/qqsmshaJ3N</td>\n",
       "      <td id=\"T_4d853_row3_col4\" class=\"data row3 col4\" >0</td>\n",
       "      <td id=\"T_4d853_row3_col5\" class=\"data row3 col5\" >['on', 'plus', 'side', 'look', 'at', 'the', 'sky', 'last', 'night', 'it', 'was', 'ab', '##laze', 'http', ':', '/', '/', 't', '.', 'co', '/', 'q', '##q', '##sms', '##ha', '##j', '##3', '##n']</td>\n",
       "      <td id=\"T_4d853_row3_col6\" class=\"data row3 col6\" >True</td>\n",
       "      <td id=\"T_4d853_row3_col7\" class=\"data row3 col7\" >On plus side LOOK AT THE SKY LAST NIGHT IT WAS ABLAZE URL</td>\n",
       "      <td id=\"T_4d853_row3_col8\" class=\"data row3 col8\" >False</td>\n",
       "      <td id=\"T_4d853_row3_col9\" class=\"data row3 col9\" >['on', 'plus', 'side', 'look', 'at', 'the', 'sky', 'last', 'night', 'it', 'was', 'ab', '##laze', 'ur', '##l']</td>\n",
       "    </tr>\n",
       "    <tr>\n",
       "      <th id=\"T_4d853_level0_row4\" class=\"row_heading level0 row4\" >37</th>\n",
       "      <td id=\"T_4d853_row4_col0\" class=\"data row4 col0\" >55</td>\n",
       "      <td id=\"T_4d853_row4_col1\" class=\"data row4 col1\" >ablaze</td>\n",
       "      <td id=\"T_4d853_row4_col2\" class=\"data row4 col2\" >World Wide!!</td>\n",
       "      <td id=\"T_4d853_row4_col3\" class=\"data row4 col3\" >INEC Office in Abia Set Ablaze - http://t.co/3ImaomknnA</td>\n",
       "      <td id=\"T_4d853_row4_col4\" class=\"data row4 col4\" >1</td>\n",
       "      <td id=\"T_4d853_row4_col5\" class=\"data row4 col5\" >['in', '##ec', 'office', 'in', 'ab', '##ia', 'set', 'ab', '##laze', '-', 'http', ':', '/', '/', 't', '.', 'co', '/', '3', '##ima', '##om', '##k', '##nna']</td>\n",
       "      <td id=\"T_4d853_row4_col6\" class=\"data row4 col6\" >True</td>\n",
       "      <td id=\"T_4d853_row4_col7\" class=\"data row4 col7\" >INEC Office in Abia Set Ablaze  URL</td>\n",
       "      <td id=\"T_4d853_row4_col8\" class=\"data row4 col8\" >False</td>\n",
       "      <td id=\"T_4d853_row4_col9\" class=\"data row4 col9\" >['in', '##ec', 'office', 'in', 'ab', '##ia', 'set', 'ab', '##laze', 'ur', '##l']</td>\n",
       "    </tr>\n",
       "    <tr>\n",
       "      <th id=\"T_4d853_level0_row5\" class=\"row_heading level0 row5\" >38</th>\n",
       "      <td id=\"T_4d853_row5_col0\" class=\"data row5 col0\" >56</td>\n",
       "      <td id=\"T_4d853_row5_col1\" class=\"data row5 col1\" >ablaze</td>\n",
       "      <td id=\"T_4d853_row5_col2\" class=\"data row5 col2\" >nan</td>\n",
       "      <td id=\"T_4d853_row5_col3\" class=\"data row5 col3\" >Barbados #Bridgetown JAMAICA ÛÒ Two cars set ablaze: SANTA CRUZ ÛÓ Head of the St Elizabeth Police Superintende...  http://t.co/wDUEaj8Q4J</td>\n",
       "      <td id=\"T_4d853_row5_col4\" class=\"data row5 col4\" >1</td>\n",
       "      <td id=\"T_4d853_row5_col5\" class=\"data row5 col5\" >['barbados', '#', 'bridget', '##own', 'jamaica', 'u', '##o', 'two', 'cars', 'set', 'ab', '##laze', ':', 'santa', 'cruz', 'u', '##o', 'head', 'of', 'the', 'st', 'elizabeth', 'police', 'super', '##int', '##end', '##e', '.', '.', '.', 'http', ':', '/', '/', 't', '.', 'co', '/', 'w', '##due', '##aj', '##8', '##q', '##4', '##j']</td>\n",
       "      <td id=\"T_4d853_row5_col6\" class=\"data row5 col6\" >True</td>\n",
       "      <td id=\"T_4d853_row5_col7\" class=\"data row5 col7\" >Barbados Bridgetown JAMAICA  Two cars set ablaze SANTA CRUZ  Head of the St Elizabeth Police Superintende  URL</td>\n",
       "      <td id=\"T_4d853_row5_col8\" class=\"data row5 col8\" >False</td>\n",
       "      <td id=\"T_4d853_row5_col9\" class=\"data row5 col9\" >['barbados', 'bridget', '##own', 'jamaica', 'two', 'cars', 'set', 'ab', '##laze', 'santa', 'cruz', 'head', 'of', 'the', 'st', 'elizabeth', 'police', 'super', '##int', '##end', '##e', 'ur', '##l']</td>\n",
       "    </tr>\n",
       "    <tr>\n",
       "      <th id=\"T_4d853_level0_row6\" class=\"row_heading level0 row6\" >40</th>\n",
       "      <td id=\"T_4d853_row6_col0\" class=\"data row6 col0\" >59</td>\n",
       "      <td id=\"T_4d853_row6_col1\" class=\"data row6 col1\" >ablaze</td>\n",
       "      <td id=\"T_4d853_row6_col2\" class=\"data row6 col2\" >Live On Webcam</td>\n",
       "      <td id=\"T_4d853_row6_col3\" class=\"data row6 col3\" >Check these out: http://t.co/rOI2NSmEJJ http://t.co/3Tj8ZjiN21 http://t.co/YDUiXEfIpE http://t.co/LxTjc87KLS #nsfw</td>\n",
       "      <td id=\"T_4d853_row6_col4\" class=\"data row6 col4\" >0</td>\n",
       "      <td id=\"T_4d853_row6_col5\" class=\"data row6 col5\" >['check', 'these', 'out', ':', 'http', ':', '/', '/', 't', '.', 'co', '/', 'roi', '##2', '##ns', '##me', '##j', '##j', 'http', ':', '/', '/', 't', '.', 'co', '/', '3', '##t', '##j', '##8', '##z', '##jin', '##21', 'http', ':', '/', '/', 't', '.', 'co', '/', 'yd', '##ui', '##x', '##ef', '##ipe', 'http', ':', '/', '/', 't', '.', 'co', '/', 'l', '##xt', '##j', '##c', '##8', '##7', '##k', '##ls', '#', 'ns', '##f', '##w']</td>\n",
       "      <td id=\"T_4d853_row6_col6\" class=\"data row6 col6\" >True</td>\n",
       "      <td id=\"T_4d853_row6_col7\" class=\"data row6 col7\" >Check these out URL URL URL URL nsfw</td>\n",
       "      <td id=\"T_4d853_row6_col8\" class=\"data row6 col8\" >False</td>\n",
       "      <td id=\"T_4d853_row6_col9\" class=\"data row6 col9\" >['check', 'these', 'out', 'ur', '##l', 'ur', '##l', 'ur', '##l', 'ur', '##l', 'ns', '##f', '##w']</td>\n",
       "    </tr>\n",
       "    <tr>\n",
       "      <th id=\"T_4d853_level0_row7\" class=\"row_heading level0 row7\" >44</th>\n",
       "      <td id=\"T_4d853_row7_col0\" class=\"data row7 col0\" >64</td>\n",
       "      <td id=\"T_4d853_row7_col1\" class=\"data row7 col1\" >ablaze</td>\n",
       "      <td id=\"T_4d853_row7_col2\" class=\"data row7 col2\" >nan</td>\n",
       "      <td id=\"T_4d853_row7_col3\" class=\"data row7 col3\" >I wanted to set Chicago ablaze with my preaching... But not my hotel! http://t.co/o9qknbfOFX</td>\n",
       "      <td id=\"T_4d853_row7_col4\" class=\"data row7 col4\" >0</td>\n",
       "      <td id=\"T_4d853_row7_col5\" class=\"data row7 col5\" >['i', 'wanted', 'to', 'set', 'chicago', 'ab', '##laze', 'with', 'my', 'preaching', '.', '.', '.', 'but', 'not', 'my', 'hotel', '!', 'http', ':', '/', '/', 't', '.', 'co', '/', 'o', '##9', '##q', '##k', '##nb', '##fo', '##f', '##x']</td>\n",
       "      <td id=\"T_4d853_row7_col6\" class=\"data row7 col6\" >True</td>\n",
       "      <td id=\"T_4d853_row7_col7\" class=\"data row7 col7\" >I wanted to set Chicago ablaze with my preaching But not my hotel URL</td>\n",
       "      <td id=\"T_4d853_row7_col8\" class=\"data row7 col8\" >False</td>\n",
       "      <td id=\"T_4d853_row7_col9\" class=\"data row7 col9\" >['i', 'wanted', 'to', 'set', 'chicago', 'ab', '##laze', 'with', 'my', 'preaching', 'but', 'not', 'my', 'hotel', 'ur', '##l']</td>\n",
       "    </tr>\n",
       "    <tr>\n",
       "      <th id=\"T_4d853_level0_row8\" class=\"row_heading level0 row8\" >45</th>\n",
       "      <td id=\"T_4d853_row8_col0\" class=\"data row8 col0\" >65</td>\n",
       "      <td id=\"T_4d853_row8_col1\" class=\"data row8 col1\" >ablaze</td>\n",
       "      <td id=\"T_4d853_row8_col2\" class=\"data row8 col2\" >nan</td>\n",
       "      <td id=\"T_4d853_row8_col3\" class=\"data row8 col3\" >I gained 3 followers in the last week. You? Know your stats and grow with http://t.co/TIyUliF5c6</td>\n",
       "      <td id=\"T_4d853_row8_col4\" class=\"data row8 col4\" >0</td>\n",
       "      <td id=\"T_4d853_row8_col5\" class=\"data row8 col5\" >['i', 'gained', '3', 'followers', 'in', 'the', 'last', 'week', '.', 'you', '?', 'know', 'your', 'stats', 'and', 'grow', 'with', 'http', ':', '/', '/', 't', '.', 'co', '/', 'ti', '##yu', '##li', '##f', '##5', '##c', '##6']</td>\n",
       "      <td id=\"T_4d853_row8_col6\" class=\"data row8 col6\" >True</td>\n",
       "      <td id=\"T_4d853_row8_col7\" class=\"data row8 col7\" >I gained 3 followers in the last week You Know your stats and grow with URL</td>\n",
       "      <td id=\"T_4d853_row8_col8\" class=\"data row8 col8\" >False</td>\n",
       "      <td id=\"T_4d853_row8_col9\" class=\"data row8 col9\" >['i', 'gained', '3', 'followers', 'in', 'the', 'last', 'week', 'you', 'know', 'your', 'stats', 'and', 'grow', 'with', 'ur', '##l']</td>\n",
       "    </tr>\n",
       "    <tr>\n",
       "      <th id=\"T_4d853_level0_row9\" class=\"row_heading level0 row9\" >46</th>\n",
       "      <td id=\"T_4d853_row9_col0\" class=\"data row9 col0\" >66</td>\n",
       "      <td id=\"T_4d853_row9_col1\" class=\"data row9 col1\" >ablaze</td>\n",
       "      <td id=\"T_4d853_row9_col2\" class=\"data row9 col2\" >GREENSBORO,NORTH CAROLINA</td>\n",
       "      <td id=\"T_4d853_row9_col3\" class=\"data row9 col3\" >How the West was burned: Thousands of wildfires ablaze in California alone http://t.co/vl5TBR3wbr</td>\n",
       "      <td id=\"T_4d853_row9_col4\" class=\"data row9 col4\" >1</td>\n",
       "      <td id=\"T_4d853_row9_col5\" class=\"data row9 col5\" >['how', 'the', 'west', 'was', 'burned', ':', 'thousands', 'of', 'wild', '##fires', 'ab', '##laze', 'in', 'california', 'alone', 'http', ':', '/', '/', 't', '.', 'co', '/', 'v', '##l', '##5', '##t', '##br', '##3', '##w', '##br']</td>\n",
       "      <td id=\"T_4d853_row9_col6\" class=\"data row9 col6\" >True</td>\n",
       "      <td id=\"T_4d853_row9_col7\" class=\"data row9 col7\" >How the West was burned Thousands of wildfires ablaze in California alone URL</td>\n",
       "      <td id=\"T_4d853_row9_col8\" class=\"data row9 col8\" >False</td>\n",
       "      <td id=\"T_4d853_row9_col9\" class=\"data row9 col9\" >['how', 'the', 'west', 'was', 'burned', 'thousands', 'of', 'wild', '##fires', 'ab', '##laze', 'in', 'california', 'alone', 'ur', '##l']</td>\n",
       "    </tr>\n",
       "  </tbody>\n",
       "</table>\n"
      ],
      "text/plain": [
       "<pandas.io.formats.style.Styler at 0x786f55dad3d0>"
      ]
     },
     "execution_count": 23,
     "metadata": {},
     "output_type": "execute_result"
    }
   ],
   "source": [
    "(df_train[df_train['contain_url'] == 1].head(10)  # adjust number of rows\n",
    "   .style.set_properties(subset=['text'],  # replace 'text' with your tweet column name\n",
    "                         **{'white-space': 'pre-wrap', 'word-wrap': 'break-word'}))"
   ]
  },
  {
   "cell_type": "markdown",
   "id": "7d6053bf",
   "metadata": {
    "papermill": {
     "duration": 0.007817,
     "end_time": "2025-09-15T10:24:19.078811",
     "exception": false,
     "start_time": "2025-09-15T10:24:19.070994",
     "status": "completed"
    },
    "tags": []
   },
   "source": [
    "## Analyse pre-processing\n",
    "Below I create some visualizations to see if there's any difference between the top tokens that appear in disaster vs non-disaster tweets. The first visualization was including a lot of stop words and common words, so I later analysed the log-odds of the words and could see clear distinctions between top words for disaster tweets vs non-disaster tweets. BERT initializes these words with weights, so common words would show up less anyways and there's no need to handle these words"
   ]
  },
  {
   "cell_type": "code",
   "execution_count": 24,
   "id": "7e5ad1d8",
   "metadata": {
    "execution": {
     "iopub.execute_input": "2025-09-15T10:24:19.095915Z",
     "iopub.status.busy": "2025-09-15T10:24:19.095704Z",
     "iopub.status.idle": "2025-09-15T10:24:20.768984Z",
     "shell.execute_reply": "2025-09-15T10:24:20.768262Z"
    },
    "papermill": {
     "duration": 1.683237,
     "end_time": "2025-09-15T10:24:20.770177",
     "exception": false,
     "start_time": "2025-09-15T10:24:19.086940",
     "status": "completed"
    },
    "tags": []
   },
   "outputs": [
    {
     "data": {
      "image/png": "[encoded data removed]",
      "text/plain": [
       "<Figure size 1400x600 with 2 Axes>"
      ]
     },
     "metadata": {},
     "output_type": "display_data"
    }
   ],
   "source": [
    "import pandas as pd\n",
    "from collections import Counter\n",
    "import matplotlib.pyplot as plt\n",
    "import seaborn as sns\n",
    "\n",
    "# Separate token lists by class\n",
    "tokens_disaster = df_train[df_train['target'] == 1]['cleaned_tokenized'].explode()\n",
    "tokens_nondisaster = df_train[df_train['target'] == 0]['cleaned_tokenized'].explode()\n",
    "\n",
    "# Count token frequencies\n",
    "disaster_counts = Counter(tokens_disaster)\n",
    "nondisaster_counts = Counter(tokens_nondisaster)\n",
    "\n",
    "# Convert to DataFrames\n",
    "df_disaster = pd.DataFrame(disaster_counts.items(), columns=['token', 'disaster_count'])\n",
    "df_nondisaster = pd.DataFrame(nondisaster_counts.items(), columns=['token', 'nondisaster_count'])\n",
    "\n",
    "# Merge the two for comparison\n",
    "token_dist = pd.merge(df_disaster, df_nondisaster, on='token', how='outer').fillna(0)\n",
    "\n",
    "# Optionally, sort by most frequent in either class\n",
    "token_dist['total'] = token_dist['disaster_count'] + token_dist['nondisaster_count']\n",
    "token_dist = token_dist.sort_values(by='total', ascending=False)\n",
    "\n",
    "# Plot top 20 disaster tokens vs non-disaster tokens\n",
    "top_n = 50\n",
    "\n",
    "plt.figure(figsize=(14, 6))\n",
    "\n",
    "# Plot for disaster tweets\n",
    "plt.subplot(1, 2, 1)\n",
    "sns.barplot(data=token_dist.nlargest(top_n, 'disaster_count'), x='disaster_count', y='token', color='red')\n",
    "plt.title('Top Tokens in Disaster Tweets')\n",
    "\n",
    "# Plot for non-disaster tweets\n",
    "plt.subplot(1, 2, 2)\n",
    "sns.barplot(data=token_dist.nlargest(top_n, 'nondisaster_count'), x='nondisaster_count', y='token', color='blue')\n",
    "plt.title('Top Tokens in Non-Disaster Tweets')\n",
    "\n",
    "plt.tight_layout()\n",
    "plt.show()"
   ]
  },
  {
   "cell_type": "code",
   "execution_count": 25,
   "id": "68e2654a",
   "metadata": {
    "execution": {
     "iopub.execute_input": "2025-09-15T10:24:20.791194Z",
     "iopub.status.busy": "2025-09-15T10:24:20.790736Z",
     "iopub.status.idle": "2025-09-15T10:24:20.817908Z",
     "shell.execute_reply": "2025-09-15T10:24:20.817219Z"
    },
    "papermill": {
     "duration": 0.038536,
     "end_time": "2025-09-15T10:24:20.819066",
     "exception": false,
     "start_time": "2025-09-15T10:24:20.780530",
     "status": "completed"
    },
    "tags": []
   },
   "outputs": [],
   "source": [
    "import numpy as np\n",
    "\n",
    "def compute_log_odds(count_dis, count_nondis, alpha=0.01):\n",
    "    # Vocabulary\n",
    "    vocab = set(count_dis.keys()) | set(count_nondis.keys())\n",
    "    \n",
    "    total_dis = sum(count_dis.values())\n",
    "    total_nondis = sum(count_nondis.values())\n",
    "    \n",
    "    log_odds = {}\n",
    "    for word in vocab:\n",
    "        # counts with smoothing\n",
    "        dis = count_dis.get(word, 0) + alpha\n",
    "        nondis = count_nondis.get(word, 0) + alpha\n",
    "        \n",
    "        # proportions\n",
    "        p_dis = dis / (total_dis + alpha * len(vocab))\n",
    "        p_nondis = nondis / (total_nondis + alpha * len(vocab))\n",
    "        \n",
    "        # log odds ratio\n",
    "        log_odds[word] = np.log(p_dis / p_nondis)\n",
    "    \n",
    "    return log_odds\n",
    "\n",
    "log_odds = compute_log_odds(disaster_counts, nondisaster_counts)\n"
   ]
  },
  {
   "cell_type": "markdown",
   "id": "29ae2605",
   "metadata": {
    "papermill": {
     "duration": 0.009371,
     "end_time": "2025-09-15T10:24:20.837932",
     "exception": false,
     "start_time": "2025-09-15T10:24:20.828561",
     "status": "completed"
    },
    "tags": []
   },
   "source": [
    "In the chart below, we can see a clear distinction between tokens that show up for disaster vs non-disaster"
   ]
  },
  {
   "cell_type": "code",
   "execution_count": 26,
   "id": "ba2a0748",
   "metadata": {
    "execution": {
     "iopub.execute_input": "2025-09-15T10:24:20.857568Z",
     "iopub.status.busy": "2025-09-15T10:24:20.857362Z",
     "iopub.status.idle": "2025-09-15T10:24:20.873366Z",
     "shell.execute_reply": "2025-09-15T10:24:20.872690Z"
    },
    "papermill": {
     "duration": 0.027125,
     "end_time": "2025-09-15T10:24:20.874522",
     "exception": false,
     "start_time": "2025-09-15T10:24:20.847397",
     "status": "completed"
    },
    "tags": []
   },
   "outputs": [
    {
     "name": "stdout",
     "output_type": "stream",
     "text": [
      "🔴 Disaster tokens:\n",
      "northern        9.01\n",
      "##naire         8.98\n",
      "debris          8.75\n",
      "severe          8.69\n",
      "migrants        8.55\n",
      "investigators   8.45\n",
      "mosque          8.39\n",
      "##pan           8.27\n",
      "detonated       8.27\n",
      "israeli         8.17\n",
      "turkey          8.17\n",
      "##dev           8.13\n",
      "##clusive       8.05\n",
      "##nai           8.05\n",
      "helicopter      8.05\n",
      "projected       8.01\n",
      "signs           7.97\n",
      "trench          7.97\n",
      "feared          7.93\n",
      "##lier          7.93\n",
      "\n",
      "🔵 Non-disaster tokens:\n",
      "disney          -7.15\n",
      "career          -7.08\n",
      "king            -7.01\n",
      "##craft         -6.86\n",
      "louis           -6.86\n",
      "lucky           -6.77\n",
      "complete        -6.77\n",
      "##bags          -6.68\n",
      "welcome         -6.68\n",
      "shall           -6.68\n",
      "limited         -6.57\n",
      "pc              -6.57\n",
      "screen          -6.57\n",
      "fantasy         -6.57\n",
      "hands           -6.57\n",
      "secrets         -6.57\n",
      "opening         -6.57\n",
      "butter          -6.57\n",
      "bet             -6.57\n",
      "##nb            -6.57\n"
     ]
    }
   ],
   "source": [
    "# Top tokens for disaster\n",
    "sorted_disaster = sorted(log_odds.items(), key=lambda x: x[1], reverse=True)[:20]\n",
    "\n",
    "# Top tokens for non-disaster\n",
    "sorted_nondisaster = sorted(log_odds.items(), key=lambda x: x[1])[:20]\n",
    "\n",
    "print(\"🔴 Disaster tokens:\")\n",
    "for w, score in sorted_disaster:\n",
    "    print(f\"{w:15} {score:.2f}\")\n",
    "\n",
    "print(\"\\n🔵 Non-disaster tokens:\")\n",
    "for w, score in sorted_nondisaster:\n",
    "    print(f\"{w:15} {score:.2f}\")\n"
   ]
  },
  {
   "cell_type": "markdown",
   "id": "6648c159",
   "metadata": {
    "papermill": {
     "duration": 0.009459,
     "end_time": "2025-09-15T10:24:20.893517",
     "exception": false,
     "start_time": "2025-09-15T10:24:20.884058",
     "status": "completed"
    },
    "tags": []
   },
   "source": [
    "# Model"
   ]
  },
  {
   "cell_type": "code",
   "execution_count": 27,
   "id": "97aac91f",
   "metadata": {
    "execution": {
     "iopub.execute_input": "2025-09-15T10:24:20.913448Z",
     "iopub.status.busy": "2025-09-15T10:24:20.913071Z",
     "iopub.status.idle": "2025-09-15T10:24:20.916291Z",
     "shell.execute_reply": "2025-09-15T10:24:20.915751Z"
    },
    "papermill": {
     "duration": 0.014189,
     "end_time": "2025-09-15T10:24:20.917247",
     "exception": false,
     "start_time": "2025-09-15T10:24:20.903058",
     "status": "completed"
    },
    "tags": []
   },
   "outputs": [],
   "source": [
    "def preprocess_text(text):\n",
    "    text = remove_url(text)\n",
    "    text = remove_mentions(text)\n",
    "    text = clean_text(text)\n",
    "    return text"
   ]
  },
  {
   "cell_type": "markdown",
   "id": "b3418aa3",
   "metadata": {
    "papermill": {
     "duration": 0.009318,
     "end_time": "2025-09-15T10:24:20.936197",
     "exception": false,
     "start_time": "2025-09-15T10:24:20.926879",
     "status": "completed"
    },
    "tags": []
   },
   "source": [
    "Create dataloader.\n",
    "Max length = 84 is decided on the basis of the maximum size of the tweets after tokenization"
   ]
  },
  {
   "cell_type": "code",
   "execution_count": 28,
   "id": "2e3bd754",
   "metadata": {
    "execution": {
     "iopub.execute_input": "2025-09-15T10:24:20.957493Z",
     "iopub.status.busy": "2025-09-15T10:24:20.957056Z",
     "iopub.status.idle": "2025-09-15T10:24:20.962115Z",
     "shell.execute_reply": "2025-09-15T10:24:20.961600Z"
    },
    "papermill": {
     "duration": 0.016104,
     "end_time": "2025-09-15T10:24:20.963088",
     "exception": false,
     "start_time": "2025-09-15T10:24:20.946984",
     "status": "completed"
    },
    "tags": []
   },
   "outputs": [],
   "source": [
    "from torch.utils.data import Dataset, DataLoader\n",
    "import torch\n",
    "\n",
    "class TweetDataset(Dataset):\n",
    "    def __init__(self, texts, labels, tokenizer, max_len=84):\n",
    "        self.texts = texts\n",
    "        self.labels = labels\n",
    "        self.tokenizer = tokenizer\n",
    "        self.max_len = max_len\n",
    "\n",
    "    def __len__(self):\n",
    "        return len(self.texts)\n",
    "\n",
    "    def __getitem__(self, idx):\n",
    "        text = str(self.texts[idx])\n",
    "\n",
    "        # Apply preprocessing here\n",
    "        text = preprocess_text(text)\n",
    "\n",
    "        encoding = self.tokenizer.encode_plus(\n",
    "            text,\n",
    "            add_special_tokens=True,\n",
    "            max_length=self.max_len,\n",
    "            padding='max_length',\n",
    "            truncation=True,\n",
    "            return_attention_mask=True,\n",
    "            return_tensors='pt'\n",
    "        )\n",
    "\n",
    "        item = {\n",
    "            'input_ids': encoding['input_ids'].flatten(),\n",
    "            'attention_mask': encoding['attention_mask'].flatten()\n",
    "        }\n",
    "\n",
    "        if self.labels is not None:\n",
    "            label = self.labels[idx]\n",
    "            item['labels'] = torch.tensor(self.labels[idx], dtype=torch.long)\n",
    "\n",
    "        return item"
   ]
  },
  {
   "cell_type": "markdown",
   "id": "2f7dad4c",
   "metadata": {
    "papermill": {
     "duration": 0.009452,
     "end_time": "2025-09-15T10:24:20.982192",
     "exception": false,
     "start_time": "2025-09-15T10:24:20.972740",
     "status": "completed"
    },
    "tags": []
   },
   "source": [
    "# Hyperparater + k-fold"
   ]
  },
  {
   "cell_type": "markdown",
   "id": "d2bc775e",
   "metadata": {
    "papermill": {
     "duration": 0.009404,
     "end_time": "2025-09-15T10:24:21.001720",
     "exception": false,
     "start_time": "2025-09-15T10:24:20.992316",
     "status": "completed"
    },
    "tags": []
   },
   "source": [
    "Functions to run hyperparameter tuning along with k-fold cross validation to get the best combination of hyperparameters.\n",
    "The grid tested on was:\n",
    "- learning_rates = [1e-5, 2e-5, 3e-5]\n",
    "- batch_sizes = [16, 32]\n",
    "- epochs_list = [2, 3, 4]\n",
    "\n",
    "Results are unavailable in this code run but the best combination was: learning_rates = 1e-5, batch_sizes = 32, epochs_list = 3\n",
    "\n",
    "The entire experimentation process was run on 2 GPUs - below code parallelizes the processes."
   ]
  },
  {
   "cell_type": "code",
   "execution_count": 29,
   "id": "bb838914",
   "metadata": {
    "execution": {
     "iopub.execute_input": "2025-09-15T10:24:21.021464Z",
     "iopub.status.busy": "2025-09-15T10:24:21.021294Z",
     "iopub.status.idle": "2025-09-15T10:24:21.027757Z",
     "shell.execute_reply": "2025-09-15T10:24:21.027206Z"
    },
    "papermill": {
     "duration": 0.017529,
     "end_time": "2025-09-15T10:24:21.028793",
     "exception": false,
     "start_time": "2025-09-15T10:24:21.011264",
     "status": "completed"
    },
    "tags": []
   },
   "outputs": [],
   "source": [
    "import torch\n",
    "from transformers import DistilBertForSequenceClassification\n",
    "from torch.optim import AdamW\n",
    "from sklearn.metrics import f1_score\n",
    "from torch.utils.data import DataLoader\n",
    "import numpy as np\n",
    "\n",
    "def train_and_eval(train_loader, val_loader, lr, epochs, device):\n",
    "    model = DistilBertForSequenceClassification.from_pretrained('distilbert-base-uncased', num_labels=2)\n",
    "    model.to(device)\n",
    "    optimizer = AdamW(model.parameters(), lr=lr)\n",
    "\n",
    "    # Mixed precision support for T4\n",
    "    scaler = torch.cuda.amp.GradScaler()\n",
    "\n",
    "    for epoch in range(epochs):\n",
    "        model.train()\n",
    "        for batch in train_loader:\n",
    "            input_ids = batch['input_ids'].to(device)\n",
    "            attention_mask = batch['attention_mask'].to(device)\n",
    "            labels = batch['labels'].to(device)\n",
    "\n",
    "            optimizer.zero_grad()\n",
    "            with torch.cuda.amp.autocast():  # mixed precision\n",
    "                outputs = model(input_ids, attention_mask=attention_mask, labels=labels)\n",
    "                loss = outputs.loss\n",
    "            scaler.scale(loss).backward()\n",
    "            scaler.step(optimizer)\n",
    "            scaler.update()\n",
    "\n",
    "    # Validation\n",
    "    model.eval()\n",
    "    preds, true_labels = [], []\n",
    "    with torch.no_grad():\n",
    "        for batch in val_loader:\n",
    "            input_ids = batch['input_ids'].to(device)\n",
    "            attention_mask = batch['attention_mask'].to(device)\n",
    "            labels = batch['labels'].to(device)\n",
    "\n",
    "            outputs = model(input_ids, attention_mask=attention_mask)\n",
    "            pred = torch.argmax(outputs.logits, dim=1)\n",
    "\n",
    "            preds.extend(pred.cpu().numpy())\n",
    "            true_labels.extend(labels.cpu().numpy())\n",
    "\n",
    "    return f1_score(true_labels, preds)\n"
   ]
  },
  {
   "cell_type": "code",
   "execution_count": 30,
   "id": "bfe8b5e3",
   "metadata": {
    "execution": {
     "iopub.execute_input": "2025-09-15T10:24:21.048498Z",
     "iopub.status.busy": "2025-09-15T10:24:21.048311Z",
     "iopub.status.idle": "2025-09-15T10:24:21.053626Z",
     "shell.execute_reply": "2025-09-15T10:24:21.052995Z"
    },
    "papermill": {
     "duration": 0.016399,
     "end_time": "2025-09-15T10:24:21.054683",
     "exception": false,
     "start_time": "2025-09-15T10:24:21.038284",
     "status": "completed"
    },
    "tags": []
   },
   "outputs": [],
   "source": [
    "from sklearn.model_selection import KFold\n",
    "\n",
    "def kfold_evaluate(texts, labels, tokenizer, lr, batch_size, epochs, k, device):\n",
    "    kf = KFold(n_splits=k, shuffle=True, random_state=42)\n",
    "    fold_scores = []\n",
    "\n",
    "    for fold, (train_idx, val_idx) in enumerate(kf.split(texts)):\n",
    "        print(f\"[GPU {device}] Fold {fold+1}/{k}\")\n",
    "\n",
    "        train_dataset = TweetDataset([texts[i] for i in train_idx],\n",
    "                                     [labels[i] for i in train_idx],\n",
    "                                     tokenizer)\n",
    "        val_dataset = TweetDataset([texts[i] for i in val_idx],\n",
    "                                   [labels[i] for i in val_idx],\n",
    "                                   tokenizer)\n",
    "\n",
    "        train_loader = DataLoader(train_dataset, batch_size=batch_size, shuffle=True)\n",
    "        val_loader = DataLoader(val_dataset, batch_size=batch_size)\n",
    "\n",
    "        f1 = train_and_eval(train_loader, val_loader, lr, epochs, device)\n",
    "        fold_scores.append(f1)\n",
    "\n",
    "    return np.mean(fold_scores)\n"
   ]
  },
  {
   "cell_type": "code",
   "execution_count": 31,
   "id": "430df38b",
   "metadata": {
    "execution": {
     "iopub.execute_input": "2025-09-15T10:24:21.074975Z",
     "iopub.status.busy": "2025-09-15T10:24:21.074270Z",
     "iopub.status.idle": "2025-09-15T10:24:21.078501Z",
     "shell.execute_reply": "2025-09-15T10:24:21.077815Z"
    },
    "papermill": {
     "duration": 0.015281,
     "end_time": "2025-09-15T10:24:21.079579",
     "exception": false,
     "start_time": "2025-09-15T10:24:21.064298",
     "status": "completed"
    },
    "tags": []
   },
   "outputs": [
    {
     "name": "stdout",
     "output_type": "stream",
     "text": [
      "Total experiments: 1\n"
     ]
    }
   ],
   "source": [
    "from itertools import product\n",
    "\n",
    "# learning_rates = [1e-5, 2e-5, 3e-5]\n",
    "# batch_sizes = [16, 32]\n",
    "# epochs_list = [2, 3, 4]\n",
    "learning_rates = [1e-5]\n",
    "batch_sizes = [32]\n",
    "epochs_list = [3]\n",
    "\n",
    "# All possible combinations\n",
    "hyperparameter_grid = list(product(learning_rates, batch_sizes, epochs_list))\n",
    "print(\"Total experiments:\", len(hyperparameter_grid))"
   ]
  },
  {
   "cell_type": "code",
   "execution_count": 32,
   "id": "3e1bfb23",
   "metadata": {
    "execution": {
     "iopub.execute_input": "2025-09-15T10:24:21.099608Z",
     "iopub.status.busy": "2025-09-15T10:24:21.099420Z",
     "iopub.status.idle": "2025-09-15T10:24:21.103363Z",
     "shell.execute_reply": "2025-09-15T10:24:21.102854Z"
    },
    "papermill": {
     "duration": 0.015049,
     "end_time": "2025-09-15T10:24:21.104322",
     "exception": false,
     "start_time": "2025-09-15T10:24:21.089273",
     "status": "completed"
    },
    "tags": []
   },
   "outputs": [],
   "source": [
    "from multiprocessing import Pool\n",
    "import torch\n",
    "\n",
    "def run_experiment(params):\n",
    "    lr, batch_size, epochs, gpu_id = params\n",
    "    device = torch.device(f\"cuda:{gpu_id}\")\n",
    "\n",
    "    print(f\"\\n[GPU {gpu_id}] Running LR={lr}, Batch={batch_size}, Epochs={epochs}\")\n",
    "    avg_f1 = kfold_evaluate(df_train['text'], df_train['target'], tokenizer, lr, batch_size, epochs, k=5, device=device)\n",
    "\n",
    "    return {'lr': lr, 'batch_size': batch_size, 'epochs': epochs, 'avg_f1': avg_f1}\n"
   ]
  },
  {
   "cell_type": "code",
   "execution_count": 33,
   "id": "f2098992",
   "metadata": {
    "execution": {
     "iopub.execute_input": "2025-09-15T10:24:21.124464Z",
     "iopub.status.busy": "2025-09-15T10:24:21.124272Z",
     "iopub.status.idle": "2025-09-15T10:28:41.655120Z",
     "shell.execute_reply": "2025-09-15T10:28:41.654351Z"
    },
    "papermill": {
     "duration": 260.562352,
     "end_time": "2025-09-15T10:28:41.676294",
     "exception": false,
     "start_time": "2025-09-15T10:24:21.113942",
     "status": "completed"
    },
    "tags": []
   },
   "outputs": [
    {
     "name": "stderr",
     "output_type": "stream",
     "text": [
      "2025-09-15 10:24:26.549452: E external/local_xla/xla/stream_executor/cuda/cuda_fft.cc:477] Unable to register cuFFT factory: Attempting to register factory for plugin cuFFT when one has already been registered\n",
      "WARNING: All log messages before absl::InitializeLog() is called are written to STDERR\n",
      "E0000 00:00:1757931866.571338      82 cuda_dnn.cc:8310] Unable to register cuDNN factory: Attempting to register factory for plugin cuDNN when one has already been registered\n",
      "E0000 00:00:1757931866.578101      82 cuda_blas.cc:1418] Unable to register cuBLAS factory: Attempting to register factory for plugin cuBLAS when one has already been registered\n",
      "Some weights of DistilBertForSequenceClassification were not initialized from the model checkpoint at distilbert-base-uncased and are newly initialized: ['classifier.bias', 'classifier.weight', 'pre_classifier.bias', 'pre_classifier.weight']\n",
      "You should probably TRAIN this model on a down-stream task to be able to use it for predictions and inference.\n",
      "/tmp/ipykernel_19/1775117261.py:14: FutureWarning: `torch.cuda.amp.GradScaler(args...)` is deprecated. Please use `torch.amp.GradScaler('cuda', args...)` instead.\n",
      "/tmp/ipykernel_19/1775117261.py:24: FutureWarning: `torch.cuda.amp.autocast(args...)` is deprecated. Please use `torch.amp.autocast('cuda', args...)` instead.\n",
      "Some weights of DistilBertForSequenceClassification were not initialized from the model checkpoint at distilbert-base-uncased and are newly initialized: ['classifier.bias', 'classifier.weight', 'pre_classifier.bias', 'pre_classifier.weight']\n",
      "You should probably TRAIN this model on a down-stream task to be able to use it for predictions and inference.\n",
      "/tmp/ipykernel_19/1775117261.py:14: FutureWarning: `torch.cuda.amp.GradScaler(args...)` is deprecated. Please use `torch.amp.GradScaler('cuda', args...)` instead.\n",
      "/tmp/ipykernel_19/1775117261.py:24: FutureWarning: `torch.cuda.amp.autocast(args...)` is deprecated. Please use `torch.amp.autocast('cuda', args...)` instead.\n",
      "Some weights of DistilBertForSequenceClassification were not initialized from the model checkpoint at distilbert-base-uncased and are newly initialized: ['classifier.bias', 'classifier.weight', 'pre_classifier.bias', 'pre_classifier.weight']\n",
      "You should probably TRAIN this model on a down-stream task to be able to use it for predictions and inference.\n",
      "/tmp/ipykernel_19/1775117261.py:14: FutureWarning: `torch.cuda.amp.GradScaler(args...)` is deprecated. Please use `torch.amp.GradScaler('cuda', args...)` instead.\n",
      "/tmp/ipykernel_19/1775117261.py:24: FutureWarning: `torch.cuda.amp.autocast(args...)` is deprecated. Please use `torch.amp.autocast('cuda', args...)` instead.\n",
      "Some weights of DistilBertForSequenceClassification were not initialized from the model checkpoint at distilbert-base-uncased and are newly initialized: ['classifier.bias', 'classifier.weight', 'pre_classifier.bias', 'pre_classifier.weight']\n",
      "You should probably TRAIN this model on a down-stream task to be able to use it for predictions and inference.\n",
      "/tmp/ipykernel_19/1775117261.py:14: FutureWarning: `torch.cuda.amp.GradScaler(args...)` is deprecated. Please use `torch.amp.GradScaler('cuda', args...)` instead.\n",
      "/tmp/ipykernel_19/1775117261.py:24: FutureWarning: `torch.cuda.amp.autocast(args...)` is deprecated. Please use `torch.amp.autocast('cuda', args...)` instead.\n",
      "Some weights of DistilBertForSequenceClassification were not initialized from the model checkpoint at distilbert-base-uncased and are newly initialized: ['classifier.bias', 'classifier.weight', 'pre_classifier.bias', 'pre_classifier.weight']\n",
      "You should probably TRAIN this model on a down-stream task to be able to use it for predictions and inference.\n",
      "/tmp/ipykernel_19/1775117261.py:14: FutureWarning: `torch.cuda.amp.GradScaler(args...)` is deprecated. Please use `torch.amp.GradScaler('cuda', args...)` instead.\n",
      "/tmp/ipykernel_19/1775117261.py:24: FutureWarning: `torch.cuda.amp.autocast(args...)` is deprecated. Please use `torch.amp.autocast('cuda', args...)` instead.\n"
     ]
    },
    {
     "name": "stdout",
     "output_type": "stream",
     "text": [
      "\n",
      "===== Hyperparameter Tuning Results =====\n",
      "{'lr': 1e-05, 'batch_size': 32, 'epochs': 3, 'avg_f1': 0.7904893734114378}\n",
      "\n",
      "Best configuration: {'lr': 1e-05, 'batch_size': 32, 'epochs': 3, 'avg_f1': 0.7904893734114378}\n"
     ]
    }
   ],
   "source": [
    "from joblib import Parallel, delayed\n",
    "\n",
    "# Assign jobs to GPUs round-robin\n",
    "jobs = [(lr, bs, ep, i % 2) for i, (lr, bs, ep) in enumerate(hyperparameter_grid)]\n",
    "\n",
    "if __name__ == \"__main__\":\n",
    "    results = Parallel(n_jobs=2, backend=\"loky\")(\n",
    "        delayed(run_experiment)(params) for params in jobs\n",
    "    )\n",
    "\n",
    "    # Sort by best F1\n",
    "    results = sorted(results, key=lambda x: x['avg_f1'], reverse=True)\n",
    "    print(\"\\n===== Hyperparameter Tuning Results =====\")\n",
    "    for r in results:\n",
    "        print(r)\n",
    "    print(\"\\nBest configuration:\", results[0])\n"
   ]
  },
  {
   "cell_type": "markdown",
   "id": "73c74543",
   "metadata": {
    "papermill": {
     "duration": 0.010716,
     "end_time": "2025-09-15T10:28:41.698596",
     "exception": false,
     "start_time": "2025-09-15T10:28:41.687880",
     "status": "completed"
    },
    "tags": []
   },
   "source": [
    "# Predict and Submit"
   ]
  },
  {
   "cell_type": "markdown",
   "id": "ef054e4d",
   "metadata": {
    "papermill": {
     "duration": 0.010746,
     "end_time": "2025-09-15T10:28:41.720535",
     "exception": false,
     "start_time": "2025-09-15T10:28:41.709789",
     "status": "completed"
    },
    "tags": []
   },
   "source": [
    "Run the final model with the best hyperparameter combinations and generate submission.csv"
   ]
  },
  {
   "cell_type": "code",
   "execution_count": 34,
   "id": "31da6d2c",
   "metadata": {
    "execution": {
     "iopub.execute_input": "2025-09-15T10:28:41.743421Z",
     "iopub.status.busy": "2025-09-15T10:28:41.743136Z",
     "iopub.status.idle": "2025-09-15T10:28:42.345791Z",
     "shell.execute_reply": "2025-09-15T10:28:42.345171Z"
    },
    "papermill": {
     "duration": 0.615705,
     "end_time": "2025-09-15T10:28:42.346979",
     "exception": false,
     "start_time": "2025-09-15T10:28:41.731274",
     "status": "completed"
    },
    "tags": []
   },
   "outputs": [
    {
     "name": "stderr",
     "output_type": "stream",
     "text": [
      "Some weights of DistilBertForSequenceClassification were not initialized from the model checkpoint at distilbert-base-uncased and are newly initialized: ['classifier.bias', 'classifier.weight', 'pre_classifier.bias', 'pre_classifier.weight']\n",
      "You should probably TRAIN this model on a down-stream task to be able to use it for predictions and inference.\n"
     ]
    }
   ],
   "source": [
    "\n",
    "df_test = pd.read_csv(\"/kaggle/input/nlp-getting-started/test.csv\")\n",
    "df_train = pd.read_csv(\"/kaggle/input/nlp-getting-started/train.csv\")\n",
    "\n",
    "\n",
    "from transformers import DistilBertForSequenceClassification, DistilBertTokenizer\n",
    "\n",
    "# Load pretrained tokenizer\n",
    "tokenizer = DistilBertTokenizer.from_pretrained('distilbert-base-uncased')\n",
    "\n",
    "# Load pretrained model with classification head\n",
    "model = DistilBertForSequenceClassification.from_pretrained(\n",
    "    'distilbert-base-uncased',\n",
    "    num_labels=2  # binary classification: disaster / non-disaster\n",
    ")\n",
    "\n"
   ]
  },
  {
   "cell_type": "code",
   "execution_count": 35,
   "id": "b5c07e21",
   "metadata": {
    "execution": {
     "iopub.execute_input": "2025-09-15T10:28:42.369818Z",
     "iopub.status.busy": "2025-09-15T10:28:42.369557Z",
     "iopub.status.idle": "2025-09-15T10:28:42.375042Z",
     "shell.execute_reply": "2025-09-15T10:28:42.374355Z"
    },
    "papermill": {
     "duration": 0.017883,
     "end_time": "2025-09-15T10:28:42.376166",
     "exception": false,
     "start_time": "2025-09-15T10:28:42.358283",
     "status": "completed"
    },
    "tags": []
   },
   "outputs": [],
   "source": [
    "train_dataset = TweetDataset(df_train['text'].tolist()\n",
    "                             , df_train['target'].tolist(), tokenizer)\n",
    "train_dataloader = DataLoader(train_dataset, batch_size=32, shuffle=True)\n",
    "lr = 1e-5\n",
    "epochs= 3\n",
    "test_dataset = TweetDataset(df_test['text'].tolist()\n",
    "                             , None, tokenizer)\n",
    "test_dataloader = DataLoader(test_dataset, batch_size=32, shuffle=False)"
   ]
  },
  {
   "cell_type": "code",
   "execution_count": 36,
   "id": "144a0709",
   "metadata": {
    "execution": {
     "iopub.execute_input": "2025-09-15T10:28:42.400026Z",
     "iopub.status.busy": "2025-09-15T10:28:42.399510Z",
     "iopub.status.idle": "2025-09-15T10:28:42.403000Z",
     "shell.execute_reply": "2025-09-15T10:28:42.402442Z"
    },
    "papermill": {
     "duration": 0.016362,
     "end_time": "2025-09-15T10:28:42.404089",
     "exception": false,
     "start_time": "2025-09-15T10:28:42.387727",
     "status": "completed"
    },
    "tags": []
   },
   "outputs": [],
   "source": [
    "import torch\n",
    "from transformers import DistilBertForSequenceClassification\n",
    "from torch.optim import AdamW\n",
    "from sklearn.metrics import f1_score\n",
    "from torch.utils.data import DataLoader\n",
    "import numpy as np"
   ]
  },
  {
   "cell_type": "code",
   "execution_count": 37,
   "id": "3b60a858",
   "metadata": {
    "execution": {
     "iopub.execute_input": "2025-09-15T10:28:42.427395Z",
     "iopub.status.busy": "2025-09-15T10:28:42.427174Z",
     "iopub.status.idle": "2025-09-15T10:29:40.917206Z",
     "shell.execute_reply": "2025-09-15T10:29:40.916381Z"
    },
    "papermill": {
     "duration": 58.503339,
     "end_time": "2025-09-15T10:29:40.918835",
     "exception": false,
     "start_time": "2025-09-15T10:28:42.415496",
     "status": "completed"
    },
    "tags": []
   },
   "outputs": [
    {
     "name": "stderr",
     "output_type": "stream",
     "text": [
      "/tmp/ipykernel_19/496778767.py:6: FutureWarning: `torch.cuda.amp.GradScaler(args...)` is deprecated. Please use `torch.amp.GradScaler('cuda', args...)` instead.\n",
      "  scaler = torch.cuda.amp.GradScaler()\n",
      "/tmp/ipykernel_19/496778767.py:16: FutureWarning: `torch.cuda.amp.autocast(args...)` is deprecated. Please use `torch.amp.autocast('cuda', args...)` instead.\n",
      "  with torch.cuda.amp.autocast():  # mixed precision\n"
     ]
    }
   ],
   "source": [
    "device = torch.device('cuda' if torch.cuda.is_available() else 'cpu')\n",
    "model.to(device)\n",
    "optimizer = AdamW(model.parameters(), lr=lr)\n",
    "\n",
    "# Mixed precision support for T4\n",
    "scaler = torch.cuda.amp.GradScaler()\n",
    "\n",
    "for epoch in range(epochs):\n",
    "    model.train()\n",
    "    for batch in train_dataloader:\n",
    "        input_ids = batch['input_ids'].to(device)\n",
    "        attention_mask = batch['attention_mask'].to(device)\n",
    "        labels = batch['labels'].to(device)\n",
    "\n",
    "        optimizer.zero_grad()\n",
    "        with torch.cuda.amp.autocast():  # mixed precision\n",
    "            outputs = model(input_ids, attention_mask=attention_mask, labels=labels)\n",
    "            loss = outputs.loss\n",
    "        scaler.scale(loss).backward()\n",
    "        scaler.step(optimizer)\n",
    "        scaler.update()\n",
    "\n",
    "\n"
   ]
  },
  {
   "cell_type": "code",
   "execution_count": 38,
   "id": "5e007a20",
   "metadata": {
    "execution": {
     "iopub.execute_input": "2025-09-15T10:29:40.943709Z",
     "iopub.status.busy": "2025-09-15T10:29:40.943419Z",
     "iopub.status.idle": "2025-09-15T10:29:50.864387Z",
     "shell.execute_reply": "2025-09-15T10:29:50.863822Z"
    },
    "papermill": {
     "duration": 9.934791,
     "end_time": "2025-09-15T10:29:50.865742",
     "exception": false,
     "start_time": "2025-09-15T10:29:40.930951",
     "status": "completed"
    },
    "tags": []
   },
   "outputs": [],
   "source": [
    "# Generate predictions\n",
    "model.eval()\n",
    "preds = []\n",
    "\n",
    "with torch.no_grad():\n",
    "    for batch in test_dataloader:\n",
    "        input_ids = batch['input_ids'].to(device)\n",
    "        attention_mask = batch['attention_mask'].to(device)\n",
    "\n",
    "        outputs = model(input_ids, attention_mask=attention_mask)\n",
    "        pred = torch.argmax(outputs.logits, dim=1)\n",
    "        preds.extend(pred.cpu().numpy())\n",
    "\n",
    "# Convert to pandas DataFrame for submission\n",
    "submission_df = pd.DataFrame({\n",
    "    'id': df_test['id'],\n",
    "    'target': preds\n",
    "})\n",
    "submission_df.to_csv(\"submission.csv\", index=False)"
   ]
  },
  {
   "cell_type": "markdown",
   "id": "5152a46a",
   "metadata": {
    "papermill": {
     "duration": 0.010871,
     "end_time": "2025-09-15T10:29:50.888459",
     "exception": false,
     "start_time": "2025-09-15T10:29:50.877588",
     "status": "completed"
    },
    "tags": []
   },
   "source": [
    "# Future Work\n",
    "Would like to try out additional features in the future like length of tweet, number of emojis, number of mentions, etc.\n",
    "Would like to try adding additional layers to the model to see if it would improve the results"
   ]
  }
 ],
 "metadata": {
  "kaggle": {
   "accelerator": "nvidiaTeslaT4",
   "dataSources": [
    {
     "databundleVersionId": 869809,
     "sourceId": 17777,
     "sourceType": "competition"
    }
   ],
   "dockerImageVersionId": 31089,
   "isGpuEnabled": true,
   "isInternetEnabled": true,
   "language": "python",
   "sourceType": "notebook"
  },
  "kernelspec": {
   "display_name": "Python 3",
   "language": "python",
   "name": "python3"
  },
  "language_info": {
   "codemirror_mode": {
    "name": "ipython",
    "version": 3
   },
   "file_extension": ".py",
   "mimetype": "text/x-python",
   "name": "python",
   "nbconvert_exporter": "python",
   "pygments_lexer": "ipython3",
   "version": "3.11.13"
  },
  "papermill": {
   "default_parameters": {},
   "duration": 373.939727,
   "end_time": "2025-09-15T10:29:53.719683",
   "environment_variables": {},
   "exception": null,
   "input_path": "__notebook__.ipynb",
   "output_path": "__notebook__.ipynb",
   "parameters": {},
   "start_time": "2025-09-15T10:23:39.779956",
   "version": "2.6.0"
  },
  "widgets": {
   "application/vnd.jupyter.widget-state+json": {
    "state": {
     "070d56b8164a436891654564b0f3ab46": {
      "model_module": "@jupyter-widgets/controls",
      "model_module_version": "2.0.0",
      "model_name": "HTMLStyleModel",
      "state": {
       "_model_module": "@jupyter-widgets/controls",
       "_model_module_version": "2.0.0",
       "_model_name": "HTMLStyleModel",
       "_view_count": null,
       "_view_module": "@jupyter-widgets/base",
       "_view_module_version": "2.0.0",
       "_view_name": "StyleView",
       "background": null,
       "description_width": "",
       "font_size": null,
       "text_color": null
      }
     },
     "1c4c91ddcc604adf8870b6464e084975": {
      "model_module": "@jupyter-widgets/controls",
      "model_module_version": "2.0.0",
      "model_name": "HBoxModel",
      "state": {
       "_dom_classes": [],
       "_model_module": "@jupyter-widgets/controls",
       "_model_module_version": "2.0.0",
       "_model_name": "HBoxModel",
       "_view_count": null,
       "_view_module": "@jupyter-widgets/controls",
       "_view_module_version": "2.0.0",
       "_view_name": "HBoxView",
       "box_style": "",
       "children": [
        "IPY_MODEL_c95475491ecb40b4a1f62200497777c5",
        "IPY_MODEL_a1c45f8ce2384f76861d5afa717c38f7",
        "IPY_MODEL_f309f25e80564032b16f3d84929909d0"
       ],
       "layout": "IPY_MODEL_77b89ed73a7b4a63b8df7e4e1775eac5",
       "tabbable": null,
       "tooltip": null
      }
     },
     "26a7d4536e6f4f9482209e7e94ad00a1": {
      "model_module": "@jupyter-widgets/controls",
      "model_module_version": "2.0.0",
      "model_name": "ProgressStyleModel",
      "state": {
       "_model_module": "@jupyter-widgets/controls",
       "_model_module_version": "2.0.0",
       "_model_name": "ProgressStyleModel",
       "_view_count": null,
       "_view_module": "@jupyter-widgets/base",
       "_view_module_version": "2.0.0",
       "_view_name": "StyleView",
       "bar_color": null,
       "description_width": ""
      }
     },
     "307b16910ea240c4af287d258341392c": {
      "model_module": "@jupyter-widgets/controls",
      "model_module_version": "2.0.0",
      "model_name": "HTMLStyleModel",
      "state": {
       "_model_module": "@jupyter-widgets/controls",
       "_model_module_version": "2.0.0",
       "_model_name": "HTMLStyleModel",
       "_view_count": null,
       "_view_module": "@jupyter-widgets/base",
       "_view_module_version": "2.0.0",
       "_view_name": "StyleView",
       "background": null,
       "description_width": "",
       "font_size": null,
       "text_color": null
      }
     },
     "345e525f204d403cbf7d39493addb82d": {
      "model_module": "@jupyter-widgets/base",
      "model_module_version": "2.0.0",
      "model_name": "LayoutModel",
      "state": {
       "_model_module": "@jupyter-widgets/base",
       "_model_module_version": "2.0.0",
       "_model_name": "LayoutModel",
       "_view_count": null,
       "_view_module": "@jupyter-widgets/base",
       "_view_module_version": "2.0.0",
       "_view_name": "LayoutView",
       "align_content": null,
       "align_items": null,
       "align_self": null,
       "border_bottom": null,
       "border_left": null,
       "border_right": null,
       "border_top": null,
       "bottom": null,
       "display": null,
       "flex": null,
       "flex_flow": null,
       "grid_area": null,
       "grid_auto_columns": null,
       "grid_auto_flow": null,
       "grid_auto_rows": null,
       "grid_column": null,
       "grid_gap": null,
       "grid_row": null,
       "grid_template_areas": null,
       "grid_template_columns": null,
       "grid_template_rows": null,
       "height": null,
       "justify_content": null,
       "justify_items": null,
       "left": null,
       "margin": null,
       "max_height": null,
       "max_width": null,
       "min_height": null,
       "min_width": null,
       "object_fit": null,
       "object_position": null,
       "order": null,
       "overflow": null,
       "padding": null,
       "right": null,
       "top": null,
       "visibility": null,
       "width": null
      }
     },
     "4653cfe83cba48d5bf62bf8a264135e7": {
      "model_module": "@jupyter-widgets/controls",
      "model_module_version": "2.0.0",
      "model_name": "ProgressStyleModel",
      "state": {
       "_model_module": "@jupyter-widgets/controls",
       "_model_module_version": "2.0.0",
       "_model_name": "ProgressStyleModel",
       "_view_count": null,
       "_view_module": "@jupyter-widgets/base",
       "_view_module_version": "2.0.0",
       "_view_name": "StyleView",
       "bar_color": null,
       "description_width": ""
      }
     },
     "4feff688feca40ba8f184cd0dadb487d": {
      "model_module": "@jupyter-widgets/controls",
      "model_module_version": "2.0.0",
      "model_name": "ProgressStyleModel",
      "state": {
       "_model_module": "@jupyter-widgets/controls",
       "_model_module_version": "2.0.0",
       "_model_name": "ProgressStyleModel",
       "_view_count": null,
       "_view_module": "@jupyter-widgets/base",
       "_view_module_version": "2.0.0",
       "_view_name": "StyleView",
       "bar_color": null,
       "description_width": ""
      }
     },
     "51ed482f1f9d4a0293344c25262f5c21": {
      "model_module": "@jupyter-widgets/controls",
      "model_module_version": "2.0.0",
      "model_name": "HTMLModel",
      "state": {
       "_dom_classes": [],
       "_model_module": "@jupyter-widgets/controls",
       "_model_module_version": "2.0.0",
       "_model_name": "HTMLModel",
       "_view_count": null,
       "_view_module": "@jupyter-widgets/controls",
       "_view_module_version": "2.0.0",
       "_view_name": "HTMLView",
       "description": "",
       "description_allow_html": false,
       "layout": "IPY_MODEL_634864ddcae44753b51ea498337c8dc4",
       "placeholder": "​",
       "style": "IPY_MODEL_307b16910ea240c4af287d258341392c",
       "tabbable": null,
       "tooltip": null,
       "value": "vocab.txt: 100%"
      }
     },
     "52115b81485443fba054623b6f1dc744": {
      "model_module": "@jupyter-widgets/base",
      "model_module_version": "2.0.0",
      "model_name": "LayoutModel",
      "state": {
       "_model_module": "@jupyter-widgets/base",
       "_model_module_version": "2.0.0",
       "_model_name": "LayoutModel",
       "_view_count": null,
       "_view_module": "@jupyter-widgets/base",
       "_view_module_version": "2.0.0",
       "_view_name": "LayoutView",
       "align_content": null,
       "align_items": null,
       "align_self": null,
       "border_bottom": null,
       "border_left": null,
       "border_right": null,
       "border_top": null,
       "bottom": null,
       "display": null,
       "flex": null,
       "flex_flow": null,
       "grid_area": null,
       "grid_auto_columns": null,
       "grid_auto_flow": null,
       "grid_auto_rows": null,
       "grid_column": null,
       "grid_gap": null,
       "grid_row": null,
       "grid_template_areas": null,
       "grid_template_columns": null,
       "grid_template_rows": null,
       "height": null,
       "justify_content": null,
       "justify_items": null,
       "left": null,
       "margin": null,
       "max_height": null,
       "max_width": null,
       "min_height": null,
       "min_width": null,
       "object_fit": null,
       "object_position": null,
       "order": null,
       "overflow": null,
       "padding": null,
       "right": null,
       "top": null,
       "visibility": null,
       "width": null
      }
     },
     "55353d34720c446c8e7ffc61233fd7bd": {
      "model_module": "@jupyter-widgets/controls",
      "model_module_version": "2.0.0",
      "model_name": "HTMLStyleModel",
      "state": {
       "_model_module": "@jupyter-widgets/controls",
       "_model_module_version": "2.0.0",
       "_model_name": "HTMLStyleModel",
       "_view_count": null,
       "_view_module": "@jupyter-widgets/base",
       "_view_module_version": "2.0.0",
       "_view_name": "StyleView",
       "background": null,
       "description_width": "",
       "font_size": null,
       "text_color": null
      }
     },
     "60977ac11aad417994292fc44e09d45a": {
      "model_module": "@jupyter-widgets/controls",
      "model_module_version": "2.0.0",
      "model_name": "FloatProgressModel",
      "state": {
       "_dom_classes": [],
       "_model_module": "@jupyter-widgets/controls",
       "_model_module_version": "2.0.0",
       "_model_name": "FloatProgressModel",
       "_view_count": null,
       "_view_module": "@jupyter-widgets/controls",
       "_view_module_version": "2.0.0",
       "_view_name": "ProgressView",
       "bar_style": "success",
       "description": "",
       "description_allow_html": false,
       "layout": "IPY_MODEL_6b100109704b43a9bd9695ccd65312ff",
       "max": 48.0,
       "min": 0.0,
       "orientation": "horizontal",
       "style": "IPY_MODEL_4feff688feca40ba8f184cd0dadb487d",
       "tabbable": null,
       "tooltip": null,
       "value": 48.0
      }
     },
     "62ec167884e648e4b894004eac10fa64": {
      "model_module": "@jupyter-widgets/controls",
      "model_module_version": "2.0.0",
      "model_name": "FloatProgressModel",
      "state": {
       "_dom_classes": [],
       "_model_module": "@jupyter-widgets/controls",
       "_model_module_version": "2.0.0",
       "_model_name": "FloatProgressModel",
       "_view_count": null,
       "_view_module": "@jupyter-widgets/controls",
       "_view_module_version": "2.0.0",
       "_view_name": "ProgressView",
       "bar_style": "success",
       "description": "",
       "description_allow_html": false,
       "layout": "IPY_MODEL_847d7ad57d854daca3456e4b02d6bad9",
       "max": 231508.0,
       "min": 0.0,
       "orientation": "horizontal",
       "style": "IPY_MODEL_26a7d4536e6f4f9482209e7e94ad00a1",
       "tabbable": null,
       "tooltip": null,
       "value": 231508.0
      }
     },
     "634864ddcae44753b51ea498337c8dc4": {
      "model_module": "@jupyter-widgets/base",
      "model_module_version": "2.0.0",
      "model_name": "LayoutModel",
      "state": {
       "_model_module": "@jupyter-widgets/base",
       "_model_module_version": "2.0.0",
       "_model_name": "LayoutModel",
       "_view_count": null,
       "_view_module": "@jupyter-widgets/base",
       "_view_module_version": "2.0.0",
       "_view_name": "LayoutView",
       "align_content": null,
       "align_items": null,
       "align_self": null,
       "border_bottom": null,
       "border_left": null,
       "border_right": null,
       "border_top": null,
       "bottom": null,
       "display": null,
       "flex": null,
       "flex_flow": null,
       "grid_area": null,
       "grid_auto_columns": null,
       "grid_auto_flow": null,
       "grid_auto_rows": null,
       "grid_column": null,
       "grid_gap": null,
       "grid_row": null,
       "grid_template_areas": null,
       "grid_template_columns": null,
       "grid_template_rows": null,
       "height": null,
       "justify_content": null,
       "justify_items": null,
       "left": null,
       "margin": null,
       "max_height": null,
       "max_width": null,
       "min_height": null,
       "min_width": null,
       "object_fit": null,
       "object_position": null,
       "order": null,
       "overflow": null,
       "padding": null,
       "right": null,
       "top": null,
       "visibility": null,
       "width": null
      }
     },
     "6388605c3c02460f8b26d632f2053659": {
      "model_module": "@jupyter-widgets/controls",
      "model_module_version": "2.0.0",
      "model_name": "HTMLStyleModel",
      "state": {
       "_model_module": "@jupyter-widgets/controls",
       "_model_module_version": "2.0.0",
       "_model_name": "HTMLStyleModel",
       "_view_count": null,
       "_view_module": "@jupyter-widgets/base",
       "_view_module_version": "2.0.0",
       "_view_name": "StyleView",
       "background": null,
       "description_width": "",
       "font_size": null,
       "text_color": null
      }
     },
     "659b515d1cbd4030b05bb1ed190d0955": {
      "model_module": "@jupyter-widgets/base",
      "model_module_version": "2.0.0",
      "model_name": "LayoutModel",
      "state": {
       "_model_module": "@jupyter-widgets/base",
       "_model_module_version": "2.0.0",
       "_model_name": "LayoutModel",
       "_view_count": null,
       "_view_module": "@jupyter-widgets/base",
       "_view_module_version": "2.0.0",
       "_view_name": "LayoutView",
       "align_content": null,
       "align_items": null,
       "align_self": null,
       "border_bottom": null,
       "border_left": null,
       "border_right": null,
       "border_top": null,
       "bottom": null,
       "display": null,
       "flex": null,
       "flex_flow": null,
       "grid_area": null,
       "grid_auto_columns": null,
       "grid_auto_flow": null,
       "grid_auto_rows": null,
       "grid_column": null,
       "grid_gap": null,
       "grid_row": null,
       "grid_template_areas": null,
       "grid_template_columns": null,
       "grid_template_rows": null,
       "height": null,
       "justify_content": null,
       "justify_items": null,
       "left": null,
       "margin": null,
       "max_height": null,
       "max_width": null,
       "min_height": null,
       "min_width": null,
       "object_fit": null,
       "object_position": null,
       "order": null,
       "overflow": null,
       "padding": null,
       "right": null,
       "top": null,
       "visibility": null,
       "width": null
      }
     },
     "66fab7686e194d60a7e69cc4de746f8e": {
      "model_module": "@jupyter-widgets/controls",
      "model_module_version": "2.0.0",
      "model_name": "HTMLStyleModel",
      "state": {
       "_model_module": "@jupyter-widgets/controls",
       "_model_module_version": "2.0.0",
       "_model_name": "HTMLStyleModel",
       "_view_count": null,
       "_view_module": "@jupyter-widgets/base",
       "_view_module_version": "2.0.0",
       "_view_name": "StyleView",
       "background": null,
       "description_width": "",
       "font_size": null,
       "text_color": null
      }
     },
     "6b100109704b43a9bd9695ccd65312ff": {
      "model_module": "@jupyter-widgets/base",
      "model_module_version": "2.0.0",
      "model_name": "LayoutModel",
      "state": {
       "_model_module": "@jupyter-widgets/base",
       "_model_module_version": "2.0.0",
       "_model_name": "LayoutModel",
       "_view_count": null,
       "_view_module": "@jupyter-widgets/base",
       "_view_module_version": "2.0.0",
       "_view_name": "LayoutView",
       "align_content": null,
       "align_items": null,
       "align_self": null,
       "border_bottom": null,
       "border_left": null,
       "border_right": null,
       "border_top": null,
       "bottom": null,
       "display": null,
       "flex": null,
       "flex_flow": null,
       "grid_area": null,
       "grid_auto_columns": null,
       "grid_auto_flow": null,
       "grid_auto_rows": null,
       "grid_column": null,
       "grid_gap": null,
       "grid_row": null,
       "grid_template_areas": null,
       "grid_template_columns": null,
       "grid_template_rows": null,
       "height": null,
       "justify_content": null,
       "justify_items": null,
       "left": null,
       "margin": null,
       "max_height": null,
       "max_width": null,
       "min_height": null,
       "min_width": null,
       "object_fit": null,
       "object_position": null,
       "order": null,
       "overflow": null,
       "padding": null,
       "right": null,
       "top": null,
       "visibility": null,
       "width": null
      }
     },
     "768fa0c1f63940c994812d063d219b8f": {
      "model_module": "@jupyter-widgets/controls",
      "model_module_version": "2.0.0",
      "model_name": "HTMLModel",
      "state": {
       "_dom_classes": [],
       "_model_module": "@jupyter-widgets/controls",
       "_model_module_version": "2.0.0",
       "_model_name": "HTMLModel",
       "_view_count": null,
       "_view_module": "@jupyter-widgets/controls",
       "_view_module_version": "2.0.0",
       "_view_name": "HTMLView",
       "description": "",
       "description_allow_html": false,
       "layout": "IPY_MODEL_659b515d1cbd4030b05bb1ed190d0955",
       "placeholder": "​",
       "style": "IPY_MODEL_9886cd66f7564fde97d8d26a67729d00",
       "tabbable": null,
       "tooltip": null,
       "value": "config.json: 100%"
      }
     },
     "77b89ed73a7b4a63b8df7e4e1775eac5": {
      "model_module": "@jupyter-widgets/base",
      "model_module_version": "2.0.0",
      "model_name": "LayoutModel",
      "state": {
       "_model_module": "@jupyter-widgets/base",
       "_model_module_version": "2.0.0",
       "_model_name": "LayoutModel",
       "_view_count": null,
       "_view_module": "@jupyter-widgets/base",
       "_view_module_version": "2.0.0",
       "_view_name": "LayoutView",
       "align_content": null,
       "align_items": null,
       "align_self": null,
       "border_bottom": null,
       "border_left": null,
       "border_right": null,
       "border_top": null,
       "bottom": null,
       "display": null,
       "flex": null,
       "flex_flow": null,
       "grid_area": null,
       "grid_auto_columns": null,
       "grid_auto_flow": null,
       "grid_auto_rows": null,
       "grid_column": null,
       "grid_gap": null,
       "grid_row": null,
       "grid_template_areas": null,
       "grid_template_columns": null,
       "grid_template_rows": null,
       "height": null,
       "justify_content": null,
       "justify_items": null,
       "left": null,
       "margin": null,
       "max_height": null,
       "max_width": null,
       "min_height": null,
       "min_width": null,
       "object_fit": null,
       "object_position": null,
       "order": null,
       "overflow": null,
       "padding": null,
       "right": null,
       "top": null,
       "visibility": null,
       "width": null
      }
     },
     "7859bae5cf93490691866517574b3749": {
      "model_module": "@jupyter-widgets/base",
      "model_module_version": "2.0.0",
      "model_name": "LayoutModel",
      "state": {
       "_model_module": "@jupyter-widgets/base",
       "_model_module_version": "2.0.0",
       "_model_name": "LayoutModel",
       "_view_count": null,
       "_view_module": "@jupyter-widgets/base",
       "_view_module_version": "2.0.0",
       "_view_name": "LayoutView",
       "align_content": null,
       "align_items": null,
       "align_self": null,
       "border_bottom": null,
       "border_left": null,
       "border_right": null,
       "border_top": null,
       "bottom": null,
       "display": null,
       "flex": null,
       "flex_flow": null,
       "grid_area": null,
       "grid_auto_columns": null,
       "grid_auto_flow": null,
       "grid_auto_rows": null,
       "grid_column": null,
       "grid_gap": null,
       "grid_row": null,
       "grid_template_areas": null,
       "grid_template_columns": null,
       "grid_template_rows": null,
       "height": null,
       "justify_content": null,
       "justify_items": null,
       "left": null,
       "margin": null,
       "max_height": null,
       "max_width": null,
       "min_height": null,
       "min_width": null,
       "object_fit": null,
       "object_position": null,
       "order": null,
       "overflow": null,
       "padding": null,
       "right": null,
       "top": null,
       "visibility": null,
       "width": null
      }
     },
     "796ba0c3df4d4a5980a22656b1e152b3": {
      "model_module": "@jupyter-widgets/controls",
      "model_module_version": "2.0.0",
      "model_name": "ProgressStyleModel",
      "state": {
       "_model_module": "@jupyter-widgets/controls",
       "_model_module_version": "2.0.0",
       "_model_name": "ProgressStyleModel",
       "_view_count": null,
       "_view_module": "@jupyter-widgets/base",
       "_view_module_version": "2.0.0",
       "_view_name": "StyleView",
       "bar_color": null,
       "description_width": ""
      }
     },
     "7aeb081ed1e54f108780af9c12fcb2bb": {
      "model_module": "@jupyter-widgets/base",
      "model_module_version": "2.0.0",
      "model_name": "LayoutModel",
      "state": {
       "_model_module": "@jupyter-widgets/base",
       "_model_module_version": "2.0.0",
       "_model_name": "LayoutModel",
       "_view_count": null,
       "_view_module": "@jupyter-widgets/base",
       "_view_module_version": "2.0.0",
       "_view_name": "LayoutView",
       "align_content": null,
       "align_items": null,
       "align_self": null,
       "border_bottom": null,
       "border_left": null,
       "border_right": null,
       "border_top": null,
       "bottom": null,
       "display": null,
       "flex": null,
       "flex_flow": null,
       "grid_area": null,
       "grid_auto_columns": null,
       "grid_auto_flow": null,
       "grid_auto_rows": null,
       "grid_column": null,
       "grid_gap": null,
       "grid_row": null,
       "grid_template_areas": null,
       "grid_template_columns": null,
       "grid_template_rows": null,
       "height": null,
       "justify_content": null,
       "justify_items": null,
       "left": null,
       "margin": null,
       "max_height": null,
       "max_width": null,
       "min_height": null,
       "min_width": null,
       "object_fit": null,
       "object_position": null,
       "order": null,
       "overflow": null,
       "padding": null,
       "right": null,
       "top": null,
       "visibility": null,
       "width": null
      }
     },
     "7fb758d8963a49ebb9537ab2ee322ddf": {
      "model_module": "@jupyter-widgets/controls",
      "model_module_version": "2.0.0",
      "model_name": "HTMLStyleModel",
      "state": {
       "_model_module": "@jupyter-widgets/controls",
       "_model_module_version": "2.0.0",
       "_model_name": "HTMLStyleModel",
       "_view_count": null,
       "_view_module": "@jupyter-widgets/base",
       "_view_module_version": "2.0.0",
       "_view_name": "StyleView",
       "background": null,
       "description_width": "",
       "font_size": null,
       "text_color": null
      }
     },
     "7fe2c1e35d3d44678104d847554a088d": {
      "model_module": "@jupyter-widgets/controls",
      "model_module_version": "2.0.0",
      "model_name": "HTMLStyleModel",
      "state": {
       "_model_module": "@jupyter-widgets/controls",
       "_model_module_version": "2.0.0",
       "_model_name": "HTMLStyleModel",
       "_view_count": null,
       "_view_module": "@jupyter-widgets/base",
       "_view_module_version": "2.0.0",
       "_view_name": "StyleView",
       "background": null,
       "description_width": "",
       "font_size": null,
       "text_color": null
      }
     },
     "81a58e4716384755b7826a10dcb0d87c": {
      "model_module": "@jupyter-widgets/controls",
      "model_module_version": "2.0.0",
      "model_name": "HTMLModel",
      "state": {
       "_dom_classes": [],
       "_model_module": "@jupyter-widgets/controls",
       "_model_module_version": "2.0.0",
       "_model_name": "HTMLModel",
       "_view_count": null,
       "_view_module": "@jupyter-widgets/controls",
       "_view_module_version": "2.0.0",
       "_view_name": "HTMLView",
       "description": "",
       "description_allow_html": false,
       "layout": "IPY_MODEL_b52bc42116d64720a3a41f36faadb31d",
       "placeholder": "​",
       "style": "IPY_MODEL_55353d34720c446c8e7ffc61233fd7bd",
       "tabbable": null,
       "tooltip": null,
       "value": " 483/483 [00:00&lt;00:00, 61.7kB/s]"
      }
     },
     "847d7ad57d854daca3456e4b02d6bad9": {
      "model_module": "@jupyter-widgets/base",
      "model_module_version": "2.0.0",
      "model_name": "LayoutModel",
      "state": {
       "_model_module": "@jupyter-widgets/base",
       "_model_module_version": "2.0.0",
       "_model_name": "LayoutModel",
       "_view_count": null,
       "_view_module": "@jupyter-widgets/base",
       "_view_module_version": "2.0.0",
       "_view_name": "LayoutView",
       "align_content": null,
       "align_items": null,
       "align_self": null,
       "border_bottom": null,
       "border_left": null,
       "border_right": null,
       "border_top": null,
       "bottom": null,
       "display": null,
       "flex": null,
       "flex_flow": null,
       "grid_area": null,
       "grid_auto_columns": null,
       "grid_auto_flow": null,
       "grid_auto_rows": null,
       "grid_column": null,
       "grid_gap": null,
       "grid_row": null,
       "grid_template_areas": null,
       "grid_template_columns": null,
       "grid_template_rows": null,
       "height": null,
       "justify_content": null,
       "justify_items": null,
       "left": null,
       "margin": null,
       "max_height": null,
       "max_width": null,
       "min_height": null,
       "min_width": null,
       "object_fit": null,
       "object_position": null,
       "order": null,
       "overflow": null,
       "padding": null,
       "right": null,
       "top": null,
       "visibility": null,
       "width": null
      }
     },
     "876293e23c1140d2be55461725386996": {
      "model_module": "@jupyter-widgets/base",
      "model_module_version": "2.0.0",
      "model_name": "LayoutModel",
      "state": {
       "_model_module": "@jupyter-widgets/base",
       "_model_module_version": "2.0.0",
       "_model_name": "LayoutModel",
       "_view_count": null,
       "_view_module": "@jupyter-widgets/base",
       "_view_module_version": "2.0.0",
       "_view_name": "LayoutView",
       "align_content": null,
       "align_items": null,
       "align_self": null,
       "border_bottom": null,
       "border_left": null,
       "border_right": null,
       "border_top": null,
       "bottom": null,
       "display": null,
       "flex": null,
       "flex_flow": null,
       "grid_area": null,
       "grid_auto_columns": null,
       "grid_auto_flow": null,
       "grid_auto_rows": null,
       "grid_column": null,
       "grid_gap": null,
       "grid_row": null,
       "grid_template_areas": null,
       "grid_template_columns": null,
       "grid_template_rows": null,
       "height": null,
       "justify_content": null,
       "justify_items": null,
       "left": null,
       "margin": null,
       "max_height": null,
       "max_width": null,
       "min_height": null,
       "min_width": null,
       "object_fit": null,
       "object_position": null,
       "order": null,
       "overflow": null,
       "padding": null,
       "right": null,
       "top": null,
       "visibility": null,
       "width": null
      }
     },
     "87e2abeeef1840f28baa6095bd1dd34d": {
      "model_module": "@jupyter-widgets/controls",
      "model_module_version": "2.0.0",
      "model_name": "HTMLModel",
      "state": {
       "_dom_classes": [],
       "_model_module": "@jupyter-widgets/controls",
       "_model_module_version": "2.0.0",
       "_model_name": "HTMLModel",
       "_view_count": null,
       "_view_module": "@jupyter-widgets/controls",
       "_view_module_version": "2.0.0",
       "_view_name": "HTMLView",
       "description": "",
       "description_allow_html": false,
       "layout": "IPY_MODEL_7859bae5cf93490691866517574b3749",
       "placeholder": "​",
       "style": "IPY_MODEL_66fab7686e194d60a7e69cc4de746f8e",
       "tabbable": null,
       "tooltip": null,
       "value": "tokenizer.json: 100%"
      }
     },
     "96ad56ada1e743e69f7ac1d815d4e2b9": {
      "model_module": "@jupyter-widgets/controls",
      "model_module_version": "2.0.0",
      "model_name": "HBoxModel",
      "state": {
       "_dom_classes": [],
       "_model_module": "@jupyter-widgets/controls",
       "_model_module_version": "2.0.0",
       "_model_name": "HBoxModel",
       "_view_count": null,
       "_view_module": "@jupyter-widgets/controls",
       "_view_module_version": "2.0.0",
       "_view_name": "HBoxView",
       "box_style": "",
       "children": [
        "IPY_MODEL_51ed482f1f9d4a0293344c25262f5c21",
        "IPY_MODEL_62ec167884e648e4b894004eac10fa64",
        "IPY_MODEL_ae0ef51c28bf41dfbb3e447f6c58ac7f"
       ],
       "layout": "IPY_MODEL_345e525f204d403cbf7d39493addb82d",
       "tabbable": null,
       "tooltip": null
      }
     },
     "9886cd66f7564fde97d8d26a67729d00": {
      "model_module": "@jupyter-widgets/controls",
      "model_module_version": "2.0.0",
      "model_name": "HTMLStyleModel",
      "state": {
       "_model_module": "@jupyter-widgets/controls",
       "_model_module_version": "2.0.0",
       "_model_name": "HTMLStyleModel",
       "_view_count": null,
       "_view_module": "@jupyter-widgets/base",
       "_view_module_version": "2.0.0",
       "_view_name": "StyleView",
       "background": null,
       "description_width": "",
       "font_size": null,
       "text_color": null
      }
     },
     "a0c4b699b215487288c4d4d3603060ce": {
      "model_module": "@jupyter-widgets/base",
      "model_module_version": "2.0.0",
      "model_name": "LayoutModel",
      "state": {
       "_model_module": "@jupyter-widgets/base",
       "_model_module_version": "2.0.0",
       "_model_name": "LayoutModel",
       "_view_count": null,
       "_view_module": "@jupyter-widgets/base",
       "_view_module_version": "2.0.0",
       "_view_name": "LayoutView",
       "align_content": null,
       "align_items": null,
       "align_self": null,
       "border_bottom": null,
       "border_left": null,
       "border_right": null,
       "border_top": null,
       "bottom": null,
       "display": null,
       "flex": null,
       "flex_flow": null,
       "grid_area": null,
       "grid_auto_columns": null,
       "grid_auto_flow": null,
       "grid_auto_rows": null,
       "grid_column": null,
       "grid_gap": null,
       "grid_row": null,
       "grid_template_areas": null,
       "grid_template_columns": null,
       "grid_template_rows": null,
       "height": null,
       "justify_content": null,
       "justify_items": null,
       "left": null,
       "margin": null,
       "max_height": null,
       "max_width": null,
       "min_height": null,
       "min_width": null,
       "object_fit": null,
       "object_position": null,
       "order": null,
       "overflow": null,
       "padding": null,
       "right": null,
       "top": null,
       "visibility": null,
       "width": null
      }
     },
     "a1c45f8ce2384f76861d5afa717c38f7": {
      "model_module": "@jupyter-widgets/controls",
      "model_module_version": "2.0.0",
      "model_name": "FloatProgressModel",
      "state": {
       "_dom_classes": [],
       "_model_module": "@jupyter-widgets/controls",
       "_model_module_version": "2.0.0",
       "_model_name": "FloatProgressModel",
       "_view_count": null,
       "_view_module": "@jupyter-widgets/controls",
       "_view_module_version": "2.0.0",
       "_view_name": "ProgressView",
       "bar_style": "success",
       "description": "",
       "description_allow_html": false,
       "layout": "IPY_MODEL_876293e23c1140d2be55461725386996",
       "max": 267954768.0,
       "min": 0.0,
       "orientation": "horizontal",
       "style": "IPY_MODEL_fcaccad6827c4e2e859f4170c20951d8",
       "tabbable": null,
       "tooltip": null,
       "value": 267954768.0
      }
     },
     "ac82666f9d8b4c129f4724e18073ffc3": {
      "model_module": "@jupyter-widgets/controls",
      "model_module_version": "2.0.0",
      "model_name": "HBoxModel",
      "state": {
       "_dom_classes": [],
       "_model_module": "@jupyter-widgets/controls",
       "_model_module_version": "2.0.0",
       "_model_name": "HBoxModel",
       "_view_count": null,
       "_view_module": "@jupyter-widgets/controls",
       "_view_module_version": "2.0.0",
       "_view_name": "HBoxView",
       "box_style": "",
       "children": [
        "IPY_MODEL_bc19bdebbcf048bd98cc819d66240955",
        "IPY_MODEL_60977ac11aad417994292fc44e09d45a",
        "IPY_MODEL_d65c83ad49f14e21813212abb5672706"
       ],
       "layout": "IPY_MODEL_defe58725dce4e7ba0f78d768dd04d25",
       "tabbable": null,
       "tooltip": null
      }
     },
     "ae0ef51c28bf41dfbb3e447f6c58ac7f": {
      "model_module": "@jupyter-widgets/controls",
      "model_module_version": "2.0.0",
      "model_name": "HTMLModel",
      "state": {
       "_dom_classes": [],
       "_model_module": "@jupyter-widgets/controls",
       "_model_module_version": "2.0.0",
       "_model_name": "HTMLModel",
       "_view_count": null,
       "_view_module": "@jupyter-widgets/controls",
       "_view_module_version": "2.0.0",
       "_view_name": "HTMLView",
       "description": "",
       "description_allow_html": false,
       "layout": "IPY_MODEL_cfcfd9b24ee141ffa2bc089889d70218",
       "placeholder": "​",
       "style": "IPY_MODEL_070d56b8164a436891654564b0f3ab46",
       "tabbable": null,
       "tooltip": null,
       "value": " 232k/232k [00:00&lt;00:00, 9.74MB/s]"
      }
     },
     "b52bc42116d64720a3a41f36faadb31d": {
      "model_module": "@jupyter-widgets/base",
      "model_module_version": "2.0.0",
      "model_name": "LayoutModel",
      "state": {
       "_model_module": "@jupyter-widgets/base",
       "_model_module_version": "2.0.0",
       "_model_name": "LayoutModel",
       "_view_count": null,
       "_view_module": "@jupyter-widgets/base",
       "_view_module_version": "2.0.0",
       "_view_name": "LayoutView",
       "align_content": null,
       "align_items": null,
       "align_self": null,
       "border_bottom": null,
       "border_left": null,
       "border_right": null,
       "border_top": null,
       "bottom": null,
       "display": null,
       "flex": null,
       "flex_flow": null,
       "grid_area": null,
       "grid_auto_columns": null,
       "grid_auto_flow": null,
       "grid_auto_rows": null,
       "grid_column": null,
       "grid_gap": null,
       "grid_row": null,
       "grid_template_areas": null,
       "grid_template_columns": null,
       "grid_template_rows": null,
       "height": null,
       "justify_content": null,
       "justify_items": null,
       "left": null,
       "margin": null,
       "max_height": null,
       "max_width": null,
       "min_height": null,
       "min_width": null,
       "object_fit": null,
       "object_position": null,
       "order": null,
       "overflow": null,
       "padding": null,
       "right": null,
       "top": null,
       "visibility": null,
       "width": null
      }
     },
     "bc19bdebbcf048bd98cc819d66240955": {
      "model_module": "@jupyter-widgets/controls",
      "model_module_version": "2.0.0",
      "model_name": "HTMLModel",
      "state": {
       "_dom_classes": [],
       "_model_module": "@jupyter-widgets/controls",
       "_model_module_version": "2.0.0",
       "_model_name": "HTMLModel",
       "_view_count": null,
       "_view_module": "@jupyter-widgets/controls",
       "_view_module_version": "2.0.0",
       "_view_name": "HTMLView",
       "description": "",
       "description_allow_html": false,
       "layout": "IPY_MODEL_a0c4b699b215487288c4d4d3603060ce",
       "placeholder": "​",
       "style": "IPY_MODEL_6388605c3c02460f8b26d632f2053659",
       "tabbable": null,
       "tooltip": null,
       "value": "tokenizer_config.json: 100%"
      }
     },
     "c0d47f4634244fb0a4e22e74d479fd78": {
      "model_module": "@jupyter-widgets/base",
      "model_module_version": "2.0.0",
      "model_name": "LayoutModel",
      "state": {
       "_model_module": "@jupyter-widgets/base",
       "_model_module_version": "2.0.0",
       "_model_name": "LayoutModel",
       "_view_count": null,
       "_view_module": "@jupyter-widgets/base",
       "_view_module_version": "2.0.0",
       "_view_name": "LayoutView",
       "align_content": null,
       "align_items": null,
       "align_self": null,
       "border_bottom": null,
       "border_left": null,
       "border_right": null,
       "border_top": null,
       "bottom": null,
       "display": null,
       "flex": null,
       "flex_flow": null,
       "grid_area": null,
       "grid_auto_columns": null,
       "grid_auto_flow": null,
       "grid_auto_rows": null,
       "grid_column": null,
       "grid_gap": null,
       "grid_row": null,
       "grid_template_areas": null,
       "grid_template_columns": null,
       "grid_template_rows": null,
       "height": null,
       "justify_content": null,
       "justify_items": null,
       "left": null,
       "margin": null,
       "max_height": null,
       "max_width": null,
       "min_height": null,
       "min_width": null,
       "object_fit": null,
       "object_position": null,
       "order": null,
       "overflow": null,
       "padding": null,
       "right": null,
       "top": null,
       "visibility": null,
       "width": null
      }
     },
     "c45c8c6ff18241a09b7932af4f711d1a": {
      "model_module": "@jupyter-widgets/controls",
      "model_module_version": "2.0.0",
      "model_name": "HTMLStyleModel",
      "state": {
       "_model_module": "@jupyter-widgets/controls",
       "_model_module_version": "2.0.0",
       "_model_name": "HTMLStyleModel",
       "_view_count": null,
       "_view_module": "@jupyter-widgets/base",
       "_view_module_version": "2.0.0",
       "_view_name": "StyleView",
       "background": null,
       "description_width": "",
       "font_size": null,
       "text_color": null
      }
     },
     "c95475491ecb40b4a1f62200497777c5": {
      "model_module": "@jupyter-widgets/controls",
      "model_module_version": "2.0.0",
      "model_name": "HTMLModel",
      "state": {
       "_dom_classes": [],
       "_model_module": "@jupyter-widgets/controls",
       "_model_module_version": "2.0.0",
       "_model_name": "HTMLModel",
       "_view_count": null,
       "_view_module": "@jupyter-widgets/controls",
       "_view_module_version": "2.0.0",
       "_view_name": "HTMLView",
       "description": "",
       "description_allow_html": false,
       "layout": "IPY_MODEL_e7812dda721545a5aa83e946ed47142b",
       "placeholder": "​",
       "style": "IPY_MODEL_7fb758d8963a49ebb9537ab2ee322ddf",
       "tabbable": null,
       "tooltip": null,
       "value": "model.safetensors: 100%"
      }
     },
     "cbcc29a05a3b4f188e4077fcff5f6be6": {
      "model_module": "@jupyter-widgets/controls",
      "model_module_version": "2.0.0",
      "model_name": "HBoxModel",
      "state": {
       "_dom_classes": [],
       "_model_module": "@jupyter-widgets/controls",
       "_model_module_version": "2.0.0",
       "_model_name": "HBoxModel",
       "_view_count": null,
       "_view_module": "@jupyter-widgets/controls",
       "_view_module_version": "2.0.0",
       "_view_name": "HBoxView",
       "box_style": "",
       "children": [
        "IPY_MODEL_87e2abeeef1840f28baa6095bd1dd34d",
        "IPY_MODEL_db27d8094255449d96bc2be272445614",
        "IPY_MODEL_e73b7aaf9ea04056a37f4e5d82eb182f"
       ],
       "layout": "IPY_MODEL_fc02d2ba2e86474aba9285187a9e54dc",
       "tabbable": null,
       "tooltip": null
      }
     },
     "cd033959a9854b7bbc07d6c012f9eb4d": {
      "model_module": "@jupyter-widgets/controls",
      "model_module_version": "2.0.0",
      "model_name": "HBoxModel",
      "state": {
       "_dom_classes": [],
       "_model_module": "@jupyter-widgets/controls",
       "_model_module_version": "2.0.0",
       "_model_name": "HBoxModel",
       "_view_count": null,
       "_view_module": "@jupyter-widgets/controls",
       "_view_module_version": "2.0.0",
       "_view_name": "HBoxView",
       "box_style": "",
       "children": [
        "IPY_MODEL_768fa0c1f63940c994812d063d219b8f",
        "IPY_MODEL_da59508fc4a3407fa1bcac7b8b943789",
        "IPY_MODEL_81a58e4716384755b7826a10dcb0d87c"
       ],
       "layout": "IPY_MODEL_52115b81485443fba054623b6f1dc744",
       "tabbable": null,
       "tooltip": null
      }
     },
     "cfcfd9b24ee141ffa2bc089889d70218": {
      "model_module": "@jupyter-widgets/base",
      "model_module_version": "2.0.0",
      "model_name": "LayoutModel",
      "state": {
       "_model_module": "@jupyter-widgets/base",
       "_model_module_version": "2.0.0",
       "_model_name": "LayoutModel",
       "_view_count": null,
       "_view_module": "@jupyter-widgets/base",
       "_view_module_version": "2.0.0",
       "_view_name": "LayoutView",
       "align_content": null,
       "align_items": null,
       "align_self": null,
       "border_bottom": null,
       "border_left": null,
       "border_right": null,
       "border_top": null,
       "bottom": null,
       "display": null,
       "flex": null,
       "flex_flow": null,
       "grid_area": null,
       "grid_auto_columns": null,
       "grid_auto_flow": null,
       "grid_auto_rows": null,
       "grid_column": null,
       "grid_gap": null,
       "grid_row": null,
       "grid_template_areas": null,
       "grid_template_columns": null,
       "grid_template_rows": null,
       "height": null,
       "justify_content": null,
       "justify_items": null,
       "left": null,
       "margin": null,
       "max_height": null,
       "max_width": null,
       "min_height": null,
       "min_width": null,
       "object_fit": null,
       "object_position": null,
       "order": null,
       "overflow": null,
       "padding": null,
       "right": null,
       "top": null,
       "visibility": null,
       "width": null
      }
     },
     "d65c83ad49f14e21813212abb5672706": {
      "model_module": "@jupyter-widgets/controls",
      "model_module_version": "2.0.0",
      "model_name": "HTMLModel",
      "state": {
       "_dom_classes": [],
       "_model_module": "@jupyter-widgets/controls",
       "_model_module_version": "2.0.0",
       "_model_name": "HTMLModel",
       "_view_count": null,
       "_view_module": "@jupyter-widgets/controls",
       "_view_module_version": "2.0.0",
       "_view_name": "HTMLView",
       "description": "",
       "description_allow_html": false,
       "layout": "IPY_MODEL_c0d47f4634244fb0a4e22e74d479fd78",
       "placeholder": "​",
       "style": "IPY_MODEL_7fe2c1e35d3d44678104d847554a088d",
       "tabbable": null,
       "tooltip": null,
       "value": " 48.0/48.0 [00:00&lt;00:00, 6.06kB/s]"
      }
     },
     "da59508fc4a3407fa1bcac7b8b943789": {
      "model_module": "@jupyter-widgets/controls",
      "model_module_version": "2.0.0",
      "model_name": "FloatProgressModel",
      "state": {
       "_dom_classes": [],
       "_model_module": "@jupyter-widgets/controls",
       "_model_module_version": "2.0.0",
       "_model_name": "FloatProgressModel",
       "_view_count": null,
       "_view_module": "@jupyter-widgets/controls",
       "_view_module_version": "2.0.0",
       "_view_name": "ProgressView",
       "bar_style": "success",
       "description": "",
       "description_allow_html": false,
       "layout": "IPY_MODEL_e4d4e88ed679457db0e0ee99be348e5e",
       "max": 483.0,
       "min": 0.0,
       "orientation": "horizontal",
       "style": "IPY_MODEL_796ba0c3df4d4a5980a22656b1e152b3",
       "tabbable": null,
       "tooltip": null,
       "value": 483.0
      }
     },
     "db27d8094255449d96bc2be272445614": {
      "model_module": "@jupyter-widgets/controls",
      "model_module_version": "2.0.0",
      "model_name": "FloatProgressModel",
      "state": {
       "_dom_classes": [],
       "_model_module": "@jupyter-widgets/controls",
       "_model_module_version": "2.0.0",
       "_model_name": "FloatProgressModel",
       "_view_count": null,
       "_view_module": "@jupyter-widgets/controls",
       "_view_module_version": "2.0.0",
       "_view_name": "ProgressView",
       "bar_style": "success",
       "description": "",
       "description_allow_html": false,
       "layout": "IPY_MODEL_fafb6374cd80433cbebfb7f9def6e1d0",
       "max": 466062.0,
       "min": 0.0,
       "orientation": "horizontal",
       "style": "IPY_MODEL_4653cfe83cba48d5bf62bf8a264135e7",
       "tabbable": null,
       "tooltip": null,
       "value": 466062.0
      }
     },
     "defe58725dce4e7ba0f78d768dd04d25": {
      "model_module": "@jupyter-widgets/base",
      "model_module_version": "2.0.0",
      "model_name": "LayoutModel",
      "state": {
       "_model_module": "@jupyter-widgets/base",
       "_model_module_version": "2.0.0",
       "_model_name": "LayoutModel",
       "_view_count": null,
       "_view_module": "@jupyter-widgets/base",
       "_view_module_version": "2.0.0",
       "_view_name": "LayoutView",
       "align_content": null,
       "align_items": null,
       "align_self": null,
       "border_bottom": null,
       "border_left": null,
       "border_right": null,
       "border_top": null,
       "bottom": null,
       "display": null,
       "flex": null,
       "flex_flow": null,
       "grid_area": null,
       "grid_auto_columns": null,
       "grid_auto_flow": null,
       "grid_auto_rows": null,
       "grid_column": null,
       "grid_gap": null,
       "grid_row": null,
       "grid_template_areas": null,
       "grid_template_columns": null,
       "grid_template_rows": null,
       "height": null,
       "justify_content": null,
       "justify_items": null,
       "left": null,
       "margin": null,
       "max_height": null,
       "max_width": null,
       "min_height": null,
       "min_width": null,
       "object_fit": null,
       "object_position": null,
       "order": null,
       "overflow": null,
       "padding": null,
       "right": null,
       "top": null,
       "visibility": null,
       "width": null
      }
     },
     "e39bf23ee8cd43b6b913025510da2a17": {
      "model_module": "@jupyter-widgets/controls",
      "model_module_version": "2.0.0",
      "model_name": "HTMLStyleModel",
      "state": {
       "_model_module": "@jupyter-widgets/controls",
       "_model_module_version": "2.0.0",
       "_model_name": "HTMLStyleModel",
       "_view_count": null,
       "_view_module": "@jupyter-widgets/base",
       "_view_module_version": "2.0.0",
       "_view_name": "StyleView",
       "background": null,
       "description_width": "",
       "font_size": null,
       "text_color": null
      }
     },
     "e4d4e88ed679457db0e0ee99be348e5e": {
      "model_module": "@jupyter-widgets/base",
      "model_module_version": "2.0.0",
      "model_name": "LayoutModel",
      "state": {
       "_model_module": "@jupyter-widgets/base",
       "_model_module_version": "2.0.0",
       "_model_name": "LayoutModel",
       "_view_count": null,
       "_view_module": "@jupyter-widgets/base",
       "_view_module_version": "2.0.0",
       "_view_name": "LayoutView",
       "align_content": null,
       "align_items": null,
       "align_self": null,
       "border_bottom": null,
       "border_left": null,
       "border_right": null,
       "border_top": null,
       "bottom": null,
       "display": null,
       "flex": null,
       "flex_flow": null,
       "grid_area": null,
       "grid_auto_columns": null,
       "grid_auto_flow": null,
       "grid_auto_rows": null,
       "grid_column": null,
       "grid_gap": null,
       "grid_row": null,
       "grid_template_areas": null,
       "grid_template_columns": null,
       "grid_template_rows": null,
       "height": null,
       "justify_content": null,
       "justify_items": null,
       "left": null,
       "margin": null,
       "max_height": null,
       "max_width": null,
       "min_height": null,
       "min_width": null,
       "object_fit": null,
       "object_position": null,
       "order": null,
       "overflow": null,
       "padding": null,
       "right": null,
       "top": null,
       "visibility": null,
       "width": null
      }
     },
     "e73b7aaf9ea04056a37f4e5d82eb182f": {
      "model_module": "@jupyter-widgets/controls",
      "model_module_version": "2.0.0",
      "model_name": "HTMLModel",
      "state": {
       "_dom_classes": [],
       "_model_module": "@jupyter-widgets/controls",
       "_model_module_version": "2.0.0",
       "_model_name": "HTMLModel",
       "_view_count": null,
       "_view_module": "@jupyter-widgets/controls",
       "_view_module_version": "2.0.0",
       "_view_name": "HTMLView",
       "description": "",
       "description_allow_html": false,
       "layout": "IPY_MODEL_fb0e68230adb4ca4ba4370c6600579f7",
       "placeholder": "​",
       "style": "IPY_MODEL_c45c8c6ff18241a09b7932af4f711d1a",
       "tabbable": null,
       "tooltip": null,
       "value": " 466k/466k [00:00&lt;00:00, 7.14MB/s]"
      }
     },
     "e7812dda721545a5aa83e946ed47142b": {
      "model_module": "@jupyter-widgets/base",
      "model_module_version": "2.0.0",
      "model_name": "LayoutModel",
      "state": {
       "_model_module": "@jupyter-widgets/base",
       "_model_module_version": "2.0.0",
       "_model_name": "LayoutModel",
       "_view_count": null,
       "_view_module": "@jupyter-widgets/base",
       "_view_module_version": "2.0.0",
       "_view_name": "LayoutView",
       "align_content": null,
       "align_items": null,
       "align_self": null,
       "border_bottom": null,
       "border_left": null,
       "border_right": null,
       "border_top": null,
       "bottom": null,
       "display": null,
       "flex": null,
       "flex_flow": null,
       "grid_area": null,
       "grid_auto_columns": null,
       "grid_auto_flow": null,
       "grid_auto_rows": null,
       "grid_column": null,
       "grid_gap": null,
       "grid_row": null,
       "grid_template_areas": null,
       "grid_template_columns": null,
       "grid_template_rows": null,
       "height": null,
       "justify_content": null,
       "justify_items": null,
       "left": null,
       "margin": null,
       "max_height": null,
       "max_width": null,
       "min_height": null,
       "min_width": null,
       "object_fit": null,
       "object_position": null,
       "order": null,
       "overflow": null,
       "padding": null,
       "right": null,
       "top": null,
       "visibility": null,
       "width": null
      }
     },
     "f309f25e80564032b16f3d84929909d0": {
      "model_module": "@jupyter-widgets/controls",
      "model_module_version": "2.0.0",
      "model_name": "HTMLModel",
      "state": {
       "_dom_classes": [],
       "_model_module": "@jupyter-widgets/controls",
       "_model_module_version": "2.0.0",
       "_model_name": "HTMLModel",
       "_view_count": null,
       "_view_module": "@jupyter-widgets/controls",
       "_view_module_version": "2.0.0",
       "_view_name": "HTMLView",
       "description": "",
       "description_allow_html": false,
       "layout": "IPY_MODEL_7aeb081ed1e54f108780af9c12fcb2bb",
       "placeholder": "​",
       "style": "IPY_MODEL_e39bf23ee8cd43b6b913025510da2a17",
       "tabbable": null,
       "tooltip": null,
       "value": " 268M/268M [00:01&lt;00:00, 190MB/s]"
      }
     },
     "fafb6374cd80433cbebfb7f9def6e1d0": {
      "model_module": "@jupyter-widgets/base",
      "model_module_version": "2.0.0",
      "model_name": "LayoutModel",
      "state": {
       "_model_module": "@jupyter-widgets/base",
       "_model_module_version": "2.0.0",
       "_model_name": "LayoutModel",
       "_view_count": null,
       "_view_module": "@jupyter-widgets/base",
       "_view_module_version": "2.0.0",
       "_view_name": "LayoutView",
       "align_content": null,
       "align_items": null,
       "align_self": null,
       "border_bottom": null,
       "border_left": null,
       "border_right": null,
       "border_top": null,
       "bottom": null,
       "display": null,
       "flex": null,
       "flex_flow": null,
       "grid_area": null,
       "grid_auto_columns": null,
       "grid_auto_flow": null,
       "grid_auto_rows": null,
       "grid_column": null,
       "grid_gap": null,
       "grid_row": null,
       "grid_template_areas": null,
       "grid_template_columns": null,
       "grid_template_rows": null,
       "height": null,
       "justify_content": null,
       "justify_items": null,
       "left": null,
       "margin": null,
       "max_height": null,
       "max_width": null,
       "min_height": null,
       "min_width": null,
       "object_fit": null,
       "object_position": null,
       "order": null,
       "overflow": null,
       "padding": null,
       "right": null,
       "top": null,
       "visibility": null,
       "width": null
      }
     },
     "fb0e68230adb4ca4ba4370c6600579f7": {
      "model_module": "@jupyter-widgets/base",
      "model_module_version": "2.0.0",
      "model_name": "LayoutModel",
      "state": {
       "_model_module": "@jupyter-widgets/base",
       "_model_module_version": "2.0.0",
       "_model_name": "LayoutModel",
       "_view_count": null,
       "_view_module": "@jupyter-widgets/base",
       "_view_module_version": "2.0.0",
       "_view_name": "LayoutView",
       "align_content": null,
       "align_items": null,
       "align_self": null,
       "border_bottom": null,
       "border_left": null,
       "border_right": null,
       "border_top": null,
       "bottom": null,
       "display": null,
       "flex": null,
       "flex_flow": null,
       "grid_area": null,
       "grid_auto_columns": null,
       "grid_auto_flow": null,
       "grid_auto_rows": null,
       "grid_column": null,
       "grid_gap": null,
       "grid_row": null,
       "grid_template_areas": null,
       "grid_template_columns": null,
       "grid_template_rows": null,
       "height": null,
       "justify_content": null,
       "justify_items": null,
       "left": null,
       "margin": null,
       "max_height": null,
       "max_width": null,
       "min_height": null,
       "min_width": null,
       "object_fit": null,
       "object_position": null,
       "order": null,
       "overflow": null,
       "padding": null,
       "right": null,
       "top": null,
       "visibility": null,
       "width": null
      }
     },
     "fc02d2ba2e86474aba9285187a9e54dc": {
      "model_module": "@jupyter-widgets/base",
      "model_module_version": "2.0.0",
      "model_name": "LayoutModel",
      "state": {
       "_model_module": "@jupyter-widgets/base",
       "_model_module_version": "2.0.0",
       "_model_name": "LayoutModel",
       "_view_count": null,
       "_view_module": "@jupyter-widgets/base",
       "_view_module_version": "2.0.0",
       "_view_name": "LayoutView",
       "align_content": null,
       "align_items": null,
       "align_self": null,
       "border_bottom": null,
       "border_left": null,
       "border_right": null,
       "border_top": null,
       "bottom": null,
       "display": null,
       "flex": null,
       "flex_flow": null,
       "grid_area": null,
       "grid_auto_columns": null,
       "grid_auto_flow": null,
       "grid_auto_rows": null,
       "grid_column": null,
       "grid_gap": null,
       "grid_row": null,
       "grid_template_areas": null,
       "grid_template_columns": null,
       "grid_template_rows": null,
       "height": null,
       "justify_content": null,
       "justify_items": null,
       "left": null,
       "margin": null,
       "max_height": null,
       "max_width": null,
       "min_height": null,
       "min_width": null,
       "object_fit": null,
       "object_position": null,
       "order": null,
       "overflow": null,
       "padding": null,
       "right": null,
       "top": null,
       "visibility": null,
       "width": null
      }
     },
     "fcaccad6827c4e2e859f4170c20951d8": {
      "model_module": "@jupyter-widgets/controls",
      "model_module_version": "2.0.0",
      "model_name": "ProgressStyleModel",
      "state": {
       "_model_module": "@jupyter-widgets/controls",
       "_model_module_version": "2.0.0",
       "_model_name": "ProgressStyleModel",
       "_view_count": null,
       "_view_module": "@jupyter-widgets/base",
       "_view_module_version": "2.0.0",
       "_view_name": "StyleView",
       "bar_color": null,
       "description_width": ""
      }
     }
    },
    "version_major": 2,
    "version_minor": 0
   }
  }
 },
 "nbformat": 4,
 "nbformat_minor": 5
}
